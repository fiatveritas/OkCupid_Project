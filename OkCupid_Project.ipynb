{
 "cells": [
  {
   "cell_type": "markdown",
   "metadata": {},
   "source": [
    "<h1>Exploring OkCupid Dataset</h1>"
   ]
  },
  {
   "cell_type": "markdown",
   "metadata": {},
   "source": [
    "<h2>Packages installed</h2>"
   ]
  },
  {
   "cell_type": "code",
   "execution_count": 1,
   "metadata": {},
   "outputs": [
    {
     "name": "stdout",
     "output_type": "stream",
     "text": [
      "pandas version is 0.20.2.\n",
      "numpy version is 1.13.1.\n",
      "scikit-learn version is 0.18.2.\n",
      "seaborn version is 0.7.1.\n",
      "matplotlib version is 2.0.2.\n"
     ]
    }
   ],
   "source": [
    "import pandas as pd\n",
    "import numpy as np\n",
    "import sklearn\n",
    "import seaborn as sns\n",
    "import matplotlib\n",
    "import matplotlib.pyplot as plt\n",
    "import helper as hp ###function I coded for this project\n",
    "from IPython.display import display\n",
    "%matplotlib inline\n",
    "pd.set_option('display.max_columns', None)\n",
    "#pd.set_option('display.max_rows', None)\n",
    "\n",
    "print('pandas version is {}.'.format(pd.__version__))\n",
    "print('numpy version is {}.'.format(np.__version__))\n",
    "print('scikit-learn version is {}.'.format(sklearn.__version__))\n",
    "print('seaborn version is {}.'.format(sns.__version__))\n",
    "print('matplotlib version is {}.'.format(matplotlib.__version__))"
   ]
  },
  {
   "cell_type": "markdown",
   "metadata": {},
   "source": [
    "<h2>Loading the Dataset</h2>"
   ]
  },
  {
   "cell_type": "code",
   "execution_count": 2,
   "metadata": {},
   "outputs": [
    {
     "name": "stdout",
     "output_type": "stream",
     "text": [
      "This set has 59946 data points and 31 features.\n"
     ]
    }
   ],
   "source": [
    "data = pd.read_csv(\"profiles.csv\")\n",
    "print(\"This set has {} data points and {} features.\".format(*data.shape))"
   ]
  },
  {
   "cell_type": "code",
   "execution_count": 3,
   "metadata": {},
   "outputs": [
    {
     "name": "stdout",
     "output_type": "stream",
     "text": [
      "age, body_type, diet, drinks, drugs, education, essay0, essay1, essay2, essay3, essay4, essay5, essay6, essay7, essay8, essay9, ethnicity, height, income, job, last_online, location, offspring, orientation, pets, religion, sex, sign, smokes, speaks, status, "
     ]
    }
   ],
   "source": [
    "for i in data.columns:\n",
    "    print (i, end = \", \")"
   ]
  },
  {
   "cell_type": "markdown",
   "metadata": {},
   "source": [
    "<h2>Dividing the Population by Gender</h2>"
   ]
  },
  {
   "cell_type": "code",
   "execution_count": 4,
   "metadata": {
    "collapsed": true
   },
   "outputs": [],
   "source": [
    "males = data[data['sex'] == 'm'].copy()\n",
    "females = data[data['sex'] == 'f'].copy()"
   ]
  },
  {
   "cell_type": "code",
   "execution_count": 5,
   "metadata": {},
   "outputs": [
    {
     "name": "stdout",
     "output_type": "stream",
     "text": [
      "This data set has 35829 males and 24117 females\n",
      "male:female ratio = 1.49\n"
     ]
    }
   ],
   "source": [
    "print(\"This data set has {} males and {} females\".format(males['sex'].count(), females['sex'].count()))\n",
    "print(\"male:female ratio = {0:.{1}f}\".format(males['sex'].count() / females['sex'].count(), 2))"
   ]
  },
  {
   "cell_type": "markdown",
   "metadata": {},
   "source": [
    "<h2>Basic Summary (both populations)</h2>"
   ]
  },
  {
   "cell_type": "code",
   "execution_count": 6,
   "metadata": {},
   "outputs": [
    {
     "data": {
      "text/html": [
       "<div>\n",
       "<style>\n",
       "    .dataframe thead tr:only-child th {\n",
       "        text-align: right;\n",
       "    }\n",
       "\n",
       "    .dataframe thead th {\n",
       "        text-align: left;\n",
       "    }\n",
       "\n",
       "    .dataframe tbody tr th {\n",
       "        vertical-align: top;\n",
       "    }\n",
       "</style>\n",
       "<table border=\"1\" class=\"dataframe\">\n",
       "  <thead>\n",
       "    <tr style=\"text-align: right;\">\n",
       "      <th></th>\n",
       "      <th>age</th>\n",
       "      <th>height</th>\n",
       "      <th>income</th>\n",
       "    </tr>\n",
       "  </thead>\n",
       "  <tbody>\n",
       "    <tr>\n",
       "      <th>count</th>\n",
       "      <td>59946.000000</td>\n",
       "      <td>59943.000000</td>\n",
       "      <td>59946.000000</td>\n",
       "    </tr>\n",
       "    <tr>\n",
       "      <th>mean</th>\n",
       "      <td>32.340290</td>\n",
       "      <td>68.295281</td>\n",
       "      <td>20033.222534</td>\n",
       "    </tr>\n",
       "    <tr>\n",
       "      <th>std</th>\n",
       "      <td>9.452779</td>\n",
       "      <td>3.994803</td>\n",
       "      <td>97346.192104</td>\n",
       "    </tr>\n",
       "    <tr>\n",
       "      <th>min</th>\n",
       "      <td>18.000000</td>\n",
       "      <td>1.000000</td>\n",
       "      <td>-1.000000</td>\n",
       "    </tr>\n",
       "    <tr>\n",
       "      <th>25%</th>\n",
       "      <td>26.000000</td>\n",
       "      <td>66.000000</td>\n",
       "      <td>-1.000000</td>\n",
       "    </tr>\n",
       "    <tr>\n",
       "      <th>50%</th>\n",
       "      <td>30.000000</td>\n",
       "      <td>68.000000</td>\n",
       "      <td>-1.000000</td>\n",
       "    </tr>\n",
       "    <tr>\n",
       "      <th>75%</th>\n",
       "      <td>37.000000</td>\n",
       "      <td>71.000000</td>\n",
       "      <td>-1.000000</td>\n",
       "    </tr>\n",
       "    <tr>\n",
       "      <th>max</th>\n",
       "      <td>110.000000</td>\n",
       "      <td>95.000000</td>\n",
       "      <td>1000000.000000</td>\n",
       "    </tr>\n",
       "  </tbody>\n",
       "</table>\n",
       "</div>"
      ],
      "text/plain": [
       "                age        height          income\n",
       "count  59946.000000  59943.000000    59946.000000\n",
       "mean      32.340290     68.295281    20033.222534\n",
       "std        9.452779      3.994803    97346.192104\n",
       "min       18.000000      1.000000       -1.000000\n",
       "25%       26.000000     66.000000       -1.000000\n",
       "50%       30.000000     68.000000       -1.000000\n",
       "75%       37.000000     71.000000       -1.000000\n",
       "max      110.000000     95.000000  1000000.000000"
      ]
     },
     "execution_count": 6,
     "metadata": {},
     "output_type": "execute_result"
    }
   ],
   "source": [
    "data.describe()"
   ]
  },
  {
   "cell_type": "markdown",
   "metadata": {},
   "source": [
    "<h2>Basic Summary (Males)</h2>"
   ]
  },
  {
   "cell_type": "code",
   "execution_count": 7,
   "metadata": {
    "scrolled": true
   },
   "outputs": [
    {
     "data": {
      "text/html": [
       "<div>\n",
       "<style>\n",
       "    .dataframe thead tr:only-child th {\n",
       "        text-align: right;\n",
       "    }\n",
       "\n",
       "    .dataframe thead th {\n",
       "        text-align: left;\n",
       "    }\n",
       "\n",
       "    .dataframe tbody tr th {\n",
       "        vertical-align: top;\n",
       "    }\n",
       "</style>\n",
       "<table border=\"1\" class=\"dataframe\">\n",
       "  <thead>\n",
       "    <tr style=\"text-align: right;\">\n",
       "      <th></th>\n",
       "      <th>age</th>\n",
       "      <th>height</th>\n",
       "      <th>income</th>\n",
       "    </tr>\n",
       "  </thead>\n",
       "  <tbody>\n",
       "    <tr>\n",
       "      <th>count</th>\n",
       "      <td>35829.000000</td>\n",
       "      <td>35827.000000</td>\n",
       "      <td>35829.000000</td>\n",
       "    </tr>\n",
       "    <tr>\n",
       "      <th>mean</th>\n",
       "      <td>32.018588</td>\n",
       "      <td>70.443492</td>\n",
       "      <td>25991.307656</td>\n",
       "    </tr>\n",
       "    <tr>\n",
       "      <th>std</th>\n",
       "      <td>9.032881</td>\n",
       "      <td>3.076521</td>\n",
       "      <td>109845.249284</td>\n",
       "    </tr>\n",
       "    <tr>\n",
       "      <th>min</th>\n",
       "      <td>18.000000</td>\n",
       "      <td>1.000000</td>\n",
       "      <td>-1.000000</td>\n",
       "    </tr>\n",
       "    <tr>\n",
       "      <th>25%</th>\n",
       "      <td>26.000000</td>\n",
       "      <td>68.000000</td>\n",
       "      <td>-1.000000</td>\n",
       "    </tr>\n",
       "    <tr>\n",
       "      <th>50%</th>\n",
       "      <td>30.000000</td>\n",
       "      <td>70.000000</td>\n",
       "      <td>-1.000000</td>\n",
       "    </tr>\n",
       "    <tr>\n",
       "      <th>75%</th>\n",
       "      <td>36.000000</td>\n",
       "      <td>72.000000</td>\n",
       "      <td>-1.000000</td>\n",
       "    </tr>\n",
       "    <tr>\n",
       "      <th>max</th>\n",
       "      <td>109.000000</td>\n",
       "      <td>95.000000</td>\n",
       "      <td>1000000.000000</td>\n",
       "    </tr>\n",
       "  </tbody>\n",
       "</table>\n",
       "</div>"
      ],
      "text/plain": [
       "                age        height          income\n",
       "count  35829.000000  35827.000000    35829.000000\n",
       "mean      32.018588     70.443492    25991.307656\n",
       "std        9.032881      3.076521   109845.249284\n",
       "min       18.000000      1.000000       -1.000000\n",
       "25%       26.000000     68.000000       -1.000000\n",
       "50%       30.000000     70.000000       -1.000000\n",
       "75%       36.000000     72.000000       -1.000000\n",
       "max      109.000000     95.000000  1000000.000000"
      ]
     },
     "execution_count": 7,
     "metadata": {},
     "output_type": "execute_result"
    }
   ],
   "source": [
    "males.describe()"
   ]
  },
  {
   "cell_type": "markdown",
   "metadata": {},
   "source": [
    "<h2>Basic Summary (Females)</h2>"
   ]
  },
  {
   "cell_type": "code",
   "execution_count": 8,
   "metadata": {},
   "outputs": [
    {
     "data": {
      "text/html": [
       "<div>\n",
       "<style>\n",
       "    .dataframe thead tr:only-child th {\n",
       "        text-align: right;\n",
       "    }\n",
       "\n",
       "    .dataframe thead th {\n",
       "        text-align: left;\n",
       "    }\n",
       "\n",
       "    .dataframe tbody tr th {\n",
       "        vertical-align: top;\n",
       "    }\n",
       "</style>\n",
       "<table border=\"1\" class=\"dataframe\">\n",
       "  <thead>\n",
       "    <tr style=\"text-align: right;\">\n",
       "      <th></th>\n",
       "      <th>age</th>\n",
       "      <th>height</th>\n",
       "      <th>income</th>\n",
       "    </tr>\n",
       "  </thead>\n",
       "  <tbody>\n",
       "    <tr>\n",
       "      <th>count</th>\n",
       "      <td>24117.000000</td>\n",
       "      <td>24116.000000</td>\n",
       "      <td>24117.000000</td>\n",
       "    </tr>\n",
       "    <tr>\n",
       "      <th>mean</th>\n",
       "      <td>32.818220</td>\n",
       "      <td>65.103873</td>\n",
       "      <td>11181.697392</td>\n",
       "    </tr>\n",
       "    <tr>\n",
       "      <th>std</th>\n",
       "      <td>10.025385</td>\n",
       "      <td>2.926502</td>\n",
       "      <td>74149.778856</td>\n",
       "    </tr>\n",
       "    <tr>\n",
       "      <th>min</th>\n",
       "      <td>18.000000</td>\n",
       "      <td>4.000000</td>\n",
       "      <td>-1.000000</td>\n",
       "    </tr>\n",
       "    <tr>\n",
       "      <th>25%</th>\n",
       "      <td>26.000000</td>\n",
       "      <td>63.000000</td>\n",
       "      <td>-1.000000</td>\n",
       "    </tr>\n",
       "    <tr>\n",
       "      <th>50%</th>\n",
       "      <td>30.000000</td>\n",
       "      <td>65.000000</td>\n",
       "      <td>-1.000000</td>\n",
       "    </tr>\n",
       "    <tr>\n",
       "      <th>75%</th>\n",
       "      <td>37.000000</td>\n",
       "      <td>67.000000</td>\n",
       "      <td>-1.000000</td>\n",
       "    </tr>\n",
       "    <tr>\n",
       "      <th>max</th>\n",
       "      <td>110.000000</td>\n",
       "      <td>95.000000</td>\n",
       "      <td>1000000.000000</td>\n",
       "    </tr>\n",
       "  </tbody>\n",
       "</table>\n",
       "</div>"
      ],
      "text/plain": [
       "                age        height          income\n",
       "count  24117.000000  24116.000000    24117.000000\n",
       "mean      32.818220     65.103873    11181.697392\n",
       "std       10.025385      2.926502    74149.778856\n",
       "min       18.000000      4.000000       -1.000000\n",
       "25%       26.000000     63.000000       -1.000000\n",
       "50%       30.000000     65.000000       -1.000000\n",
       "75%       37.000000     67.000000       -1.000000\n",
       "max      110.000000     95.000000  1000000.000000"
      ]
     },
     "execution_count": 8,
     "metadata": {},
     "output_type": "execute_result"
    }
   ],
   "source": [
    "females.describe()"
   ]
  },
  {
   "cell_type": "code",
   "execution_count": 9,
   "metadata": {},
   "outputs": [
    {
     "name": "stdout",
     "output_type": "stream",
     "text": [
      "Ttest_indResult(statistic=-10.164814501817149, pvalue=2.9786406182534982e-24)\n",
      "Ttest_indResult(statistic=212.47827019501977, pvalue=0.0)\n",
      "Ttest_indResult(statistic=18.316049145440861, pvalue=9.8645248736508528e-75)\n"
     ]
    }
   ],
   "source": [
    "import scipy.stats as stats\n",
    "print(stats.ttest_ind(males['age'], females['age'], nan_policy = 'omit'))\n",
    "print(stats.ttest_ind(males['height'], females['height'], nan_policy = 'omit'))\n",
    "print(stats.ttest_ind(males['income'], females['income'], nan_policy = 'omit'))"
   ]
  },
  {
   "cell_type": "markdown",
   "metadata": {},
   "source": [
    "<h4>Comments on Basic Summaries by Sex</h4>\n",
    "<p>t-testing yielded low p-values below 0.005. This suggests we reject the hypothesis that average age and average height are the same across users on OkCupid. 50% of men from this dataset fall within 5'8\" - 6'0\" and are between the ages of 26 - 36. Women fall within 5'3\" - 5'7\" and are between the ages 26 - 37.</p>"
   ]
  },
  {
   "cell_type": "code",
   "execution_count": 10,
   "metadata": {
    "collapsed": true
   },
   "outputs": [],
   "source": [
    "#from sklearn.feature_extraction.text import CountVectorizer\n",
    "#from sklearn.feature_extraction.text import TfidfTransformer\n",
    "#from sklearn.feature_extraction.text import TfidfVectorizer"
   ]
  },
  {
   "cell_type": "code",
   "execution_count": 11,
   "metadata": {
    "scrolled": true
   },
   "outputs": [],
   "source": [
    "#vectorizer = TfidfVectorizer()\n",
    "#experimenting = data[~data['essay1'].isNaN()]\n",
    "#type(experimenting['essay1'][13])\n",
    "#tfidf = vectorizer.fit_transform(data['essay1'])"
   ]
  },
  {
   "cell_type": "markdown",
   "metadata": {},
   "source": [
    "<h2>Types of Bodies</h2>"
   ]
  },
  {
   "cell_type": "code",
   "execution_count": 12,
   "metadata": {
    "scrolled": true
   },
   "outputs": [
    {
     "name": "stdout",
     "output_type": "stream",
     "text": [
      "a little extra : 2629 is 4.39% of the dataset.\n",
      "average : 14652 is 24.44% of the dataset.\n",
      "thin : 4711 is 7.86% of the dataset.\n",
      "athletic : 11819 is 19.72% of the dataset.\n",
      "fit : 12711 is 21.20% of the dataset.\n",
      "nan : 5296 is 8.83% of the dataset.\n",
      "skinny : 1777 is 2.96% of the dataset.\n",
      "curvy : 3924 is 6.55% of the dataset.\n",
      "full figured : 1009 is 1.68% of the dataset.\n",
      "jacked : 421 is 0.70% of the dataset.\n",
      "rather not say : 198 is 0.33% of the dataset.\n",
      "used up : 355 is 0.59% of the dataset.\n",
      "overweight : 444 is 0.74% of the dataset.\n"
     ]
    }
   ],
   "source": [
    "hp.word_counter(data['body_type'])"
   ]
  },
  {
   "cell_type": "markdown",
   "metadata": {},
   "source": [
    "<h3>Males</h3>"
   ]
  },
  {
   "cell_type": "code",
   "execution_count": 13,
   "metadata": {},
   "outputs": [
    {
     "name": "stdout",
     "output_type": "stream",
     "text": [
      "a little extra : 1808 is 5.05% of the dataset.\n",
      "average : 9032 is 25.21% of the dataset.\n",
      "thin : 2242 is 6.26% of the dataset.\n",
      "athletic : 9510 is 26.54% of the dataset.\n",
      "nan : 2593 is 7.24% of the dataset.\n",
      "fit : 8280 is 23.11% of the dataset.\n",
      "skinny : 1176 is 3.28% of the dataset.\n",
      "jacked : 292 is 0.81% of the dataset.\n",
      "curvy : 113 is 0.32% of the dataset.\n",
      "used up : 253 is 0.71% of the dataset.\n",
      "overweight : 299 is 0.83% of the dataset.\n",
      "rather not say : 92 is 0.26% of the dataset.\n",
      "full figured : 139 is 0.39% of the dataset.\n"
     ]
    }
   ],
   "source": [
    "hp.word_counter(males['body_type'])"
   ]
  },
  {
   "cell_type": "markdown",
   "metadata": {},
   "source": [
    "<h3>Females</h3>"
   ]
  },
  {
   "cell_type": "code",
   "execution_count": 14,
   "metadata": {},
   "outputs": [
    {
     "name": "stdout",
     "output_type": "stream",
     "text": [
      "fit : 4431 is 18.37% of the dataset.\n",
      "average : 5620 is 23.30% of the dataset.\n",
      "nan : 2703 is 11.21% of the dataset.\n",
      "skinny : 601 is 2.49% of the dataset.\n",
      "thin : 2469 is 10.24% of the dataset.\n",
      "athletic : 2309 is 9.57% of the dataset.\n",
      "curvy : 3811 is 15.80% of the dataset.\n",
      "a little extra : 821 is 3.40% of the dataset.\n",
      "full figured : 870 is 3.61% of the dataset.\n",
      "rather not say : 106 is 0.44% of the dataset.\n",
      "jacked : 129 is 0.53% of the dataset.\n",
      "overweight : 145 is 0.60% of the dataset.\n",
      "used up : 102 is 0.42% of the dataset.\n"
     ]
    }
   ],
   "source": [
    "hp.word_counter(females['body_type'])"
   ]
  },
  {
   "cell_type": "markdown",
   "metadata": {},
   "source": [
    "<h4>Comments on Body Types</h4>\n",
    "<p>Average, athletic, and fit people make up 65.3% of the reported body types in the dataset.</p>"
   ]
  },
  {
   "cell_type": "markdown",
   "metadata": {},
   "source": [
    "<h2>How Educated are people</h2>"
   ]
  },
  {
   "cell_type": "code",
   "execution_count": 15,
   "metadata": {
    "scrolled": true
   },
   "outputs": [
    {
     "name": "stdout",
     "output_type": "stream",
     "text": [
      "working on college/university : 5712 is 9.53% of the dataset.\n",
      "working on space camp : 445 is 0.74% of the dataset.\n",
      "graduated from masters program : 8961 is 14.95% of the dataset.\n",
      "graduated from college/university : 23959 is 39.97% of the dataset.\n",
      "working on two-year college : 1074 is 1.79% of the dataset.\n",
      "nan : 6628 is 11.06% of the dataset.\n",
      "graduated from high school : 1428 is 2.38% of the dataset.\n",
      "working on masters program : 1683 is 2.81% of the dataset.\n",
      "graduated from space camp : 657 is 1.10% of the dataset.\n",
      "college/university : 801 is 1.34% of the dataset.\n",
      "dropped out of space camp : 523 is 0.87% of the dataset.\n",
      "graduated from ph.d program : 1272 is 2.12% of the dataset.\n",
      "graduated from law school : 1122 is 1.87% of the dataset.\n",
      "working on ph.d program : 983 is 1.64% of the dataset.\n",
      "two-year college : 222 is 0.37% of the dataset.\n",
      "graduated from two-year college : 1531 is 2.55% of the dataset.\n",
      "working on med school : 212 is 0.35% of the dataset.\n",
      "dropped out of college/university : 995 is 1.66% of the dataset.\n",
      "space camp : 58 is 0.10% of the dataset.\n",
      "graduated from med school : 446 is 0.74% of the dataset.\n",
      "dropped out of high school : 102 is 0.17% of the dataset.\n",
      "working on high school : 87 is 0.15% of the dataset.\n",
      "masters program : 136 is 0.23% of the dataset.\n",
      "dropped out of ph.d program : 127 is 0.21% of the dataset.\n",
      "dropped out of two-year college : 191 is 0.32% of the dataset.\n",
      "dropped out of med school : 12 is 0.02% of the dataset.\n",
      "high school : 96 is 0.16% of the dataset.\n",
      "working on law school : 269 is 0.45% of the dataset.\n",
      "law school : 19 is 0.03% of the dataset.\n",
      "dropped out of masters program : 140 is 0.23% of the dataset.\n",
      "ph.d program : 26 is 0.04% of the dataset.\n",
      "dropped out of law school : 18 is 0.03% of the dataset.\n",
      "med school : 11 is 0.02% of the dataset.\n"
     ]
    }
   ],
   "source": [
    "hp.word_counter(data['education'])"
   ]
  },
  {
   "cell_type": "markdown",
   "metadata": {},
   "source": [
    "<h3>Males</h3>"
   ]
  },
  {
   "cell_type": "code",
   "execution_count": 16,
   "metadata": {},
   "outputs": [
    {
     "name": "stdout",
     "output_type": "stream",
     "text": [
      "working on college/university : 3317 is 9.26% of the dataset.\n",
      "working on space camp : 308 is 0.86% of the dataset.\n",
      "graduated from masters program : 4698 is 13.11% of the dataset.\n",
      "graduated from college/university : 14116 is 39.40% of the dataset.\n",
      "working on two-year college : 715 is 2.00% of the dataset.\n",
      "nan : 4241 is 11.84% of the dataset.\n",
      "working on masters program : 819 is 2.29% of the dataset.\n",
      "graduated from space camp : 455 is 1.27% of the dataset.\n",
      "college/university : 520 is 1.45% of the dataset.\n",
      "graduated from ph.d program : 851 is 2.38% of the dataset.\n",
      "working on ph.d program : 644 is 1.80% of the dataset.\n",
      "two-year college : 153 is 0.43% of the dataset.\n",
      "dropped out of space camp : 394 is 1.10% of the dataset.\n",
      "working on med school : 112 is 0.31% of the dataset.\n",
      "dropped out of college/university : 772 is 2.15% of the dataset.\n",
      "graduated from two-year college : 987 is 2.75% of the dataset.\n",
      "dropped out of high school : 81 is 0.23% of the dataset.\n",
      "graduated from law school : 614 is 1.71% of the dataset.\n",
      "working on high school : 59 is 0.16% of the dataset.\n",
      "graduated from high school : 1020 is 2.85% of the dataset.\n",
      "dropped out of two-year college : 142 is 0.40% of the dataset.\n",
      "dropped out of med school : 9 is 0.03% of the dataset.\n",
      "high school : 76 is 0.21% of the dataset.\n",
      "graduated from med school : 239 is 0.67% of the dataset.\n",
      "dropped out of ph.d program : 87 is 0.24% of the dataset.\n",
      "law school : 14 is 0.04% of the dataset.\n",
      "masters program : 77 is 0.21% of the dataset.\n",
      "working on law school : 150 is 0.42% of the dataset.\n",
      "space camp : 39 is 0.11% of the dataset.\n",
      "dropped out of masters program : 87 is 0.24% of the dataset.\n",
      "ph.d program : 14 is 0.04% of the dataset.\n",
      "dropped out of law school : 11 is 0.03% of the dataset.\n",
      "med school : 8 is 0.02% of the dataset.\n"
     ]
    }
   ],
   "source": [
    "hp.word_counter(males['education'])"
   ]
  },
  {
   "cell_type": "markdown",
   "metadata": {},
   "source": [
    "<h3>Females</h3>"
   ]
  },
  {
   "cell_type": "code",
   "execution_count": 17,
   "metadata": {},
   "outputs": [
    {
     "name": "stdout",
     "output_type": "stream",
     "text": [
      "graduated from college/university : 9843 is 40.81% of the dataset.\n",
      "graduated from high school : 408 is 1.69% of the dataset.\n",
      "working on college/university : 2395 is 9.93% of the dataset.\n",
      "nan : 2387 is 9.90% of the dataset.\n",
      "graduated from masters program : 4263 is 17.68% of the dataset.\n",
      "dropped out of space camp : 129 is 0.53% of the dataset.\n",
      "working on masters program : 864 is 3.58% of the dataset.\n",
      "graduated from law school : 508 is 2.11% of the dataset.\n",
      "college/university : 281 is 1.17% of the dataset.\n",
      "graduated from two-year college : 544 is 2.26% of the dataset.\n",
      "working on space camp : 137 is 0.57% of the dataset.\n",
      "two-year college : 69 is 0.29% of the dataset.\n",
      "space camp : 19 is 0.08% of the dataset.\n",
      "graduated from med school : 207 is 0.86% of the dataset.\n",
      "working on ph.d program : 339 is 1.41% of the dataset.\n",
      "masters program : 59 is 0.24% of the dataset.\n",
      "graduated from ph.d program : 421 is 1.75% of the dataset.\n",
      "dropped out of ph.d program : 40 is 0.17% of the dataset.\n",
      "dropped out of college/university : 223 is 0.92% of the dataset.\n",
      "graduated from space camp : 202 is 0.84% of the dataset.\n",
      "working on two-year college : 359 is 1.49% of the dataset.\n",
      "dropped out of high school : 21 is 0.09% of the dataset.\n",
      "working on law school : 119 is 0.49% of the dataset.\n",
      "working on med school : 100 is 0.41% of the dataset.\n",
      "dropped out of two-year college : 49 is 0.20% of the dataset.\n",
      "working on high school : 28 is 0.12% of the dataset.\n",
      "law school : 5 is 0.02% of the dataset.\n",
      "dropped out of masters program : 53 is 0.22% of the dataset.\n",
      "ph.d program : 12 is 0.05% of the dataset.\n",
      "dropped out of med school : 3 is 0.01% of the dataset.\n",
      "dropped out of law school : 7 is 0.03% of the dataset.\n",
      "high school : 20 is 0.08% of the dataset.\n",
      "med school : 3 is 0.01% of the dataset.\n"
     ]
    }
   ],
   "source": [
    "hp.word_counter(females['education'])"
   ]
  },
  {
   "cell_type": "markdown",
   "metadata": {},
   "source": [
    "<h2>Diets</h2>"
   ]
  },
  {
   "cell_type": "code",
   "execution_count": 18,
   "metadata": {},
   "outputs": [
    {
     "name": "stdout",
     "output_type": "stream",
     "text": [
      "strictly anything : 5113 is 8.53% of the dataset.\n",
      "mostly other : 1007 is 1.68% of the dataset.\n",
      "anything : 6183 is 10.31% of the dataset.\n",
      "vegetarian : 667 is 1.11% of the dataset.\n",
      "nan : 24395 is 40.69% of the dataset.\n",
      "mostly anything : 16585 is 27.67% of the dataset.\n",
      "mostly vegetarian : 3444 is 5.75% of the dataset.\n",
      "strictly vegan : 228 is 0.38% of the dataset.\n",
      "strictly vegetarian : 875 is 1.46% of the dataset.\n",
      "mostly vegan : 338 is 0.56% of the dataset.\n",
      "strictly other : 452 is 0.75% of the dataset.\n",
      "mostly halal : 48 is 0.08% of the dataset.\n",
      "other : 331 is 0.55% of the dataset.\n",
      "vegan : 136 is 0.23% of the dataset.\n",
      "mostly kosher : 86 is 0.14% of the dataset.\n",
      "strictly halal : 18 is 0.03% of the dataset.\n",
      "halal : 11 is 0.02% of the dataset.\n",
      "strictly kosher : 18 is 0.03% of the dataset.\n",
      "kosher : 11 is 0.02% of the dataset.\n"
     ]
    }
   ],
   "source": [
    "hp.word_counter(data['diet'])"
   ]
  },
  {
   "cell_type": "markdown",
   "metadata": {},
   "source": [
    "<h3>Males</h3>"
   ]
  },
  {
   "cell_type": "code",
   "execution_count": 19,
   "metadata": {},
   "outputs": [
    {
     "name": "stdout",
     "output_type": "stream",
     "text": [
      "strictly anything : 3634 is 10.14% of the dataset.\n",
      "mostly other : 582 is 1.62% of the dataset.\n",
      "anything : 3766 is 10.51% of the dataset.\n",
      "vegetarian : 289 is 0.81% of the dataset.\n",
      "nan : 14482 is 40.42% of the dataset.\n",
      "mostly anything : 10227 is 28.54% of the dataset.\n",
      "mostly vegetarian : 1531 is 4.27% of the dataset.\n",
      "strictly vegan : 121 is 0.34% of the dataset.\n",
      "mostly vegan : 157 is 0.44% of the dataset.\n",
      "strictly other : 274 is 0.76% of the dataset.\n",
      "mostly halal : 36 is 0.10% of the dataset.\n",
      "strictly vegetarian : 406 is 1.13% of the dataset.\n",
      "vegan : 65 is 0.18% of the dataset.\n",
      "other : 167 is 0.47% of the dataset.\n",
      "mostly kosher : 50 is 0.14% of the dataset.\n",
      "strictly halal : 16 is 0.04% of the dataset.\n",
      "halal : 8 is 0.02% of the dataset.\n",
      "strictly kosher : 13 is 0.04% of the dataset.\n",
      "kosher : 5 is 0.01% of the dataset.\n"
     ]
    }
   ],
   "source": [
    "hp.word_counter(males['diet'])"
   ]
  },
  {
   "cell_type": "markdown",
   "metadata": {},
   "source": [
    "<h3>Females</h3>"
   ]
  },
  {
   "cell_type": "code",
   "execution_count": 20,
   "metadata": {},
   "outputs": [
    {
     "name": "stdout",
     "output_type": "stream",
     "text": [
      "strictly anything : 1479 is 6.13% of the dataset.\n",
      "mostly anything : 6358 is 26.36% of the dataset.\n",
      "nan : 9913 is 41.10% of the dataset.\n",
      "anything : 2417 is 10.02% of the dataset.\n",
      "mostly vegetarian : 1913 is 7.93% of the dataset.\n",
      "strictly vegetarian : 469 is 1.94% of the dataset.\n",
      "vegetarian : 378 is 1.57% of the dataset.\n",
      "other : 164 is 0.68% of the dataset.\n",
      "mostly other : 425 is 1.76% of the dataset.\n",
      "mostly kosher : 36 is 0.15% of the dataset.\n",
      "strictly other : 178 is 0.74% of the dataset.\n",
      "mostly vegan : 181 is 0.75% of the dataset.\n",
      "strictly vegan : 107 is 0.44% of the dataset.\n",
      "vegan : 71 is 0.29% of the dataset.\n",
      "mostly halal : 12 is 0.05% of the dataset.\n",
      "kosher : 6 is 0.02% of the dataset.\n",
      "strictly halal : 2 is 0.01% of the dataset.\n",
      "strictly kosher : 5 is 0.02% of the dataset.\n",
      "halal : 3 is 0.01% of the dataset.\n"
     ]
    }
   ],
   "source": [
    "hp.word_counter(females['diet'])"
   ]
  },
  {
   "cell_type": "markdown",
   "metadata": {},
   "source": [
    "<h2>Drinks</h2>"
   ]
  },
  {
   "cell_type": "code",
   "execution_count": 21,
   "metadata": {},
   "outputs": [
    {
     "name": "stdout",
     "output_type": "stream",
     "text": [
      "socially : 41780 is 69.70% of the dataset.\n",
      "often : 5164 is 8.61% of the dataset.\n",
      "not at all : 3267 is 5.45% of the dataset.\n",
      "rarely : 5957 is 9.94% of the dataset.\n",
      "nan : 2985 is 4.98% of the dataset.\n",
      "very often : 471 is 0.79% of the dataset.\n",
      "desperately : 322 is 0.54% of the dataset.\n"
     ]
    }
   ],
   "source": [
    "hp.word_counter(data['drinks'])"
   ]
  },
  {
   "cell_type": "markdown",
   "metadata": {},
   "source": [
    "<h3>Males</h3>"
   ]
  },
  {
   "cell_type": "code",
   "execution_count": 22,
   "metadata": {},
   "outputs": [
    {
     "name": "stdout",
     "output_type": "stream",
     "text": [
      "socially : 24557 is 68.54% of the dataset.\n",
      "often : 3314 is 9.25% of the dataset.\n",
      "not at all : 2034 is 5.68% of the dataset.\n",
      "rarely : 3549 is 9.91% of the dataset.\n",
      "nan : 1873 is 5.23% of the dataset.\n",
      "very often : 294 is 0.82% of the dataset.\n",
      "desperately : 208 is 0.58% of the dataset.\n"
     ]
    }
   ],
   "source": [
    "hp.word_counter(males['drinks'])"
   ]
  },
  {
   "cell_type": "markdown",
   "metadata": {},
   "source": [
    "<h3>Females</h3>"
   ]
  },
  {
   "cell_type": "code",
   "execution_count": 23,
   "metadata": {},
   "outputs": [
    {
     "name": "stdout",
     "output_type": "stream",
     "text": [
      "socially : 17223 is 71.41% of the dataset.\n",
      "often : 1850 is 7.67% of the dataset.\n",
      "rarely : 2408 is 9.98% of the dataset.\n",
      "nan : 1112 is 4.61% of the dataset.\n",
      "not at all : 1233 is 5.11% of the dataset.\n",
      "desperately : 114 is 0.47% of the dataset.\n",
      "very often : 177 is 0.73% of the dataset.\n"
     ]
    }
   ],
   "source": [
    "hp.word_counter(females['drinks'])"
   ]
  },
  {
   "cell_type": "markdown",
   "metadata": {},
   "source": [
    "<h2>Drugs</h2>"
   ]
  },
  {
   "cell_type": "code",
   "execution_count": 24,
   "metadata": {},
   "outputs": [
    {
     "name": "stdout",
     "output_type": "stream",
     "text": [
      "never : 37724 is 62.93% of the dataset.\n",
      "sometimes : 7732 is 12.90% of the dataset.\n",
      "nan : 14080 is 23.49% of the dataset.\n",
      "often : 410 is 0.68% of the dataset.\n"
     ]
    }
   ],
   "source": [
    "hp.word_counter(data['drugs'])"
   ]
  },
  {
   "cell_type": "markdown",
   "metadata": {},
   "source": [
    "<h3>Males</h3>"
   ]
  },
  {
   "cell_type": "code",
   "execution_count": 25,
   "metadata": {},
   "outputs": [
    {
     "name": "stdout",
     "output_type": "stream",
     "text": [
      "never : 21895 is 61.11% of the dataset.\n",
      "sometimes : 5037 is 14.06% of the dataset.\n",
      "nan : 8615 is 24.04% of the dataset.\n",
      "often : 282 is 0.79% of the dataset.\n"
     ]
    }
   ],
   "source": [
    "hp.word_counter(males['drugs'])"
   ]
  },
  {
   "cell_type": "markdown",
   "metadata": {},
   "source": [
    "<h3>Females</h3>"
   ]
  },
  {
   "cell_type": "code",
   "execution_count": 26,
   "metadata": {},
   "outputs": [
    {
     "name": "stdout",
     "output_type": "stream",
     "text": [
      "never : 15829 is 65.63% of the dataset.\n",
      "nan : 5465 is 22.66% of the dataset.\n",
      "sometimes : 2695 is 11.17% of the dataset.\n",
      "often : 128 is 0.53% of the dataset.\n"
     ]
    }
   ],
   "source": [
    "hp.word_counter(females['drugs'])"
   ]
  },
  {
   "cell_type": "markdown",
   "metadata": {},
   "source": [
    "<h2>Job</h2>"
   ]
  },
  {
   "cell_type": "code",
   "execution_count": 27,
   "metadata": {},
   "outputs": [
    {
     "name": "stdout",
     "output_type": "stream",
     "text": [
      "transportation : 366 is 0.61% of the dataset.\n",
      "hospitality / travel : 1364 is 2.28% of the dataset.\n",
      "nan : 8198 is 13.68% of the dataset.\n",
      "student : 4882 is 8.14% of the dataset.\n",
      "artistic / musical / writer : 4439 is 7.40% of the dataset.\n",
      "computer / hardware / software : 4709 is 7.86% of the dataset.\n",
      "banking / financial / real estate : 2266 is 3.78% of the dataset.\n",
      "entertainment / media : 2250 is 3.75% of the dataset.\n",
      "sales / marketing / biz dev : 4391 is 7.32% of the dataset.\n",
      "other : 7589 is 12.66% of the dataset.\n",
      "medicine / health : 3680 is 6.14% of the dataset.\n",
      "science / tech / engineering : 4848 is 8.09% of the dataset.\n",
      "executive / management : 2373 is 3.96% of the dataset.\n",
      "education / academia : 3513 is 5.86% of the dataset.\n",
      "clerical / administrative : 805 is 1.34% of the dataset.\n",
      "construction / craftsmanship : 1021 is 1.70% of the dataset.\n",
      "rather not say : 436 is 0.73% of the dataset.\n",
      "political / government : 708 is 1.18% of the dataset.\n",
      "law / legal services : 1381 is 2.30% of the dataset.\n",
      "unemployed : 273 is 0.46% of the dataset.\n",
      "military : 204 is 0.34% of the dataset.\n",
      "retired : 250 is 0.42% of the dataset.\n"
     ]
    }
   ],
   "source": [
    "hp.word_counter(data['job'])"
   ]
  },
  {
   "cell_type": "markdown",
   "metadata": {},
   "source": [
    "<h3>Males</h3>"
   ]
  },
  {
   "cell_type": "code",
   "execution_count": 28,
   "metadata": {},
   "outputs": [
    {
     "name": "stdout",
     "output_type": "stream",
     "text": [
      "transportation : 308 is 0.86% of the dataset.\n",
      "hospitality / travel : 794 is 2.22% of the dataset.\n",
      "nan : 4542 is 12.68% of the dataset.\n",
      "student : 2731 is 7.62% of the dataset.\n",
      "artistic / musical / writer : 2557 is 7.14% of the dataset.\n",
      "computer / hardware / software : 4068 is 11.35% of the dataset.\n",
      "banking / financial / real estate : 1476 is 4.12% of the dataset.\n",
      "entertainment / media : 1569 is 4.38% of the dataset.\n",
      "medicine / health : 1493 is 4.17% of the dataset.\n",
      "science / tech / engineering : 3832 is 10.70% of the dataset.\n",
      "executive / management : 1618 is 4.52% of the dataset.\n",
      "education / academia : 1358 is 3.79% of the dataset.\n",
      "clerical / administrative : 233 is 0.65% of the dataset.\n",
      "other : 3945 is 11.01% of the dataset.\n",
      "construction / craftsmanship : 940 is 2.62% of the dataset.\n",
      "rather not say : 265 is 0.74% of the dataset.\n",
      "political / government : 398 is 1.11% of the dataset.\n",
      "law / legal services : 741 is 2.07% of the dataset.\n",
      "sales / marketing / biz dev : 2475 is 6.91% of the dataset.\n",
      "unemployed : 160 is 0.45% of the dataset.\n",
      "military : 182 is 0.51% of the dataset.\n",
      "retired : 144 is 0.40% of the dataset.\n"
     ]
    }
   ],
   "source": [
    "hp.word_counter(males['job'])"
   ]
  },
  {
   "cell_type": "markdown",
   "metadata": {},
   "source": [
    "<h3>Females</h3>"
   ]
  },
  {
   "cell_type": "code",
   "execution_count": 29,
   "metadata": {},
   "outputs": [
    {
     "name": "stdout",
     "output_type": "stream",
     "text": [
      "nan : 3656 is 15.16% of the dataset.\n",
      "artistic / musical / writer : 1882 is 7.80% of the dataset.\n",
      "sales / marketing / biz dev : 1916 is 7.94% of the dataset.\n",
      "other : 3644 is 15.11% of the dataset.\n",
      "medicine / health : 2187 is 9.07% of the dataset.\n",
      "banking / financial / real estate : 790 is 3.28% of the dataset.\n",
      "student : 2151 is 8.92% of the dataset.\n",
      "computer / hardware / software : 641 is 2.66% of the dataset.\n",
      "hospitality / travel : 570 is 2.36% of the dataset.\n",
      "entertainment / media : 681 is 2.82% of the dataset.\n",
      "science / tech / engineering : 1016 is 4.21% of the dataset.\n",
      "education / academia : 2155 is 8.94% of the dataset.\n",
      "law / legal services : 640 is 2.65% of the dataset.\n",
      "rather not say : 171 is 0.71% of the dataset.\n",
      "executive / management : 755 is 3.13% of the dataset.\n",
      "transportation : 58 is 0.24% of the dataset.\n",
      "political / government : 310 is 1.29% of the dataset.\n",
      "retired : 106 is 0.44% of the dataset.\n",
      "clerical / administrative : 572 is 2.37% of the dataset.\n",
      "construction / craftsmanship : 81 is 0.34% of the dataset.\n",
      "unemployed : 113 is 0.47% of the dataset.\n",
      "military : 22 is 0.09% of the dataset.\n"
     ]
    }
   ],
   "source": [
    "hp.word_counter(females['job'])"
   ]
  },
  {
   "cell_type": "markdown",
   "metadata": {},
   "source": [
    "<h2>Offspring</h2>"
   ]
  },
  {
   "cell_type": "code",
   "execution_count": 30,
   "metadata": {},
   "outputs": [
    {
     "name": "stdout",
     "output_type": "stream",
     "text": [
      "doesn&rsquo;t have kids, but might want them : 3875 is 6.46% of the dataset.\n",
      "nan : 35561 is 59.32% of the dataset.\n",
      "doesn&rsquo;t want kids : 2927 is 4.88% of the dataset.\n",
      "doesn&rsquo;t have kids, but wants them : 3565 is 5.95% of the dataset.\n",
      "doesn&rsquo;t have kids : 7560 is 12.61% of the dataset.\n",
      "wants kids : 225 is 0.38% of the dataset.\n",
      "has a kid : 1881 is 3.14% of the dataset.\n",
      "has kids : 1883 is 3.14% of the dataset.\n",
      "doesn&rsquo;t have kids, and doesn&rsquo;t want any : 1132 is 1.89% of the dataset.\n",
      "has kids, but doesn&rsquo;t want more : 442 is 0.74% of the dataset.\n",
      "has a kid, but doesn&rsquo;t want more : 275 is 0.46% of the dataset.\n",
      "has a kid, and wants more : 71 is 0.12% of the dataset.\n",
      "has kids, and might want more : 115 is 0.19% of the dataset.\n",
      "might want kids : 182 is 0.30% of the dataset.\n",
      "has a kid, and might want more : 231 is 0.39% of the dataset.\n",
      "has kids, and wants more : 21 is 0.04% of the dataset.\n"
     ]
    }
   ],
   "source": [
    "hp.word_counter(data['offspring'])"
   ]
  },
  {
   "cell_type": "markdown",
   "metadata": {},
   "source": [
    "<h3>Males</h3>"
   ]
  },
  {
   "cell_type": "code",
   "execution_count": 31,
   "metadata": {},
   "outputs": [
    {
     "name": "stdout",
     "output_type": "stream",
     "text": [
      "doesn&rsquo;t have kids, but might want them : 2369 is 6.61% of the dataset.\n",
      "nan : 22336 is 62.34% of the dataset.\n",
      "doesn&rsquo;t want kids : 1750 is 4.88% of the dataset.\n",
      "doesn&rsquo;t have kids : 4435 is 12.38% of the dataset.\n",
      "doesn&rsquo;t have kids, but wants them : 1725 is 4.81% of the dataset.\n",
      "has a kid : 884 is 2.47% of the dataset.\n",
      "has kids : 940 is 2.62% of the dataset.\n",
      "doesn&rsquo;t have kids, and doesn&rsquo;t want any : 624 is 1.74% of the dataset.\n",
      "has a kid, but doesn&rsquo;t want more : 97 is 0.27% of the dataset.\n",
      "has a kid, and wants more : 45 is 0.13% of the dataset.\n",
      "has kids, but doesn&rsquo;t want more : 187 is 0.52% of the dataset.\n",
      "has kids, and might want more : 69 is 0.19% of the dataset.\n",
      "has a kid, and might want more : 141 is 0.39% of the dataset.\n",
      "might want kids : 120 is 0.33% of the dataset.\n",
      "has kids, and wants more : 13 is 0.04% of the dataset.\n",
      "wants kids : 94 is 0.26% of the dataset.\n"
     ]
    }
   ],
   "source": [
    "hp.word_counter(males['offspring'])"
   ]
  },
  {
   "cell_type": "markdown",
   "metadata": {},
   "source": [
    "<h3>Females</h3>"
   ]
  },
  {
   "cell_type": "code",
   "execution_count": 32,
   "metadata": {},
   "outputs": [
    {
     "name": "stdout",
     "output_type": "stream",
     "text": [
      "nan : 13225 is 54.84% of the dataset.\n",
      "doesn&rsquo;t have kids, but wants them : 1840 is 7.63% of the dataset.\n",
      "doesn&rsquo;t have kids : 3125 is 12.96% of the dataset.\n",
      "doesn&rsquo;t have kids, but might want them : 1506 is 6.24% of the dataset.\n",
      "doesn&rsquo;t want kids : 1177 is 4.88% of the dataset.\n",
      "wants kids : 131 is 0.54% of the dataset.\n",
      "has kids : 943 is 3.91% of the dataset.\n",
      "has a kid : 997 is 4.13% of the dataset.\n",
      "doesn&rsquo;t have kids, and doesn&rsquo;t want any : 508 is 2.11% of the dataset.\n",
      "has kids, but doesn&rsquo;t want more : 255 is 1.06% of the dataset.\n",
      "has kids, and might want more : 46 is 0.19% of the dataset.\n",
      "might want kids : 62 is 0.26% of the dataset.\n",
      "has a kid, and might want more : 90 is 0.37% of the dataset.\n",
      "has a kid, but doesn&rsquo;t want more : 178 is 0.74% of the dataset.\n",
      "has a kid, and wants more : 26 is 0.11% of the dataset.\n",
      "has kids, and wants more : 8 is 0.03% of the dataset.\n"
     ]
    }
   ],
   "source": [
    "hp.word_counter(females['offspring'])"
   ]
  },
  {
   "cell_type": "markdown",
   "metadata": {},
   "source": [
    "<h2>Location</h2>"
   ]
  },
  {
   "cell_type": "code",
   "execution_count": 33,
   "metadata": {},
   "outputs": [
    {
     "name": "stdout",
     "output_type": "stream",
     "text": [
      "south san francisco, california : 416 is 0.69% of the dataset.\n",
      "oakland, california : 7214 is 12.03% of the dataset.\n",
      "san francisco, california : 31064 is 51.82% of the dataset.\n",
      "berkeley, california : 4212 is 7.03% of the dataset.\n",
      "belvedere tiburon, california : 57 is 0.10% of the dataset.\n",
      "san mateo, california : 1331 is 2.22% of the dataset.\n",
      "daly city, california : 681 is 1.14% of the dataset.\n",
      "san leandro, california : 651 is 1.09% of the dataset.\n",
      "atherton, california : 45 is 0.08% of the dataset.\n",
      "san rafael, california : 755 is 1.26% of the dataset.\n",
      "walnut creek, california : 644 is 1.07% of the dataset.\n",
      "menlo park, california : 479 is 0.80% of the dataset.\n",
      "belmont, california : 243 is 0.41% of the dataset.\n",
      "san jose, california : 2 is 0.00% of the dataset.\n",
      "palo alto, california : 1064 is 1.77% of the dataset.\n",
      "emeryville, california : 738 is 1.23% of the dataset.\n",
      "el granada, california : 27 is 0.05% of the dataset.\n",
      "castro valley, california : 345 is 0.58% of the dataset.\n",
      "fairfax, california : 121 is 0.20% of the dataset.\n",
      "mountain view, california : 384 is 0.64% of the dataset.\n",
      "burlingame, california : 361 is 0.60% of the dataset.\n",
      "martinez, california : 316 is 0.53% of the dataset.\n",
      "pleasant hill, california : 347 is 0.58% of the dataset.\n",
      "hayward, california : 747 is 1.25% of the dataset.\n",
      "alameda, california : 910 is 1.52% of the dataset.\n",
      "vallejo, california : 558 is 0.93% of the dataset.\n",
      "benicia, california : 203 is 0.34% of the dataset.\n",
      "el cerrito, california : 325 is 0.54% of the dataset.\n",
      "mill valley, california : 315 is 0.53% of the dataset.\n",
      "richmond, california : 424 is 0.71% of the dataset.\n",
      "redwood city, california : 693 is 1.16% of the dataset.\n",
      "el sobrante, california : 137 is 0.23% of the dataset.\n",
      "stanford, california : 341 is 0.57% of the dataset.\n",
      "san pablo, california : 245 is 0.41% of the dataset.\n",
      "novato, california : 369 is 0.62% of the dataset.\n",
      "pacifica, california : 323 is 0.54% of the dataset.\n",
      "lafayette, california : 180 is 0.30% of the dataset.\n",
      "half moon bay, california : 99 is 0.17% of the dataset.\n",
      "fremont, california : 90 is 0.15% of the dataset.\n",
      "orinda, california : 85 is 0.14% of the dataset.\n",
      "san anselmo, california : 147 is 0.25% of the dataset.\n",
      "corte madera, california : 76 is 0.13% of the dataset.\n",
      "albany, california : 233 is 0.39% of the dataset.\n",
      "san carlos, california : 227 is 0.38% of the dataset.\n",
      "san lorenzo, california : 135 is 0.23% of the dataset.\n",
      "foster city, california : 24 is 0.04% of the dataset.\n",
      "hercules, california : 117 is 0.20% of the dataset.\n",
      "santa cruz, california : 5 is 0.01% of the dataset.\n",
      "bolinas, california : 8 is 0.01% of the dataset.\n",
      "sausalito, california : 179 is 0.30% of the dataset.\n",
      "millbrae, california : 155 is 0.26% of the dataset.\n",
      "larkspur, california : 80 is 0.13% of the dataset.\n",
      "moraga, california : 84 is 0.14% of the dataset.\n",
      "san bruno, california : 290 is 0.48% of the dataset.\n",
      "petaluma, california : 2 is 0.00% of the dataset.\n",
      "pinole, california : 104 is 0.17% of the dataset.\n",
      "san geronimo, california : 9 is 0.02% of the dataset.\n",
      "crockett, california : 32 is 0.05% of the dataset.\n",
      "boulder, colorado : 1 is 0.00% of the dataset.\n",
      "brisbane, california : 38 is 0.06% of the dataset.\n",
      "freedom, california : 1 is 0.00% of the dataset.\n",
      "montara, california : 12 is 0.02% of the dataset.\n",
      "green brae, california : 87 is 0.15% of the dataset.\n",
      "woodside, california : 11 is 0.02% of the dataset.\n",
      "new york, new york : 10 is 0.02% of the dataset.\n",
      "ross, california : 12 is 0.02% of the dataset.\n",
      "east palo alto, california : 13 is 0.02% of the dataset.\n",
      "san quentin, california : 2 is 0.00% of the dataset.\n",
      "portland, oregon : 4 is 0.01% of the dataset.\n",
      "rodeo, california : 37 is 0.06% of the dataset.\n",
      "hacienda heights, california : 1 is 0.00% of the dataset.\n",
      "woodacre, california : 16 is 0.03% of the dataset.\n",
      "westlake, california : 11 is 0.02% of the dataset.\n",
      "riverside, california : 1 is 0.00% of the dataset.\n",
      "rohnert park, california : 1 is 0.00% of the dataset.\n",
      "sacramento, california : 2 is 0.00% of the dataset.\n",
      "point richmond, california : 8 is 0.01% of the dataset.\n",
      "san diego, california : 6 is 0.01% of the dataset.\n",
      "canyon country, california : 1 is 0.00% of the dataset.\n",
      "tucson, arizona : 2 is 0.00% of the dataset.\n",
      "honolulu, hawaii : 1 is 0.00% of the dataset.\n",
      "billings, montana : 1 is 0.00% of the dataset.\n",
      "west oakland, california : 7 is 0.01% of the dataset.\n",
      "kentfield, california : 18 is 0.03% of the dataset.\n",
      "milwaukee, wisconsin : 1 is 0.00% of the dataset.\n",
      "woodbridge, virginia : 2 is 0.00% of the dataset.\n",
      "glencove, california : 1 is 0.00% of the dataset.\n",
      "tiburon, california : 5 is 0.01% of the dataset.\n",
      "madrid, spain : 2 is 0.00% of the dataset.\n",
      "las vegas, nevada : 1 is 0.00% of the dataset.\n",
      "peoria, illinois : 1 is 0.00% of the dataset.\n",
      "santa monica, california : 3 is 0.01% of the dataset.\n",
      "bellwood, illinois : 1 is 0.00% of the dataset.\n",
      "los angeles, california : 10 is 0.02% of the dataset.\n",
      "moss beach, california : 8 is 0.01% of the dataset.\n",
      "nha trang, vietnam : 1 is 0.00% of the dataset.\n",
      "hillsborough, california : 4 is 0.01% of the dataset.\n",
      "olema, california : 1 is 0.00% of the dataset.\n",
      "union city, california : 1 is 0.00% of the dataset.\n",
      "colma, california : 7 is 0.01% of the dataset.\n",
      "cork, ireland : 1 is 0.00% of the dataset.\n",
      "new orleans, louisiana : 1 is 0.00% of the dataset.\n",
      "kensington, california : 2 is 0.00% of the dataset.\n",
      "redwood shores, california : 2 is 0.00% of the dataset.\n",
      "utica, michigan : 1 is 0.00% of the dataset.\n",
      "brea, california : 1 is 0.00% of the dataset.\n",
      "lagunitas, california : 10 is 0.02% of the dataset.\n",
      "stinson beach, california : 4 is 0.01% of the dataset.\n",
      "santa clara, california : 1 is 0.00% of the dataset.\n",
      "studio city, california : 1 is 0.00% of the dataset.\n",
      "concord, california : 1 is 0.00% of the dataset.\n",
      "piedmont, california : 12 is 0.02% of the dataset.\n",
      "grand rapids, michigan : 1 is 0.00% of the dataset.\n",
      "seaside, california : 1 is 0.00% of the dataset.\n",
      "leander, texas : 1 is 0.00% of the dataset.\n",
      "forest knolls, california : 2 is 0.00% of the dataset.\n",
      "edinburgh, united kingdom : 1 is 0.00% of the dataset.\n",
      "magalia, california : 1 is 0.00% of the dataset.\n",
      "london, united kingdom : 1 is 0.00% of the dataset.\n",
      "astoria, new york : 1 is 0.00% of the dataset.\n",
      "chicago, illinois : 6 is 0.01% of the dataset.\n",
      "orange, california : 1 is 0.00% of the dataset.\n",
      "south wellfleet, massachusetts : 1 is 0.00% of the dataset.\n",
      "bayshore, california : 3 is 0.01% of the dataset.\n",
      "asheville, north carolina : 1 is 0.00% of the dataset.\n",
      "los gatos, california : 2 is 0.00% of the dataset.\n",
      "boise, idaho : 1 is 0.00% of the dataset.\n",
      "islip terrace, new york : 1 is 0.00% of the dataset.\n",
      "sunnyvale, california : 1 is 0.00% of the dataset.\n",
      "cambridge, massachusetts : 1 is 0.00% of the dataset.\n",
      "lake orion, michigan : 1 is 0.00% of the dataset.\n",
      "ozone park, new york : 1 is 0.00% of the dataset.\n",
      "jackson, mississippi : 1 is 0.00% of the dataset.\n",
      "ashland, california : 1 is 0.00% of the dataset.\n",
      "south orange, new jersey : 1 is 0.00% of the dataset.\n",
      "fort lauderdale, florida : 1 is 0.00% of the dataset.\n",
      "minneapolis, minnesota : 2 is 0.00% of the dataset.\n",
      "pasadena, california : 1 is 0.00% of the dataset.\n",
      "atlanta, georgia : 2 is 0.00% of the dataset.\n",
      "salt lake city, utah : 2 is 0.00% of the dataset.\n",
      "arcadia, california : 1 is 0.00% of the dataset.\n",
      "milpitas, california : 1 is 0.00% of the dataset.\n",
      "san antonio, texas : 1 is 0.00% of the dataset.\n",
      "port costa, california : 1 is 0.00% of the dataset.\n",
      "nicasio, california : 3 is 0.01% of the dataset.\n",
      "livingston, california : 1 is 0.00% of the dataset.\n",
      "bellingham, washington : 1 is 0.00% of the dataset.\n",
      "crowley, texas : 1 is 0.00% of the dataset.\n",
      "boston, massachusetts : 2 is 0.00% of the dataset.\n",
      "longwood, florida : 1 is 0.00% of the dataset.\n",
      "fayetteville, west virginia : 1 is 0.00% of the dataset.\n",
      "granite bay, california : 1 is 0.00% of the dataset.\n",
      "isla vista, california : 1 is 0.00% of the dataset.\n",
      "hilarita, california : 1 is 0.00% of the dataset.\n",
      "campbell, california : 1 is 0.00% of the dataset.\n",
      "stratford, connecticut : 1 is 0.00% of the dataset.\n",
      "santa ana, california : 1 is 0.00% of the dataset.\n",
      "santa rosa, california : 2 is 0.00% of the dataset.\n",
      "kula, hawaii : 1 is 0.00% of the dataset.\n",
      "murfreesboro, tennessee : 1 is 0.00% of the dataset.\n",
      "brooklyn, new york : 3 is 0.01% of the dataset.\n",
      "north hollywood, california : 1 is 0.00% of the dataset.\n",
      "nevada city, california : 1 is 0.00% of the dataset.\n",
      "providence, rhode island : 1 is 0.00% of the dataset.\n",
      "stockton, california : 1 is 0.00% of the dataset.\n",
      "marin city, california : 1 is 0.00% of the dataset.\n",
      "washington, district of columbia : 2 is 0.00% of the dataset.\n",
      "waterford, california : 1 is 0.00% of the dataset.\n",
      "vancouver, british columbia, canada : 1 is 0.00% of the dataset.\n",
      "muir beach, california : 1 is 0.00% of the dataset.\n",
      "pacheco, california : 1 is 0.00% of the dataset.\n",
      "irvine, california : 2 is 0.00% of the dataset.\n",
      "kansas city, missouri : 1 is 0.00% of the dataset.\n",
      "kassel, germany : 1 is 0.00% of the dataset.\n",
      "canyon, california : 1 is 0.00% of the dataset.\n",
      "philadelphia, pennsylvania : 1 is 0.00% of the dataset.\n",
      "oceanview, california : 1 is 0.00% of the dataset.\n",
      "long beach, new york : 1 is 0.00% of the dataset.\n",
      "amsterdam, netherlands : 1 is 0.00% of the dataset.\n",
      "taunton, massachusetts : 1 is 0.00% of the dataset.\n",
      "napa, california : 2 is 0.00% of the dataset.\n",
      "austin, texas : 1 is 0.00% of the dataset.\n",
      "san luis obispo, california : 1 is 0.00% of the dataset.\n",
      "modesto, california : 1 is 0.00% of the dataset.\n",
      "bonaduz, switzerland : 1 is 0.00% of the dataset.\n",
      "costa mesa, california : 1 is 0.00% of the dataset.\n",
      "guadalajara, mexico : 1 is 0.00% of the dataset.\n",
      "oakley, california : 1 is 0.00% of the dataset.\n",
      "columbus, ohio : 1 is 0.00% of the dataset.\n",
      "chico, california : 1 is 0.00% of the dataset.\n",
      "south lake tahoe, california : 1 is 0.00% of the dataset.\n",
      "vacaville, california : 1 is 0.00% of the dataset.\n",
      "miami, florida : 1 is 0.00% of the dataset.\n",
      "long beach, california : 1 is 0.00% of the dataset.\n",
      "denver, colorado : 1 is 0.00% of the dataset.\n",
      "seattle, washington : 1 is 0.00% of the dataset.\n",
      "cincinnati, ohio : 1 is 0.00% of the dataset.\n",
      "phoenix, arizona : 1 is 0.00% of the dataset.\n",
      "rochester, michigan : 1 is 0.00% of the dataset.\n"
     ]
    }
   ],
   "source": [
    "hp.word_counter(data['location'])"
   ]
  },
  {
   "cell_type": "markdown",
   "metadata": {},
   "source": [
    "<h3>Males</h3>"
   ]
  },
  {
   "cell_type": "code",
   "execution_count": 34,
   "metadata": {},
   "outputs": [
    {
     "name": "stdout",
     "output_type": "stream",
     "text": [
      "south san francisco, california : 294 is 0.82% of the dataset.\n",
      "oakland, california : 3723 is 10.39% of the dataset.\n",
      "san francisco, california : 18799 is 52.47% of the dataset.\n",
      "berkeley, california : 2455 is 6.85% of the dataset.\n",
      "san mateo, california : 852 is 2.38% of the dataset.\n",
      "daly city, california : 491 is 1.37% of the dataset.\n",
      "atherton, california : 25 is 0.07% of the dataset.\n",
      "san rafael, california : 415 is 1.16% of the dataset.\n",
      "menlo park, california : 280 is 0.78% of the dataset.\n",
      "san jose, california : 2 is 0.01% of the dataset.\n",
      "emeryville, california : 469 is 1.31% of the dataset.\n",
      "palo alto, california : 695 is 1.94% of the dataset.\n",
      "castro valley, california : 202 is 0.56% of the dataset.\n",
      "fairfax, california : 64 is 0.18% of the dataset.\n",
      "burlingame, california : 207 is 0.58% of the dataset.\n",
      "martinez, california : 179 is 0.50% of the dataset.\n",
      "pleasant hill, california : 210 is 0.59% of the dataset.\n",
      "hayward, california : 498 is 1.39% of the dataset.\n",
      "alameda, california : 543 is 1.52% of the dataset.\n",
      "vallejo, california : 387 is 1.08% of the dataset.\n",
      "benicia, california : 117 is 0.33% of the dataset.\n",
      "el cerrito, california : 204 is 0.57% of the dataset.\n",
      "el sobrante, california : 87 is 0.24% of the dataset.\n",
      "walnut creek, california : 387 is 1.08% of the dataset.\n",
      "belmont, california : 149 is 0.42% of the dataset.\n",
      "stanford, california : 244 is 0.68% of the dataset.\n",
      "pacifica, california : 201 is 0.56% of the dataset.\n",
      "novato, california : 230 is 0.64% of the dataset.\n",
      "mountain view, california : 278 is 0.78% of the dataset.\n",
      "san leandro, california : 401 is 1.12% of the dataset.\n",
      "redwood city, california : 434 is 1.21% of the dataset.\n",
      "san carlos, california : 147 is 0.41% of the dataset.\n",
      "richmond, california : 258 is 0.72% of the dataset.\n",
      "orinda, california : 55 is 0.15% of the dataset.\n",
      "santa cruz, california : 5 is 0.01% of the dataset.\n",
      "bolinas, california : 2 is 0.01% of the dataset.\n",
      "sausalito, california : 86 is 0.24% of the dataset.\n",
      "millbrae, california : 113 is 0.32% of the dataset.\n",
      "larkspur, california : 45 is 0.13% of the dataset.\n",
      "moraga, california : 51 is 0.14% of the dataset.\n",
      "san lorenzo, california : 91 is 0.25% of the dataset.\n",
      "san bruno, california : 198 is 0.55% of the dataset.\n",
      "petaluma, california : 1 is 0.00% of the dataset.\n",
      "pinole, california : 64 is 0.18% of the dataset.\n",
      "san geronimo, california : 4 is 0.01% of the dataset.\n",
      "lafayette, california : 106 is 0.30% of the dataset.\n",
      "san anselmo, california : 81 is 0.23% of the dataset.\n",
      "crockett, california : 19 is 0.05% of the dataset.\n",
      "fremont, california : 54 is 0.15% of the dataset.\n",
      "san pablo, california : 162 is 0.45% of the dataset.\n",
      "hercules, california : 68 is 0.19% of the dataset.\n",
      "boulder, colorado : 1 is 0.00% of the dataset.\n",
      "brisbane, california : 31 is 0.09% of the dataset.\n",
      "mill valley, california : 139 is 0.39% of the dataset.\n",
      "half moon bay, california : 51 is 0.14% of the dataset.\n",
      "belvedere tiburon, california : 28 is 0.08% of the dataset.\n",
      "albany, california : 128 is 0.36% of the dataset.\n",
      "new york, new york : 8 is 0.02% of the dataset.\n",
      "corte madera, california : 28 is 0.08% of the dataset.\n",
      "east palo alto, california : 10 is 0.03% of the dataset.\n",
      "san quentin, california : 1 is 0.00% of the dataset.\n",
      "foster city, california : 18 is 0.05% of the dataset.\n",
      "rodeo, california : 25 is 0.07% of the dataset.\n",
      "westlake, california : 8 is 0.02% of the dataset.\n",
      "green brae, california : 38 is 0.11% of the dataset.\n",
      "rohnert park, california : 1 is 0.00% of the dataset.\n",
      "sacramento, california : 1 is 0.00% of the dataset.\n",
      "point richmond, california : 7 is 0.02% of the dataset.\n",
      "san diego, california : 4 is 0.01% of the dataset.\n",
      "tucson, arizona : 1 is 0.00% of the dataset.\n",
      "honolulu, hawaii : 1 is 0.00% of the dataset.\n",
      "billings, montana : 1 is 0.00% of the dataset.\n",
      "west oakland, california : 4 is 0.01% of the dataset.\n",
      "milwaukee, wisconsin : 1 is 0.00% of the dataset.\n",
      "kentfield, california : 11 is 0.03% of the dataset.\n",
      "woodbridge, virginia : 2 is 0.01% of the dataset.\n",
      "tiburon, california : 4 is 0.01% of the dataset.\n",
      "montara, california : 3 is 0.01% of the dataset.\n",
      "nha trang, vietnam : 1 is 0.00% of the dataset.\n",
      "hillsborough, california : 2 is 0.01% of the dataset.\n",
      "union city, california : 1 is 0.00% of the dataset.\n",
      "ross, california : 6 is 0.02% of the dataset.\n",
      "colma, california : 6 is 0.02% of the dataset.\n",
      "cork, ireland : 1 is 0.00% of the dataset.\n",
      "new orleans, louisiana : 1 is 0.00% of the dataset.\n",
      "moss beach, california : 5 is 0.01% of the dataset.\n",
      "kensington, california : 1 is 0.00% of the dataset.\n",
      "utica, michigan : 1 is 0.00% of the dataset.\n",
      "brea, california : 1 is 0.00% of the dataset.\n",
      "woodside, california : 4 is 0.01% of the dataset.\n",
      "el granada, california : 10 is 0.03% of the dataset.\n",
      "santa clara, california : 1 is 0.00% of the dataset.\n",
      "studio city, california : 1 is 0.00% of the dataset.\n",
      "concord, california : 1 is 0.00% of the dataset.\n",
      "grand rapids, michigan : 1 is 0.00% of the dataset.\n",
      "seaside, california : 1 is 0.00% of the dataset.\n",
      "leander, texas : 1 is 0.00% of the dataset.\n",
      "piedmont, california : 5 is 0.01% of the dataset.\n",
      "edinburgh, united kingdom : 1 is 0.00% of the dataset.\n",
      "magalia, california : 1 is 0.00% of the dataset.\n",
      "london, united kingdom : 1 is 0.00% of the dataset.\n",
      "astoria, new york : 1 is 0.00% of the dataset.\n",
      "chicago, illinois : 3 is 0.01% of the dataset.\n",
      "orange, california : 1 is 0.00% of the dataset.\n",
      "los angeles, california : 6 is 0.02% of the dataset.\n",
      "south wellfleet, massachusetts : 1 is 0.00% of the dataset.\n",
      "bayshore, california : 3 is 0.01% of the dataset.\n",
      "asheville, north carolina : 1 is 0.00% of the dataset.\n",
      "los gatos, california : 1 is 0.00% of the dataset.\n",
      "boise, idaho : 1 is 0.00% of the dataset.\n",
      "sunnyvale, california : 1 is 0.00% of the dataset.\n",
      "lake orion, michigan : 1 is 0.00% of the dataset.\n",
      "santa monica, california : 2 is 0.01% of the dataset.\n",
      "stinson beach, california : 3 is 0.01% of the dataset.\n",
      "ozone park, new york : 1 is 0.00% of the dataset.\n",
      "ashland, california : 1 is 0.00% of the dataset.\n",
      "south orange, new jersey : 1 is 0.00% of the dataset.\n",
      "fort lauderdale, florida : 1 is 0.00% of the dataset.\n",
      "lagunitas, california : 4 is 0.01% of the dataset.\n",
      "minneapolis, minnesota : 2 is 0.01% of the dataset.\n",
      "salt lake city, utah : 1 is 0.00% of the dataset.\n",
      "arcadia, california : 1 is 0.00% of the dataset.\n",
      "woodacre, california : 5 is 0.01% of the dataset.\n",
      "san antonio, texas : 1 is 0.00% of the dataset.\n",
      "nicasio, california : 2 is 0.01% of the dataset.\n",
      "fayetteville, west virginia : 1 is 0.00% of the dataset.\n",
      "hilarita, california : 1 is 0.00% of the dataset.\n",
      "campbell, california : 1 is 0.00% of the dataset.\n",
      "stratford, connecticut : 1 is 0.00% of the dataset.\n",
      "santa rosa, california : 2 is 0.01% of the dataset.\n",
      "kula, hawaii : 1 is 0.00% of the dataset.\n",
      "murfreesboro, tennessee : 1 is 0.00% of the dataset.\n",
      "brooklyn, new york : 2 is 0.01% of the dataset.\n",
      "nevada city, california : 1 is 0.00% of the dataset.\n",
      "providence, rhode island : 1 is 0.00% of the dataset.\n",
      "stockton, california : 1 is 0.00% of the dataset.\n",
      "marin city, california : 1 is 0.00% of the dataset.\n",
      "washington, district of columbia : 2 is 0.01% of the dataset.\n",
      "waterford, california : 1 is 0.00% of the dataset.\n",
      "muir beach, california : 1 is 0.00% of the dataset.\n",
      "pacheco, california : 1 is 0.00% of the dataset.\n",
      "irvine, california : 2 is 0.01% of the dataset.\n",
      "kansas city, missouri : 1 is 0.00% of the dataset.\n",
      "kassel, germany : 1 is 0.00% of the dataset.\n",
      "canyon, california : 1 is 0.00% of the dataset.\n",
      "philadelphia, pennsylvania : 1 is 0.00% of the dataset.\n",
      "portland, oregon : 1 is 0.00% of the dataset.\n",
      "oceanview, california : 1 is 0.00% of the dataset.\n",
      "amsterdam, netherlands : 1 is 0.00% of the dataset.\n",
      "taunton, massachusetts : 1 is 0.00% of the dataset.\n",
      "austin, texas : 1 is 0.00% of the dataset.\n",
      "modesto, california : 1 is 0.00% of the dataset.\n",
      "boston, massachusetts : 1 is 0.00% of the dataset.\n",
      "forest knolls, california : 1 is 0.00% of the dataset.\n",
      "bonaduz, switzerland : 1 is 0.00% of the dataset.\n",
      "costa mesa, california : 1 is 0.00% of the dataset.\n",
      "guadalajara, mexico : 1 is 0.00% of the dataset.\n",
      "oakley, california : 1 is 0.00% of the dataset.\n",
      "columbus, ohio : 1 is 0.00% of the dataset.\n",
      "napa, california : 1 is 0.00% of the dataset.\n",
      "long beach, california : 1 is 0.00% of the dataset.\n",
      "denver, colorado : 1 is 0.00% of the dataset.\n",
      "seattle, washington : 1 is 0.00% of the dataset.\n",
      "cincinnati, ohio : 1 is 0.00% of the dataset.\n"
     ]
    }
   ],
   "source": [
    "hp.word_counter(males['location'])"
   ]
  },
  {
   "cell_type": "markdown",
   "metadata": {},
   "source": [
    "<h3>Females</h3>"
   ]
  },
  {
   "cell_type": "code",
   "execution_count": 35,
   "metadata": {},
   "outputs": [
    {
     "name": "stdout",
     "output_type": "stream",
     "text": [
      "san francisco, california : 12265 is 50.86% of the dataset.\n",
      "belvedere tiburon, california : 29 is 0.12% of the dataset.\n",
      "san leandro, california : 250 is 1.04% of the dataset.\n",
      "san rafael, california : 340 is 1.41% of the dataset.\n",
      "walnut creek, california : 257 is 1.07% of the dataset.\n",
      "belmont, california : 94 is 0.39% of the dataset.\n",
      "oakland, california : 3491 is 14.48% of the dataset.\n",
      "palo alto, california : 369 is 1.53% of the dataset.\n",
      "el granada, california : 17 is 0.07% of the dataset.\n",
      "mountain view, california : 106 is 0.44% of the dataset.\n",
      "menlo park, california : 199 is 0.83% of the dataset.\n",
      "berkeley, california : 1757 is 7.29% of the dataset.\n",
      "mill valley, california : 176 is 0.73% of the dataset.\n",
      "san mateo, california : 479 is 1.99% of the dataset.\n",
      "richmond, california : 166 is 0.69% of the dataset.\n",
      "redwood city, california : 259 is 1.07% of the dataset.\n",
      "el cerrito, california : 121 is 0.50% of the dataset.\n",
      "alameda, california : 367 is 1.52% of the dataset.\n",
      "daly city, california : 190 is 0.79% of the dataset.\n",
      "san pablo, california : 83 is 0.34% of the dataset.\n",
      "novato, california : 139 is 0.58% of the dataset.\n",
      "lafayette, california : 74 is 0.31% of the dataset.\n",
      "half moon bay, california : 48 is 0.20% of the dataset.\n",
      "fremont, california : 36 is 0.15% of the dataset.\n",
      "orinda, california : 30 is 0.12% of the dataset.\n",
      "san anselmo, california : 66 is 0.27% of the dataset.\n",
      "vallejo, california : 171 is 0.71% of the dataset.\n",
      "corte madera, california : 48 is 0.20% of the dataset.\n",
      "south san francisco, california : 122 is 0.51% of the dataset.\n",
      "albany, california : 105 is 0.44% of the dataset.\n",
      "castro valley, california : 143 is 0.59% of the dataset.\n",
      "burlingame, california : 154 is 0.64% of the dataset.\n",
      "san carlos, california : 80 is 0.33% of the dataset.\n",
      "san lorenzo, california : 44 is 0.18% of the dataset.\n",
      "hayward, california : 249 is 1.03% of the dataset.\n",
      "foster city, california : 6 is 0.02% of the dataset.\n",
      "hercules, california : 49 is 0.20% of the dataset.\n",
      "pacifica, california : 122 is 0.51% of the dataset.\n",
      "larkspur, california : 35 is 0.15% of the dataset.\n",
      "emeryville, california : 269 is 1.12% of the dataset.\n",
      "benicia, california : 86 is 0.36% of the dataset.\n",
      "martinez, california : 137 is 0.57% of the dataset.\n",
      "sausalito, california : 93 is 0.39% of the dataset.\n",
      "pinole, california : 40 is 0.17% of the dataset.\n",
      "pleasant hill, california : 137 is 0.57% of the dataset.\n",
      "freedom, california : 1 is 0.00% of the dataset.\n",
      "stanford, california : 97 is 0.40% of the dataset.\n",
      "millbrae, california : 42 is 0.17% of the dataset.\n",
      "montara, california : 9 is 0.04% of the dataset.\n",
      "green brae, california : 49 is 0.20% of the dataset.\n",
      "san bruno, california : 92 is 0.38% of the dataset.\n",
      "brisbane, california : 7 is 0.03% of the dataset.\n",
      "woodside, california : 7 is 0.03% of the dataset.\n",
      "moraga, california : 33 is 0.14% of the dataset.\n",
      "fairfax, california : 57 is 0.24% of the dataset.\n",
      "atherton, california : 20 is 0.08% of the dataset.\n",
      "ross, california : 6 is 0.02% of the dataset.\n",
      "portland, oregon : 3 is 0.01% of the dataset.\n",
      "rodeo, california : 12 is 0.05% of the dataset.\n",
      "el sobrante, california : 50 is 0.21% of the dataset.\n",
      "hacienda heights, california : 1 is 0.00% of the dataset.\n",
      "woodacre, california : 11 is 0.05% of the dataset.\n",
      "riverside, california : 1 is 0.00% of the dataset.\n",
      "sacramento, california : 1 is 0.00% of the dataset.\n",
      "canyon country, california : 1 is 0.00% of the dataset.\n",
      "kentfield, california : 7 is 0.03% of the dataset.\n",
      "bolinas, california : 6 is 0.02% of the dataset.\n",
      "glencove, california : 1 is 0.00% of the dataset.\n",
      "madrid, spain : 2 is 0.01% of the dataset.\n",
      "las vegas, nevada : 1 is 0.00% of the dataset.\n",
      "peoria, illinois : 1 is 0.00% of the dataset.\n",
      "crockett, california : 13 is 0.05% of the dataset.\n",
      "santa monica, california : 1 is 0.00% of the dataset.\n",
      "bellwood, illinois : 1 is 0.00% of the dataset.\n",
      "los angeles, california : 4 is 0.02% of the dataset.\n",
      "moss beach, california : 3 is 0.01% of the dataset.\n",
      "olema, california : 1 is 0.00% of the dataset.\n",
      "redwood shores, california : 2 is 0.01% of the dataset.\n",
      "lagunitas, california : 6 is 0.02% of the dataset.\n",
      "stinson beach, california : 1 is 0.00% of the dataset.\n",
      "west oakland, california : 3 is 0.01% of the dataset.\n",
      "piedmont, california : 7 is 0.03% of the dataset.\n",
      "tiburon, california : 1 is 0.00% of the dataset.\n",
      "san geronimo, california : 5 is 0.02% of the dataset.\n",
      "forest knolls, california : 1 is 0.00% of the dataset.\n",
      "hillsborough, california : 2 is 0.01% of the dataset.\n",
      "islip terrace, new york : 1 is 0.00% of the dataset.\n",
      "cambridge, massachusetts : 1 is 0.00% of the dataset.\n",
      "chicago, illinois : 3 is 0.01% of the dataset.\n",
      "san diego, california : 2 is 0.01% of the dataset.\n",
      "jackson, mississippi : 1 is 0.00% of the dataset.\n",
      "east palo alto, california : 3 is 0.01% of the dataset.\n",
      "petaluma, california : 1 is 0.00% of the dataset.\n",
      "westlake, california : 3 is 0.01% of the dataset.\n",
      "kensington, california : 1 is 0.00% of the dataset.\n",
      "pasadena, california : 1 is 0.00% of the dataset.\n",
      "atlanta, georgia : 2 is 0.01% of the dataset.\n",
      "milpitas, california : 1 is 0.00% of the dataset.\n",
      "port costa, california : 1 is 0.00% of the dataset.\n",
      "livingston, california : 1 is 0.00% of the dataset.\n",
      "bellingham, washington : 1 is 0.00% of the dataset.\n",
      "crowley, texas : 1 is 0.00% of the dataset.\n",
      "boston, massachusetts : 1 is 0.00% of the dataset.\n",
      "longwood, florida : 1 is 0.00% of the dataset.\n",
      "granite bay, california : 1 is 0.00% of the dataset.\n",
      "isla vista, california : 1 is 0.00% of the dataset.\n",
      "los gatos, california : 1 is 0.00% of the dataset.\n",
      "santa ana, california : 1 is 0.00% of the dataset.\n",
      "north hollywood, california : 1 is 0.00% of the dataset.\n",
      "tucson, arizona : 1 is 0.00% of the dataset.\n",
      "vancouver, british columbia, canada : 1 is 0.00% of the dataset.\n",
      "new york, new york : 2 is 0.01% of the dataset.\n",
      "long beach, new york : 1 is 0.00% of the dataset.\n",
      "san quentin, california : 1 is 0.00% of the dataset.\n",
      "napa, california : 1 is 0.00% of the dataset.\n",
      "san luis obispo, california : 1 is 0.00% of the dataset.\n",
      "salt lake city, utah : 1 is 0.00% of the dataset.\n",
      "brooklyn, new york : 1 is 0.00% of the dataset.\n",
      "colma, california : 1 is 0.00% of the dataset.\n",
      "chico, california : 1 is 0.00% of the dataset.\n",
      "south lake tahoe, california : 1 is 0.00% of the dataset.\n",
      "vacaville, california : 1 is 0.00% of the dataset.\n",
      "point richmond, california : 1 is 0.00% of the dataset.\n",
      "miami, florida : 1 is 0.00% of the dataset.\n",
      "nicasio, california : 1 is 0.00% of the dataset.\n",
      "phoenix, arizona : 1 is 0.00% of the dataset.\n",
      "rochester, michigan : 1 is 0.00% of the dataset.\n"
     ]
    }
   ],
   "source": [
    "hp.word_counter(females['location'])"
   ]
  },
  {
   "cell_type": "markdown",
   "metadata": {},
   "source": [
    "<h2>Orientation</h2>"
   ]
  },
  {
   "cell_type": "code",
   "execution_count": 36,
   "metadata": {},
   "outputs": [
    {
     "name": "stdout",
     "output_type": "stream",
     "text": [
      "straight : 51606 is 86.09% of the dataset.\n",
      "bisexual : 2767 is 4.62% of the dataset.\n",
      "gay : 5573 is 9.30% of the dataset.\n"
     ]
    }
   ],
   "source": [
    "hp.word_counter(data['orientation'])"
   ]
  },
  {
   "cell_type": "markdown",
   "metadata": {},
   "source": [
    "<h3>Males</h3>"
   ]
  },
  {
   "cell_type": "code",
   "execution_count": 37,
   "metadata": {},
   "outputs": [
    {
     "name": "stdout",
     "output_type": "stream",
     "text": [
      "straight : 31073 is 86.73% of the dataset.\n",
      "bisexual : 771 is 2.15% of the dataset.\n",
      "gay : 3985 is 11.12% of the dataset.\n"
     ]
    }
   ],
   "source": [
    "hp.word_counter(males['orientation'])"
   ]
  },
  {
   "cell_type": "markdown",
   "metadata": {},
   "source": [
    "<h3>Females</h3>"
   ]
  },
  {
   "cell_type": "code",
   "execution_count": 38,
   "metadata": {},
   "outputs": [
    {
     "name": "stdout",
     "output_type": "stream",
     "text": [
      "straight : 20533 is 85.14% of the dataset.\n",
      "bisexual : 1996 is 8.28% of the dataset.\n",
      "gay : 1588 is 6.58% of the dataset.\n"
     ]
    }
   ],
   "source": [
    "hp.word_counter(females['orientation'])"
   ]
  },
  {
   "cell_type": "markdown",
   "metadata": {},
   "source": [
    "<h2>Pets</h2>"
   ]
  },
  {
   "cell_type": "code",
   "execution_count": 39,
   "metadata": {},
   "outputs": [
    {
     "name": "stdout",
     "output_type": "stream",
     "text": [
      "likes dogs and likes cats : 14814 is 24.71% of the dataset.\n",
      "has cats : 1406 is 2.35% of the dataset.\n",
      "likes cats : 1063 is 1.77% of the dataset.\n",
      "nan : 19921 is 33.23% of the dataset.\n",
      "has dogs and likes cats : 2333 is 3.89% of the dataset.\n",
      "likes dogs and has cats : 4313 is 7.19% of the dataset.\n",
      "likes dogs and dislikes cats : 2029 is 3.38% of the dataset.\n",
      "has dogs : 4134 is 6.90% of the dataset.\n",
      "has dogs and dislikes cats : 552 is 0.92% of the dataset.\n",
      "likes dogs : 7224 is 12.05% of the dataset.\n",
      "has dogs and has cats : 1474 is 2.46% of the dataset.\n",
      "dislikes dogs and has cats : 81 is 0.14% of the dataset.\n",
      "dislikes dogs and dislikes cats : 196 is 0.33% of the dataset.\n",
      "dislikes cats : 122 is 0.20% of the dataset.\n",
      "dislikes dogs and likes cats : 240 is 0.40% of the dataset.\n",
      "dislikes dogs : 44 is 0.07% of the dataset.\n"
     ]
    }
   ],
   "source": [
    "hp.word_counter(data['pets'])"
   ]
  },
  {
   "cell_type": "markdown",
   "metadata": {},
   "source": [
    "<h3>Males</h3>"
   ]
  },
  {
   "cell_type": "code",
   "execution_count": 40,
   "metadata": {},
   "outputs": [
    {
     "name": "stdout",
     "output_type": "stream",
     "text": [
      "likes dogs and likes cats : 9550 is 26.65% of the dataset.\n",
      "has cats : 611 is 1.71% of the dataset.\n",
      "likes cats : 716 is 2.00% of the dataset.\n",
      "nan : 13023 is 36.35% of the dataset.\n",
      "has dogs : 2167 is 6.05% of the dataset.\n",
      "likes dogs and dislikes cats : 1111 is 3.10% of the dataset.\n",
      "has dogs and dislikes cats : 238 is 0.66% of the dataset.\n",
      "likes dogs : 4524 is 12.63% of the dataset.\n",
      "likes dogs and has cats : 1728 is 4.82% of the dataset.\n",
      "has dogs and has cats : 577 is 1.61% of the dataset.\n",
      "dislikes dogs and has cats : 49 is 0.14% of the dataset.\n",
      "has dogs and likes cats : 1183 is 3.30% of the dataset.\n",
      "dislikes dogs and dislikes cats : 101 is 0.28% of the dataset.\n",
      "dislikes cats : 64 is 0.18% of the dataset.\n",
      "dislikes dogs and likes cats : 165 is 0.46% of the dataset.\n",
      "dislikes dogs : 22 is 0.06% of the dataset.\n"
     ]
    }
   ],
   "source": [
    "hp.word_counter(males['pets'])"
   ]
  },
  {
   "cell_type": "markdown",
   "metadata": {},
   "source": [
    "<h3>Females</h3>"
   ]
  },
  {
   "cell_type": "code",
   "execution_count": 41,
   "metadata": {},
   "outputs": [
    {
     "name": "stdout",
     "output_type": "stream",
     "text": [
      "likes dogs and likes cats : 5264 is 21.83% of the dataset.\n",
      "has dogs and likes cats : 1150 is 4.77% of the dataset.\n",
      "likes dogs and has cats : 2585 is 10.72% of the dataset.\n",
      "nan : 6898 is 28.60% of the dataset.\n",
      "likes dogs and dislikes cats : 918 is 3.81% of the dataset.\n",
      "has cats : 795 is 3.30% of the dataset.\n",
      "likes dogs : 2700 is 11.20% of the dataset.\n",
      "has dogs : 1967 is 8.16% of the dataset.\n",
      "likes cats : 347 is 1.44% of the dataset.\n",
      "has dogs and has cats : 897 is 3.72% of the dataset.\n",
      "has dogs and dislikes cats : 314 is 1.30% of the dataset.\n",
      "dislikes dogs and dislikes cats : 95 is 0.39% of the dataset.\n",
      "dislikes cats : 58 is 0.24% of the dataset.\n",
      "dislikes dogs and has cats : 32 is 0.13% of the dataset.\n",
      "dislikes dogs and likes cats : 75 is 0.31% of the dataset.\n",
      "dislikes dogs : 22 is 0.09% of the dataset.\n"
     ]
    }
   ],
   "source": [
    "hp.word_counter(females['pets'])"
   ]
  },
  {
   "cell_type": "markdown",
   "metadata": {},
   "source": [
    "<h2>Religion</h2>"
   ]
  },
  {
   "cell_type": "code",
   "execution_count": 42,
   "metadata": {
    "scrolled": true
   },
   "outputs": [
    {
     "name": "stdout",
     "output_type": "stream",
     "text": [
      "agnosticism and very serious about it : 314 is 0.52% of the dataset.\n",
      "agnosticism but not too serious about it : 2636 is 4.40% of the dataset.\n",
      "nan : 20226 is 33.74% of the dataset.\n",
      "atheism : 2175 is 3.63% of the dataset.\n",
      "christianity : 1957 is 3.26% of the dataset.\n",
      "christianity but not too serious about it : 1952 is 3.26% of the dataset.\n",
      "atheism and laughing about it : 2074 is 3.46% of the dataset.\n",
      "christianity and very serious about it : 578 is 0.96% of the dataset.\n",
      "other : 2691 is 4.49% of the dataset.\n",
      "catholicism : 1064 is 1.77% of the dataset.\n",
      "catholicism but not too serious about it : 2318 is 3.87% of the dataset.\n",
      "catholicism and somewhat serious about it : 548 is 0.91% of the dataset.\n",
      "agnosticism and somewhat serious about it : 642 is 1.07% of the dataset.\n",
      "catholicism and laughing about it : 726 is 1.21% of the dataset.\n",
      "agnosticism and laughing about it : 2496 is 4.16% of the dataset.\n",
      "agnosticism : 2724 is 4.54% of the dataset.\n",
      "atheism and somewhat serious about it : 848 is 1.41% of the dataset.\n",
      "buddhism but not too serious about it : 650 is 1.08% of the dataset.\n",
      "other but not too serious about it : 1554 is 2.59% of the dataset.\n",
      "buddhism : 403 is 0.67% of the dataset.\n",
      "other and laughing about it : 2119 is 3.53% of the dataset.\n",
      "judaism but not too serious about it : 1517 is 2.53% of the dataset.\n",
      "buddhism and laughing about it : 466 is 0.78% of the dataset.\n",
      "other and somewhat serious about it : 846 is 1.41% of the dataset.\n",
      "other and very serious about it : 533 is 0.89% of the dataset.\n",
      "hinduism but not too serious about it : 227 is 0.38% of the dataset.\n",
      "atheism but not too serious about it : 1318 is 2.20% of the dataset.\n",
      "judaism : 612 is 1.02% of the dataset.\n",
      "christianity and somewhat serious about it : 927 is 1.55% of the dataset.\n",
      "hinduism and very serious about it : 14 is 0.02% of the dataset.\n",
      "atheism and very serious about it : 570 is 0.95% of the dataset.\n",
      "judaism and laughing about it : 681 is 1.14% of the dataset.\n",
      "christianity and laughing about it : 373 is 0.62% of the dataset.\n",
      "hinduism and laughing about it : 44 is 0.07% of the dataset.\n",
      "buddhism and somewhat serious about it : 359 is 0.60% of the dataset.\n",
      "islam and very serious about it : 13 is 0.02% of the dataset.\n",
      "islam : 48 is 0.08% of the dataset.\n",
      "hinduism : 107 is 0.18% of the dataset.\n",
      "judaism and somewhat serious about it : 266 is 0.44% of the dataset.\n",
      "catholicism and very serious about it : 102 is 0.17% of the dataset.\n",
      "judaism and very serious about it : 22 is 0.04% of the dataset.\n",
      "hinduism and somewhat serious about it : 58 is 0.10% of the dataset.\n",
      "islam but not too serious about it : 40 is 0.07% of the dataset.\n",
      "buddhism and very serious about it : 70 is 0.12% of the dataset.\n",
      "islam and laughing about it : 16 is 0.03% of the dataset.\n",
      "islam and somewhat serious about it : 22 is 0.04% of the dataset.\n"
     ]
    }
   ],
   "source": [
    "hp.word_counter(data['religion'])"
   ]
  },
  {
   "cell_type": "markdown",
   "metadata": {},
   "source": [
    "<h3>Males</h3>"
   ]
  },
  {
   "cell_type": "code",
   "execution_count": 43,
   "metadata": {
    "scrolled": true
   },
   "outputs": [
    {
     "name": "stdout",
     "output_type": "stream",
     "text": [
      "agnosticism and very serious about it : 216 is 0.60% of the dataset.\n",
      "agnosticism but not too serious about it : 1668 is 4.66% of the dataset.\n",
      "nan : 11980 is 33.44% of the dataset.\n",
      "atheism : 1501 is 4.19% of the dataset.\n",
      "atheism and laughing about it : 1541 is 4.30% of the dataset.\n",
      "christianity and very serious about it : 254 is 0.71% of the dataset.\n",
      "other : 1373 is 3.83% of the dataset.\n",
      "christianity : 999 is 2.79% of the dataset.\n",
      "catholicism but not too serious about it : 1307 is 3.65% of the dataset.\n",
      "agnosticism and somewhat serious about it : 407 is 1.14% of the dataset.\n",
      "catholicism and laughing about it : 426 is 1.19% of the dataset.\n",
      "agnosticism and laughing about it : 1688 is 4.71% of the dataset.\n",
      "atheism and somewhat serious about it : 624 is 1.74% of the dataset.\n",
      "buddhism but not too serious about it : 405 is 1.13% of the dataset.\n",
      "agnosticism : 1570 is 4.38% of the dataset.\n",
      "other but not too serious about it : 940 is 2.62% of the dataset.\n",
      "catholicism and somewhat serious about it : 275 is 0.77% of the dataset.\n",
      "buddhism : 205 is 0.57% of the dataset.\n",
      "catholicism : 606 is 1.69% of the dataset.\n",
      "judaism but not too serious about it : 769 is 2.15% of the dataset.\n",
      "buddhism and laughing about it : 299 is 0.83% of the dataset.\n",
      "atheism but not too serious about it : 983 is 2.74% of the dataset.\n",
      "other and very serious about it : 307 is 0.86% of the dataset.\n",
      "christianity and somewhat serious about it : 472 is 1.32% of the dataset.\n",
      "other and somewhat serious about it : 417 is 1.16% of the dataset.\n",
      "hinduism and very serious about it : 8 is 0.02% of the dataset.\n",
      "atheism and very serious about it : 382 is 1.07% of the dataset.\n",
      "judaism and laughing about it : 428 is 1.19% of the dataset.\n",
      "christianity and laughing about it : 242 is 0.68% of the dataset.\n",
      "christianity but not too serious about it : 1157 is 3.23% of the dataset.\n",
      "other and laughing about it : 1333 is 3.72% of the dataset.\n",
      "islam and very serious about it : 10 is 0.03% of the dataset.\n",
      "judaism : 279 is 0.78% of the dataset.\n",
      "islam : 37 is 0.10% of the dataset.\n",
      "buddhism and somewhat serious about it : 189 is 0.53% of the dataset.\n",
      "hinduism : 65 is 0.18% of the dataset.\n",
      "hinduism but not too serious about it : 160 is 0.45% of the dataset.\n",
      "hinduism and somewhat serious about it : 41 is 0.11% of the dataset.\n",
      "hinduism and laughing about it : 29 is 0.08% of the dataset.\n",
      "judaism and somewhat serious about it : 102 is 0.28% of the dataset.\n",
      "catholicism and very serious about it : 45 is 0.13% of the dataset.\n",
      "buddhism and very serious about it : 29 is 0.08% of the dataset.\n",
      "islam but not too serious about it : 32 is 0.09% of the dataset.\n",
      "islam and somewhat serious about it : 14 is 0.04% of the dataset.\n",
      "islam and laughing about it : 9 is 0.03% of the dataset.\n",
      "judaism and very serious about it : 6 is 0.02% of the dataset.\n"
     ]
    }
   ],
   "source": [
    "hp.word_counter(males['religion'])"
   ]
  },
  {
   "cell_type": "markdown",
   "metadata": {},
   "source": [
    "<h3>Females</h3>"
   ]
  },
  {
   "cell_type": "code",
   "execution_count": 44,
   "metadata": {
    "scrolled": true
   },
   "outputs": [
    {
     "name": "stdout",
     "output_type": "stream",
     "text": [
      "nan : 8246 is 34.19% of the dataset.\n",
      "christianity : 958 is 3.97% of the dataset.\n",
      "christianity but not too serious about it : 795 is 3.30% of the dataset.\n",
      "catholicism : 458 is 1.90% of the dataset.\n",
      "atheism and laughing about it : 533 is 2.21% of the dataset.\n",
      "catholicism and somewhat serious about it : 273 is 1.13% of the dataset.\n",
      "agnosticism : 1154 is 4.79% of the dataset.\n",
      "other : 1318 is 5.47% of the dataset.\n",
      "other but not too serious about it : 614 is 2.55% of the dataset.\n",
      "other and laughing about it : 786 is 3.26% of the dataset.\n",
      "other and somewhat serious about it : 429 is 1.78% of the dataset.\n",
      "other and very serious about it : 226 is 0.94% of the dataset.\n",
      "hinduism but not too serious about it : 67 is 0.28% of the dataset.\n",
      "agnosticism and laughing about it : 808 is 3.35% of the dataset.\n",
      "agnosticism but not too serious about it : 968 is 4.01% of the dataset.\n",
      "atheism : 674 is 2.79% of the dataset.\n",
      "judaism : 333 is 1.38% of the dataset.\n",
      "buddhism : 198 is 0.82% of the dataset.\n",
      "judaism but not too serious about it : 748 is 3.10% of the dataset.\n",
      "christianity and very serious about it : 324 is 1.34% of the dataset.\n",
      "agnosticism and somewhat serious about it : 235 is 0.97% of the dataset.\n",
      "catholicism and laughing about it : 300 is 1.24% of the dataset.\n",
      "catholicism but not too serious about it : 1011 is 4.19% of the dataset.\n",
      "agnosticism and very serious about it : 98 is 0.41% of the dataset.\n",
      "christianity and somewhat serious about it : 455 is 1.89% of the dataset.\n",
      "christianity and laughing about it : 131 is 0.54% of the dataset.\n",
      "buddhism but not too serious about it : 245 is 1.02% of the dataset.\n",
      "hinduism and laughing about it : 15 is 0.06% of the dataset.\n",
      "judaism and laughing about it : 253 is 1.05% of the dataset.\n",
      "buddhism and somewhat serious about it : 170 is 0.70% of the dataset.\n",
      "buddhism and laughing about it : 167 is 0.69% of the dataset.\n",
      "atheism and very serious about it : 188 is 0.78% of the dataset.\n",
      "atheism but not too serious about it : 335 is 1.39% of the dataset.\n",
      "atheism and somewhat serious about it : 224 is 0.93% of the dataset.\n",
      "judaism and somewhat serious about it : 164 is 0.68% of the dataset.\n",
      "catholicism and very serious about it : 57 is 0.24% of the dataset.\n",
      "judaism and very serious about it : 16 is 0.07% of the dataset.\n",
      "islam : 11 is 0.05% of the dataset.\n",
      "islam but not too serious about it : 8 is 0.03% of the dataset.\n",
      "islam and laughing about it : 7 is 0.03% of the dataset.\n",
      "hinduism and somewhat serious about it : 17 is 0.07% of the dataset.\n",
      "hinduism : 42 is 0.17% of the dataset.\n",
      "hinduism and very serious about it : 6 is 0.02% of the dataset.\n",
      "buddhism and very serious about it : 41 is 0.17% of the dataset.\n",
      "islam and very serious about it : 3 is 0.01% of the dataset.\n",
      "islam and somewhat serious about it : 8 is 0.03% of the dataset.\n"
     ]
    }
   ],
   "source": [
    "hp.word_counter(females['religion'])"
   ]
  },
  {
   "cell_type": "markdown",
   "metadata": {},
   "source": [
    "<h2>Sign</h2>"
   ]
  },
  {
   "cell_type": "code",
   "execution_count": 45,
   "metadata": {
    "scrolled": true
   },
   "outputs": [
    {
     "name": "stdout",
     "output_type": "stream",
     "text": [
      "gemini : 1013 is 1.69% of the dataset.\n",
      "cancer : 1092 is 1.82% of the dataset.\n",
      "pisces but it doesn&rsquo;t matter : 1300 is 2.17% of the dataset.\n",
      "pisces : 992 is 1.65% of the dataset.\n",
      "aquarius : 954 is 1.59% of the dataset.\n",
      "taurus : 1001 is 1.67% of the dataset.\n",
      "virgo : 1029 is 1.72% of the dataset.\n",
      "sagittarius : 937 is 1.56% of the dataset.\n",
      "gemini but it doesn&rsquo;t matter : 1453 is 2.42% of the dataset.\n",
      "cancer but it doesn&rsquo;t matter : 1454 is 2.43% of the dataset.\n",
      "leo but it doesn&rsquo;t matter : 1457 is 2.43% of the dataset.\n",
      "nan : 11056 is 18.44% of the dataset.\n",
      "aquarius but it doesn&rsquo;t matter : 1408 is 2.35% of the dataset.\n",
      "aries and it&rsquo;s fun to think about : 1573 is 2.62% of the dataset.\n",
      "libra but it doesn&rsquo;t matter : 1408 is 2.35% of the dataset.\n",
      "pisces and it&rsquo;s fun to think about : 1592 is 2.66% of the dataset.\n",
      "libra : 1098 is 1.83% of the dataset.\n",
      "taurus but it doesn&rsquo;t matter : 1450 is 2.42% of the dataset.\n",
      "sagittarius but it doesn&rsquo;t matter : 1375 is 2.29% of the dataset.\n",
      "scorpio and it matters a lot : 78 is 0.13% of the dataset.\n",
      "gemini and it&rsquo;s fun to think about : 1782 is 2.97% of the dataset.\n",
      "leo and it&rsquo;s fun to think about : 1692 is 2.82% of the dataset.\n",
      "cancer and it&rsquo;s fun to think about : 1597 is 2.66% of the dataset.\n",
      "libra and it&rsquo;s fun to think about : 1649 is 2.75% of the dataset.\n",
      "aquarius and it&rsquo;s fun to think about : 1503 is 2.51% of the dataset.\n",
      "virgo but it doesn&rsquo;t matter : 1497 is 2.50% of the dataset.\n",
      "scorpio and it&rsquo;s fun to think about : 1772 is 2.96% of the dataset.\n",
      "capricorn but it doesn&rsquo;t matter : 1319 is 2.20% of the dataset.\n",
      "scorpio : 1020 is 1.70% of the dataset.\n",
      "capricorn and it&rsquo;s fun to think about : 1376 is 2.30% of the dataset.\n",
      "leo : 1159 is 1.93% of the dataset.\n",
      "aries but it doesn&rsquo;t matter : 1373 is 2.29% of the dataset.\n",
      "aries : 996 is 1.66% of the dataset.\n",
      "scorpio but it doesn&rsquo;t matter : 1264 is 2.11% of the dataset.\n",
      "sagittarius and it&rsquo;s fun to think about : 1583 is 2.64% of the dataset.\n",
      "libra and it matters a lot : 52 is 0.09% of the dataset.\n",
      "taurus and it&rsquo;s fun to think about : 1640 is 2.74% of the dataset.\n",
      "leo and it matters a lot : 66 is 0.11% of the dataset.\n",
      "virgo and it&rsquo;s fun to think about : 1574 is 2.63% of the dataset.\n",
      "cancer and it matters a lot : 63 is 0.11% of the dataset.\n",
      "capricorn : 833 is 1.39% of the dataset.\n",
      "pisces and it matters a lot : 62 is 0.10% of the dataset.\n",
      "aries and it matters a lot : 47 is 0.08% of the dataset.\n",
      "capricorn and it matters a lot : 45 is 0.08% of the dataset.\n",
      "aquarius and it matters a lot : 63 is 0.11% of the dataset.\n",
      "sagittarius and it matters a lot : 47 is 0.08% of the dataset.\n",
      "gemini and it matters a lot : 62 is 0.10% of the dataset.\n",
      "taurus and it matters a lot : 49 is 0.08% of the dataset.\n",
      "virgo and it matters a lot : 41 is 0.07% of the dataset.\n"
     ]
    }
   ],
   "source": [
    "hp.word_counter(data['sign'])"
   ]
  },
  {
   "cell_type": "markdown",
   "metadata": {},
   "source": [
    "<h3>Males</h3>"
   ]
  },
  {
   "cell_type": "code",
   "execution_count": 46,
   "metadata": {
    "scrolled": true
   },
   "outputs": [
    {
     "name": "stdout",
     "output_type": "stream",
     "text": [
      "gemini : 627 is 1.75% of the dataset.\n",
      "cancer : 651 is 1.82% of the dataset.\n",
      "pisces but it doesn&rsquo;t matter : 890 is 2.48% of the dataset.\n",
      "pisces : 573 is 1.60% of the dataset.\n",
      "aquarius : 562 is 1.57% of the dataset.\n",
      "taurus : 617 is 1.72% of the dataset.\n",
      "cancer but it doesn&rsquo;t matter : 967 is 2.70% of the dataset.\n",
      "leo but it doesn&rsquo;t matter : 985 is 2.75% of the dataset.\n",
      "libra but it doesn&rsquo;t matter : 940 is 2.62% of the dataset.\n",
      "pisces and it&rsquo;s fun to think about : 809 is 2.26% of the dataset.\n",
      "sagittarius but it doesn&rsquo;t matter : 880 is 2.46% of the dataset.\n",
      "aquarius but it doesn&rsquo;t matter : 940 is 2.62% of the dataset.\n",
      "scorpio and it matters a lot : 36 is 0.10% of the dataset.\n",
      "gemini and it&rsquo;s fun to think about : 922 is 2.57% of the dataset.\n",
      "leo and it&rsquo;s fun to think about : 851 is 2.38% of the dataset.\n",
      "nan : 7333 is 20.47% of the dataset.\n",
      "cancer and it&rsquo;s fun to think about : 836 is 2.33% of the dataset.\n",
      "libra and it&rsquo;s fun to think about : 862 is 2.41% of the dataset.\n",
      "gemini but it doesn&rsquo;t matter : 957 is 2.67% of the dataset.\n",
      "libra : 664 is 1.85% of the dataset.\n",
      "sagittarius : 538 is 1.50% of the dataset.\n",
      "virgo but it doesn&rsquo;t matter : 986 is 2.75% of the dataset.\n",
      "scorpio and it&rsquo;s fun to think about : 963 is 2.69% of the dataset.\n",
      "capricorn but it doesn&rsquo;t matter : 858 is 2.39% of the dataset.\n",
      "scorpio : 611 is 1.71% of the dataset.\n",
      "leo : 714 is 1.99% of the dataset.\n",
      "aries but it doesn&rsquo;t matter : 904 is 2.52% of the dataset.\n",
      "aries : 572 is 1.60% of the dataset.\n",
      "aries and it&rsquo;s fun to think about : 788 is 2.20% of the dataset.\n",
      "virgo : 619 is 1.73% of the dataset.\n",
      "sagittarius and it&rsquo;s fun to think about : 767 is 2.14% of the dataset.\n",
      "taurus and it&rsquo;s fun to think about : 836 is 2.33% of the dataset.\n",
      "scorpio but it doesn&rsquo;t matter : 852 is 2.38% of the dataset.\n",
      "aquarius and it&rsquo;s fun to think about : 739 is 2.06% of the dataset.\n",
      "leo and it matters a lot : 35 is 0.10% of the dataset.\n",
      "cancer and it matters a lot : 32 is 0.09% of the dataset.\n",
      "taurus but it doesn&rsquo;t matter : 967 is 2.70% of the dataset.\n",
      "capricorn : 487 is 1.36% of the dataset.\n",
      "aries and it matters a lot : 20 is 0.06% of the dataset.\n",
      "virgo and it&rsquo;s fun to think about : 780 is 2.18% of the dataset.\n",
      "capricorn and it&rsquo;s fun to think about : 664 is 1.85% of the dataset.\n",
      "aquarius and it matters a lot : 37 is 0.10% of the dataset.\n",
      "capricorn and it matters a lot : 20 is 0.06% of the dataset.\n",
      "gemini and it matters a lot : 28 is 0.08% of the dataset.\n",
      "pisces and it matters a lot : 29 is 0.08% of the dataset.\n",
      "libra and it matters a lot : 23 is 0.06% of the dataset.\n",
      "taurus and it matters a lot : 22 is 0.06% of the dataset.\n",
      "sagittarius and it matters a lot : 22 is 0.06% of the dataset.\n",
      "virgo and it matters a lot : 14 is 0.04% of the dataset.\n"
     ]
    }
   ],
   "source": [
    "hp.word_counter(males['sign'])"
   ]
  },
  {
   "cell_type": "markdown",
   "metadata": {},
   "source": [
    "<h3>Females</h3>"
   ]
  },
  {
   "cell_type": "code",
   "execution_count": 47,
   "metadata": {
    "scrolled": true
   },
   "outputs": [
    {
     "name": "stdout",
     "output_type": "stream",
     "text": [
      "virgo : 410 is 1.70% of the dataset.\n",
      "sagittarius : 399 is 1.65% of the dataset.\n",
      "gemini but it doesn&rsquo;t matter : 496 is 2.06% of the dataset.\n",
      "nan : 3723 is 15.44% of the dataset.\n",
      "taurus : 384 is 1.59% of the dataset.\n",
      "aquarius but it doesn&rsquo;t matter : 468 is 1.94% of the dataset.\n",
      "aries and it&rsquo;s fun to think about : 785 is 3.25% of the dataset.\n",
      "libra : 434 is 1.80% of the dataset.\n",
      "taurus but it doesn&rsquo;t matter : 483 is 2.00% of the dataset.\n",
      "gemini : 386 is 1.60% of the dataset.\n",
      "cancer : 441 is 1.83% of the dataset.\n",
      "aquarius and it&rsquo;s fun to think about : 764 is 3.17% of the dataset.\n",
      "gemini and it&rsquo;s fun to think about : 860 is 3.57% of the dataset.\n",
      "pisces : 419 is 1.74% of the dataset.\n",
      "libra and it&rsquo;s fun to think about : 787 is 3.26% of the dataset.\n",
      "leo and it&rsquo;s fun to think about : 841 is 3.49% of the dataset.\n",
      "cancer but it doesn&rsquo;t matter : 487 is 2.02% of the dataset.\n",
      "pisces and it&rsquo;s fun to think about : 783 is 3.25% of the dataset.\n",
      "capricorn and it&rsquo;s fun to think about : 712 is 2.95% of the dataset.\n",
      "scorpio but it doesn&rsquo;t matter : 412 is 1.71% of the dataset.\n",
      "aries but it doesn&rsquo;t matter : 469 is 1.94% of the dataset.\n",
      "scorpio : 409 is 1.70% of the dataset.\n",
      "libra and it matters a lot : 29 is 0.12% of the dataset.\n",
      "leo : 445 is 1.85% of the dataset.\n",
      "cancer and it&rsquo;s fun to think about : 761 is 3.16% of the dataset.\n",
      "scorpio and it&rsquo;s fun to think about : 809 is 3.35% of the dataset.\n",
      "leo but it doesn&rsquo;t matter : 472 is 1.96% of the dataset.\n",
      "sagittarius but it doesn&rsquo;t matter : 495 is 2.05% of the dataset.\n",
      "virgo and it&rsquo;s fun to think about : 794 is 3.29% of the dataset.\n",
      "aquarius : 392 is 1.63% of the dataset.\n",
      "taurus and it&rsquo;s fun to think about : 804 is 3.33% of the dataset.\n",
      "virgo but it doesn&rsquo;t matter : 511 is 2.12% of the dataset.\n",
      "pisces but it doesn&rsquo;t matter : 410 is 1.70% of the dataset.\n",
      "sagittarius and it&rsquo;s fun to think about : 816 is 3.38% of the dataset.\n",
      "pisces and it matters a lot : 33 is 0.14% of the dataset.\n",
      "capricorn and it matters a lot : 25 is 0.10% of the dataset.\n",
      "capricorn : 346 is 1.43% of the dataset.\n",
      "scorpio and it matters a lot : 42 is 0.17% of the dataset.\n",
      "libra but it doesn&rsquo;t matter : 468 is 1.94% of the dataset.\n",
      "aries : 424 is 1.76% of the dataset.\n",
      "capricorn but it doesn&rsquo;t matter : 461 is 1.91% of the dataset.\n",
      "sagittarius and it matters a lot : 25 is 0.10% of the dataset.\n",
      "leo and it matters a lot : 31 is 0.13% of the dataset.\n",
      "gemini and it matters a lot : 34 is 0.14% of the dataset.\n",
      "aquarius and it matters a lot : 26 is 0.11% of the dataset.\n",
      "cancer and it matters a lot : 31 is 0.13% of the dataset.\n",
      "virgo and it matters a lot : 27 is 0.11% of the dataset.\n",
      "taurus and it matters a lot : 27 is 0.11% of the dataset.\n",
      "aries and it matters a lot : 27 is 0.11% of the dataset.\n"
     ]
    }
   ],
   "source": [
    "hp.word_counter(females['sign'])"
   ]
  },
  {
   "cell_type": "markdown",
   "metadata": {},
   "source": [
    "<h2>Smokes</h2>"
   ]
  },
  {
   "cell_type": "code",
   "execution_count": 48,
   "metadata": {},
   "outputs": [
    {
     "name": "stdout",
     "output_type": "stream",
     "text": [
      "sometimes : 3787 is 6.32% of the dataset.\n",
      "no : 43896 is 73.23% of the dataset.\n",
      "nan : 5512 is 9.19% of the dataset.\n",
      "when drinking : 3040 is 5.07% of the dataset.\n",
      "yes : 2231 is 3.72% of the dataset.\n",
      "trying to quit : 1480 is 2.47% of the dataset.\n"
     ]
    }
   ],
   "source": [
    "hp.word_counter(data['smokes'])"
   ]
  },
  {
   "cell_type": "markdown",
   "metadata": {},
   "source": [
    "<h3>Males</h3>"
   ]
  },
  {
   "cell_type": "code",
   "execution_count": 49,
   "metadata": {},
   "outputs": [
    {
     "name": "stdout",
     "output_type": "stream",
     "text": [
      "sometimes : 2421 is 6.76% of the dataset.\n",
      "no : 25635 is 71.55% of the dataset.\n",
      "yes : 1435 is 4.01% of the dataset.\n",
      "nan : 3460 is 9.66% of the dataset.\n",
      "trying to quit : 1000 is 2.79% of the dataset.\n",
      "when drinking : 1878 is 5.24% of the dataset.\n"
     ]
    }
   ],
   "source": [
    "hp.word_counter(males['smokes'])"
   ]
  },
  {
   "cell_type": "markdown",
   "metadata": {},
   "source": [
    "<h3>Females</h3>"
   ]
  },
  {
   "cell_type": "code",
   "execution_count": 50,
   "metadata": {},
   "outputs": [
    {
     "name": "stdout",
     "output_type": "stream",
     "text": [
      "nan : 2052 is 8.51% of the dataset.\n",
      "no : 18261 is 75.72% of the dataset.\n",
      "when drinking : 1162 is 4.82% of the dataset.\n",
      "trying to quit : 480 is 1.99% of the dataset.\n",
      "sometimes : 1366 is 5.66% of the dataset.\n",
      "yes : 796 is 3.30% of the dataset.\n"
     ]
    }
   ],
   "source": [
    "hp.word_counter(females['smokes'])"
   ]
  },
  {
   "cell_type": "markdown",
   "metadata": {},
   "source": [
    "<h2>Status</h2>"
   ]
  },
  {
   "cell_type": "code",
   "execution_count": 51,
   "metadata": {},
   "outputs": [
    {
     "name": "stdout",
     "output_type": "stream",
     "text": [
      "single : 55697 is 92.91% of the dataset.\n",
      "available : 1865 is 3.11% of the dataset.\n",
      "seeing someone : 2064 is 3.44% of the dataset.\n",
      "married : 310 is 0.52% of the dataset.\n",
      "unknown : 10 is 0.02% of the dataset.\n"
     ]
    }
   ],
   "source": [
    "hp.word_counter(data['status'])"
   ]
  },
  {
   "cell_type": "markdown",
   "metadata": {},
   "source": [
    "<h3>Males</h3>"
   ]
  },
  {
   "cell_type": "code",
   "execution_count": 52,
   "metadata": {},
   "outputs": [
    {
     "name": "stdout",
     "output_type": "stream",
     "text": [
      "single : 33378 is 93.16% of the dataset.\n",
      "available : 1209 is 3.37% of the dataset.\n",
      "seeing someone : 1061 is 2.96% of the dataset.\n",
      "married : 175 is 0.49% of the dataset.\n",
      "unknown : 6 is 0.02% of the dataset.\n"
     ]
    }
   ],
   "source": [
    "hp.word_counter(males['status'])"
   ]
  },
  {
   "cell_type": "markdown",
   "metadata": {},
   "source": [
    "<h3>Females</h3>"
   ]
  },
  {
   "cell_type": "code",
   "execution_count": 53,
   "metadata": {},
   "outputs": [
    {
     "name": "stdout",
     "output_type": "stream",
     "text": [
      "single : 22319 is 92.54% of the dataset.\n",
      "available : 656 is 2.72% of the dataset.\n",
      "seeing someone : 1003 is 4.16% of the dataset.\n",
      "married : 135 is 0.56% of the dataset.\n",
      "unknown : 4 is 0.02% of the dataset.\n"
     ]
    }
   ],
   "source": [
    "hp.word_counter(females['status'])"
   ]
  }
 ],
 "metadata": {
  "kernelspec": {
   "display_name": "Python 2",
   "language": "python",
   "name": "python2"
  },
  "language_info": {
   "codemirror_mode": {
    "name": "ipython",
    "version": 3
   },
   "file_extension": ".py",
   "mimetype": "text/x-python",
   "name": "python",
   "nbconvert_exporter": "python",
   "pygments_lexer": "ipython3",
   "version": "3.6.2"
  }
 },
 "nbformat": 4,
 "nbformat_minor": 1
}
