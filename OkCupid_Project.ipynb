{
 "cells": [
  {
   "cell_type": "markdown",
   "metadata": {},
   "source": [
    "<h1>Exploring OkCupid Dataset</h1>"
   ]
  },
  {
   "cell_type": "markdown",
   "metadata": {},
   "source": [
    "<h2>Natural Language Processing: Analyzing what people write about themselves</h2>"
   ]
  },
  {
   "cell_type": "code",
   "execution_count": 1,
   "metadata": {
    "collapsed": true
   },
   "outputs": [],
   "source": [
    "import pandas as pd\n",
    "import numpy as np\n",
    "import sklearn\n",
    "import seaborn as sns\n",
    "import matplotlib\n",
    "import matplotlib.pyplot as plt\n",
    "#import nltk\n",
    "#import string\n",
    "import helper as hp ###function I coded for this project\n",
    "from IPython.display import display\n",
    "%matplotlib inline\n",
    "\n",
    "data = pd.read_csv(\"profiles.csv\") #this is the original csv"
   ]
  },
  {
   "cell_type": "code",
   "execution_count": 2,
   "metadata": {
    "collapsed": true
   },
   "outputs": [],
   "source": [
    "import random"
   ]
  },
  {
   "cell_type": "code",
   "execution_count": 3,
   "metadata": {},
   "outputs": [
    {
     "name": "stdout",
     "output_type": "stream",
     "text": [
      "['essay0', 'essay1', 'essay2', 'essay3', 'essay4', 'essay5', 'essay6', 'essay7', 'essay8', 'essay9']\n",
      "['essay0_mod', 'essay1_mod', 'essay2_mod', 'essay3_mod', 'essay4_mod', 'essay5_mod', 'essay6_mod', 'essay7_mod', 'essay8_mod', 'essay9_mod']\n",
      "['essay0_words', 'essay1_words', 'essay2_words', 'essay3_words', 'essay4_words', 'essay5_words', 'essay6_words', 'essay7_words', 'essay8_words', 'essay9_words']\n"
     ]
    }
   ],
   "source": [
    "stringer = 'essay'\n",
    "lister = []\n",
    "mod_lister = []\n",
    "word_bank = []\n",
    "for i in range(0,10):\n",
    "    lister.append(stringer + str(i))\n",
    "    mod_lister.append(stringer + str(i) + '_mod')\n",
    "    word_bank.append(stringer + str(i) + '_words')\n",
    "print(lister)\n",
    "print(mod_lister)\n",
    "print(word_bank)"
   ]
  },
  {
   "cell_type": "code",
   "execution_count": 4,
   "metadata": {
    "collapsed": true
   },
   "outputs": [],
   "source": [
    "for i, j in zip(lister, mod_lister):\n",
    "    data[j] = data[i].replace(np.nan, '', regex=True)\n",
    "    data[j] = data[j].apply(hp.remove_tags)"
   ]
  },
  {
   "cell_type": "code",
   "execution_count": 5,
   "metadata": {
    "collapsed": true
   },
   "outputs": [],
   "source": [
    "for i, j in zip(mod_lister, word_bank):\n",
    "    data[j] = data[i].apply(hp.word_count)"
   ]
  },
  {
   "cell_type": "code",
   "execution_count": 6,
   "metadata": {
    "scrolled": true
   },
   "outputs": [
    {
     "name": "stdout",
     "output_type": "stream",
     "text": [
      "13999 \n",
      "\n",
      "\n",
      "i am currently in a very successful relationship and engagement\n",
      "with the wildly fascinating and lovely <a class=\"plink\" href=\n",
      "\"/profile/lildutchgrrl\">lildutchgrrl</a>. she is my <a class=\n",
      "\"ilink\" href=\"/interests?i=primary+relationship\">primary\n",
      "relationship</a> but i am interested in dating others (or something\n",
      "along those lines). her wanting me to fix up my profiles led to me\n",
      "just scrapping stuff i used to have on here and creating this new\n",
      "one. ask your questions and realize that when you do you have to\n",
      "give me a mindset you want them answered in as well. i generally\n",
      "respond to questions twice, once from the femme side and once from\n",
      "the butch side. please react accordingly. i tend to wear pants but\n",
      "i've got some mighty fine heels to go with them!<br />\n",
      "<br />\n",
      "i like, in no particular order: <a class=\"ilink\" href=\n",
      "\"/interests?i=religion\">religion</a>, <a class=\"ilink\" href=\n",
      "\"/interests?i=literature\">literature</a>, <a class=\"ilink\" href=\n",
      "\"/interests?i=dancing+when+no+one+is+looking\">dancing when no one\n",
      "is looking</a>, <a class=\"ilink\" href=\n",
      "\"/interests?i=music\">music</a>, <a class=\"ilink\" href=\n",
      "\"/interests?i=writing\">writing</a>.<br />\n",
      "<br />\n",
      "i am sinister, socratic, and weird. \n",
      "\n",
      "\n",
      "i am currently in a very successful relationship and engagement with the wildly fascinating and lovely  lildutchgrrl she is my  primary relationship  but i am interested in dating others  or something along those lines  her wanting me to fix up my profiles led to me just scrapping stuff i used to have on here and creating this new one ask your questions and realize that when you do you have to give me a mindset you want them answered in as well i generally respond to questions twice  once from the femme side and once from the butch side please react accordingly i tend to wear pants but i ve got some mighty fine heels to go with them     i like  in no particular order   religion    literature    dancing when no one is looking    music    writing    i am sinister  socratic  and weird  \n",
      "\n",
      "\n",
      "{'i': 8, 'am': 3, 'currently': 1, 'in': 4, 'a': 2, 'very': 1, 'successful': 1, 'relationship': 2, 'and': 6, 'engagement': 1, 'with': 2, 'the': 3, 'wildly': 1, 'fascinating': 1, 'lovely': 1, 'lildutchgrrl': 1, 'she': 1, 'is': 2, 'my': 2, 'primary': 1, 'but': 2, 'interested': 1, 'dating': 1, 'others': 1, 'or': 1, 'something': 1, 'along': 1, 'those': 1, 'lines': 1, 'her': 1, 'wanting': 1, 'me': 3, 'to': 7, 'fix': 1, 'up': 1, 'profiles': 1, 'led': 1, 'just': 1, 'scrapping': 1, 'stuff': 1, 'used': 1, 'have': 2, 'on': 1, 'here': 1, 'creating': 1, 'this': 1, 'new': 1, 'one': 2, 'ask': 1, 'your': 1, 'questions': 2, 'realize': 1, 'that': 1, 'when': 2, 'you': 3, 'do': 1, 'give': 1, 'mindset': 1, 'want': 1, 'them': 2, 'answered': 1, 'as': 1, 'well': 1, 'generally': 1, 'respond': 1, 'twice': 1, 'once': 2, 'from': 2, 'femme': 1, 'side': 2, 'butch': 1, 'please': 1, 'react': 1, 'accordingly': 1, 'tend': 1, 'wear': 1, 'pants': 1, 've': 1, 'got': 1, 'some': 1, 'mighty': 1, 'fine': 1, 'heels': 1, 'go': 1, 'like': 1, 'no': 2, 'particular': 1, 'order': 1, 'religion': 1, 'literature': 1, 'dancing': 1, 'looking': 1, 'music': 1, 'writing': 1, 'sinister': 1, 'socratic': 1, 'weird': 1} \n",
      "\n",
      "\n",
      "10515 \n",
      "\n",
      "\n",
      "hi i am brian and i am down to earth. i love hanging out with\n",
      "friends and getting to know new people. i like to go to the movies,\n",
      "bowling, hanging outdoors, and going to santa cruz. i am an\n",
      "outgoing guy who likes to joke and make people happy. \n",
      "\n",
      "\n",
      "hi i am brian and i am down to earth i love hanging out with friends and getting to know new people i like to go to the movies  bowling  hanging outdoors  and going to santa cruz i am an outgoing guy who likes to joke and make people happy  \n",
      "\n",
      "\n",
      "{'hi': 1, 'i': 5, 'am': 3, 'brian': 1, 'and': 4, 'down': 1, 'to': 6, 'earth': 1, 'love': 1, 'hanging': 2, 'out': 1, 'with': 1, 'friends': 1, 'getting': 1, 'know': 1, 'new': 1, 'people': 2, 'like': 1, 'go': 1, 'the': 1, 'movies': 1, 'bowling': 1, 'outdoors': 1, 'going': 1, 'santa': 1, 'cruz': 1, 'an': 1, 'outgoing': 1, 'guy': 1, 'who': 1, 'likes': 1, 'joke': 1, 'make': 1, 'happy': 1} \n",
      "\n",
      "\n",
      "59711 \n",
      "\n",
      "\n",
      "so in life there are so many places to visit and things to\n",
      "experience...it would be great to have someone who could appreciate\n",
      "living life to its fullest by my side.<br />\n",
      "<br />\n",
      "i am a very honest person and apprecite others who are open with\n",
      "their thoughts and feelings. we only live once, might as well make\n",
      "it authentic. i am also very creative, visual person. i love art\n",
      "especially creating it. i used to paint a lot, but the last couple\n",
      "of years, i have switched to photography. i have a website... check\n",
      "her out (need flash to view its full version)\n",
      "www.capturedbymelaniejade.com. i don't think i could live without\n",
      "humor. i love to laugh and tend to be quite funny myself. i enjoy\n",
      "being social and taking advantage of all the city has to offer. i\n",
      "am interested in art, yoga, exploring new places, dancing, live\n",
      "music, dressing-up, soaking up the sun, and going out with friends.\n",
      "i am a big traveler. i have been to most countries in europe,\n",
      "austraila, thailand, costa rica and i am thinking about going on\n",
      "another international adventure soon.<br />\n",
      "<br />\n",
      "ideally, i want to be with someone that is secure with himself and\n",
      "isn't afraid to be very open with me. i appreciate a man who is\n",
      "witty and funny. creativity is a huge plus. i would never want to\n",
      "be with someone who wasn't super into me-so a geniune appreciation\n",
      "and respect for each other would be key. \n",
      "\n",
      "\n",
      "so in life there are so many places to visit and things to experience   it would be great to have someone who could appreciate living life to its fullest by my side    i am a very honest person and apprecite others who are open with their thoughts and feelings we only live once  might as well make it authentic i am also very creative  visual person i love art especially creating it i used to paint a lot  but the last couple of years  i have switched to photography i have a website   check her out  need flash to view its full version  www capturedbymelaniejade com i don t think i could live without humor i love to laugh and tend to be quite funny myself i enjoy being social and taking advantage of all the city has to offer i am interested in art  yoga  exploring new places  dancing  live music  dressing up  soaking up the sun  and going out with friends i am a big traveler i have been to most countries in europe  austraila  thailand  costa rica and i am thinking about going on another international adventure soon    ideally  i want to be with someone that is secure with himself and isn t afraid to be very open with me i appreciate a man who is witty and funny creativity is a huge plus i would never want to be with someone who wasn t super into me so a geniune appreciation and respect for each other would be key  \n",
      "\n",
      "\n",
      "{'so': 3, 'in': 3, 'life': 2, 'there': 1, 'are': 2, 'many': 1, 'places': 2, 'to': 14, 'visit': 1, 'and': 10, 'things': 1, 'experience': 1, 'it': 3, 'would': 3, 'be': 6, 'great': 1, 'have': 4, 'someone': 3, 'who': 4, 'could': 2, 'appreciate': 2, 'living': 1, 'its': 2, 'fullest': 1, 'by': 1, 'my': 1, 'side': 1, 'i': 17, 'am': 5, 'a': 7, 'very': 3, 'honest': 1, 'person': 2, 'apprecite': 1, 'others': 1, 'open': 2, 'with': 6, 'their': 1, 'thoughts': 1, 'feelings': 1, 'we': 1, 'only': 1, 'live': 3, 'once': 1, 'might': 1, 'as': 1, 'well': 1, 'make': 1, 'authentic': 1, 'also': 1, 'creative': 1, 'visual': 1, 'love': 2, 'art': 2, 'especially': 1, 'creating': 1, 'used': 1, 'paint': 1, 'lot': 1, 'but': 1, 'the': 3, 'last': 1, 'couple': 1, 'of': 2, 'years': 1, 'switched': 1, 'photography': 1, 'website': 1, 'check': 1, 'her': 1, 'out': 2, 'need': 1, 'flash': 1, 'view': 1, 'full': 1, 'version': 1, 'www': 1, 'capturedbymelaniejade': 1, 'com': 1, 'don': 1, 't': 3, 'think': 1, 'without': 1, 'humor': 1, 'laugh': 1, 'tend': 1, 'quite': 1, 'funny': 2, 'myself': 1, 'enjoy': 1, 'being': 1, 'social': 1, 'taking': 1, 'advantage': 1, 'all': 1, 'city': 1, 'has': 1, 'offer': 1, 'interested': 1, 'yoga': 1, 'exploring': 1, 'new': 1, 'dancing': 1, 'music': 1, 'dressing': 1, 'up': 2, 'soaking': 1, 'sun': 1, 'going': 2, 'friends': 1, 'big': 1, 'traveler': 1, 'been': 1, 'most': 1, 'countries': 1, 'europe': 1, 'austraila': 1, 'thailand': 1, 'costa': 1, 'rica': 1, 'thinking': 1, 'about': 1, 'on': 1, 'another': 1, 'international': 1, 'adventure': 1, 'soon': 1, 'ideally': 1, 'want': 2, 'that': 1, 'is': 3, 'secure': 1, 'himself': 1, 'isn': 1, 'afraid': 1, 'me': 2, 'man': 1, 'witty': 1, 'creativity': 1, 'huge': 1, 'plus': 1, 'never': 1, 'wasn': 1, 'super': 1, 'into': 1, 'geniune': 1, 'appreciation': 1, 'respect': 1, 'for': 1, 'each': 1, 'other': 1, 'key': 1} \n",
      "\n",
      "\n",
      "37087 \n",
      "\n",
      "\n",
      "in the first few minutes of meeting, i'm sure i'll strike you as a\n",
      "pretty intense guy that talks too fast and walks too fast. but i\n",
      "hardly take myself seriously--and as you get to know me you'll find\n",
      "that i am just a ridiculous redheaded jew that happens to be\n",
      "ambidextrous. i revel in the irony and humor of everyday life. if\n",
      "you don't know who larry david is then we probably shouldn't go\n",
      "out. i'll do anything once. i'm thoughtful, compassionate and\n",
      "someone that hopefully you'd like to get to know. \n",
      "\n",
      "\n",
      "in the first few minutes of meeting  i m sure i ll strike you as a pretty intense guy that talks too fast and walks too fast but i hardly take myself seriously  and as you get to know me you ll find that i am just a ridiculous redheaded jew that happens to be ambidextrous i revel in the irony and humor of everyday life if you don t know who larry david is then we probably shouldn t go out i ll do anything once i m thoughtful  compassionate and someone that hopefully you d like to get to know  \n",
      "\n",
      "\n",
      "{'in': 2, 'the': 2, 'first': 1, 'few': 1, 'minutes': 1, 'of': 2, 'meeting': 1, 'i': 7, 'm': 2, 'sure': 1, 'll': 3, 'strike': 1, 'you': 5, 'as': 2, 'a': 2, 'pretty': 1, 'intense': 1, 'guy': 1, 'that': 4, 'talks': 1, 'too': 2, 'fast': 2, 'and': 4, 'walks': 1, 'but': 1, 'hardly': 1, 'take': 1, 'myself': 1, 'seriously': 1, 'get': 2, 'to': 4, 'know': 3, 'me': 1, 'find': 1, 'am': 1, 'just': 1, 'ridiculous': 1, 'redheaded': 1, 'jew': 1, 'happens': 1, 'be': 1, 'ambidextrous': 1, 'revel': 1, 'irony': 1, 'humor': 1, 'everyday': 1, 'life': 1, 'if': 1, 'don': 1, 't': 2, 'who': 1, 'larry': 1, 'david': 1, 'is': 1, 'then': 1, 'we': 1, 'probably': 1, 'shouldn': 1, 'go': 1, 'out': 1, 'do': 1, 'anything': 1, 'once': 1, 'thoughtful': 1, 'compassionate': 1, 'someone': 1, 'hopefully': 1, 'd': 1, 'like': 1} \n",
      "\n",
      "\n",
      "49779 \n",
      "\n",
      "\n",
      "hi there! thanks for checking out my profile :) i'm kathy - an\n",
      "east-coast transplant that's been in sf for about 8 years\n",
      "now.<br />\n",
      "<br />\n",
      "i'd say (and i'm pretty sure my friends/family would support!) that\n",
      "i'm a pretty laid-back, drama-free person. in my free time, i'm\n",
      "usually trying to hang out with said friends and family (mostly\n",
      "trying to spoil my two little nieces as only an auntie can do), and\n",
      "just generally trying to enjoy living in the city - love the sf\n",
      "street festivals, dive-bars, bbq-ing on a sunny day, visiting wine\n",
      "country (perhaps even with some wine camping!), and spending time\n",
      "up in tahoe. \n",
      "\n",
      "\n",
      "hi there  thanks for checking out my profile    i m kathy   an east coast transplant that s been in sf for about 8 years now    i d say  and i m pretty sure my friends family would support   that i m a pretty laid back  drama free person in my free time  i m usually trying to hang out with said friends and family  mostly trying to spoil my two little nieces as only an auntie can do   and just generally trying to enjoy living in the city   love the sf street festivals  dive bars  bbq ing on a sunny day  visiting wine country  perhaps even with some wine camping    and spending time up in tahoe  \n",
      "\n",
      "\n",
      "{'hi': 1, 'there': 1, 'thanks': 1, 'for': 2, 'checking': 1, 'out': 2, 'my': 4, 'profile': 1, 'i': 5, 'm': 4, 'kathy': 1, 'an': 2, 'east': 1, 'coast': 1, 'transplant': 1, 'that': 2, 's': 1, 'been': 1, 'in': 4, 'sf': 2, 'about': 1, '8': 1, 'years': 1, 'now': 1, 'd': 1, 'say': 1, 'and': 4, 'pretty': 2, 'sure': 1, 'friends': 2, 'family': 2, 'would': 1, 'support': 1, 'a': 2, 'laid': 1, 'back': 1, 'drama': 1, 'free': 2, 'person': 1, 'time': 2, 'usually': 1, 'trying': 3, 'to': 3, 'hang': 1, 'with': 2, 'said': 1, 'mostly': 1, 'spoil': 1, 'two': 1, 'little': 1, 'nieces': 1, 'as': 1, 'only': 1, 'auntie': 1, 'can': 1, 'do': 1, 'just': 1, 'generally': 1, 'enjoy': 1, 'living': 1, 'the': 2, 'city': 1, 'love': 1, 'street': 1, 'festivals': 1, 'dive': 1, 'bars': 1, 'bbq': 1, 'ing': 1, 'on': 1, 'sunny': 1, 'day': 1, 'visiting': 1, 'wine': 2, 'country': 1, 'perhaps': 1, 'even': 1, 'some': 1, 'camping': 1, 'spending': 1, 'up': 1, 'tahoe': 1} \n",
      "\n",
      "\n",
      "33559 \n",
      "\n",
      "\n",
      "i'm polite, generous, funny, sarcastic (in the right circles) and\n",
      "your mom will approve of me. my friends describe me as a genuinely\n",
      "great guy who is a little too shy to make the first move, but once\n",
      "we break the ice....to know me is to love me!<br />\n",
      "<br />\n",
      "i like discussing a variety of different subjects, anywhere from\n",
      "philosophy to whales mating. if you can keep up, you just might be\n",
      "in for the ride of your life! \n",
      "\n",
      "\n",
      "i m polite  generous  funny  sarcastic  in the right circles  and your mom will approve of me my friends describe me as a genuinely great guy who is a little too shy to make the first move  but once we break the ice    to know me is to love me     i like discussing a variety of different subjects  anywhere from philosophy to whales mating if you can keep up  you just might be in for the ride of your life  \n",
      "\n",
      "\n",
      "{'i': 2, 'm': 1, 'polite': 1, 'generous': 1, 'funny': 1, 'sarcastic': 1, 'in': 2, 'the': 4, 'right': 1, 'circles': 1, 'and': 1, 'your': 2, 'mom': 1, 'will': 1, 'approve': 1, 'of': 3, 'me': 4, 'my': 1, 'friends': 1, 'describe': 1, 'as': 1, 'a': 3, 'genuinely': 1, 'great': 1, 'guy': 1, 'who': 1, 'is': 2, 'little': 1, 'too': 1, 'shy': 1, 'to': 4, 'make': 1, 'first': 1, 'move': 1, 'but': 1, 'once': 1, 'we': 1, 'break': 1, 'ice': 1, 'know': 1, 'love': 1, 'like': 1, 'discussing': 1, 'variety': 1, 'different': 1, 'subjects': 1, 'anywhere': 1, 'from': 1, 'philosophy': 1, 'whales': 1, 'mating': 1, 'if': 1, 'you': 2, 'can': 1, 'keep': 1, 'up': 1, 'just': 1, 'might': 1, 'be': 1, 'for': 1, 'ride': 1, 'life': 1} \n",
      "\n",
      "\n",
      "25440 \n",
      "\n",
      "\n",
      "black on the market!! \n",
      "\n",
      "\n",
      "black on the market   \n",
      "\n",
      "\n",
      "{'black': 1, 'on': 1, 'the': 1, 'market': 1} \n",
      "\n",
      "\n",
      "41603 \n",
      "\n",
      "\n",
      "nan \n",
      "\n",
      "\n",
      " \n",
      "\n",
      "\n",
      "{} \n",
      "\n",
      "\n",
      "48921 \n",
      "\n",
      "\n",
      "i love to travel - i didn't do it at all when i was younger, so now\n",
      "i try to go on at least one big trip per year to make up for it. i\n",
      "like to stay in shape by either going to the gym, going on runs, or\n",
      "playing in sports leagues. if i'm not at home, i'm probably hanging\n",
      "out in a coffee shop or walking around and exploring my\n",
      "neighborhood.<br />\n",
      "<br />\n",
      "i am easy-going, perceptive, and genuine \n",
      "\n",
      "\n",
      "i love to travel   i didn t do it at all when i was younger  so now i try to go on at least one big trip per year to make up for it i like to stay in shape by either going to the gym  going on runs  or playing in sports leagues if i m not at home  i m probably hanging out in a coffee shop or walking around and exploring my neighborhood    i am easy going  perceptive  and genuine \n",
      "\n",
      "\n",
      "{'i': 8, 'love': 1, 'to': 5, 'travel': 1, 'didn': 1, 't': 1, 'do': 1, 'it': 2, 'at': 3, 'all': 1, 'when': 1, 'was': 1, 'younger': 1, 'so': 1, 'now': 1, 'try': 1, 'go': 1, 'on': 2, 'least': 1, 'one': 1, 'big': 1, 'trip': 1, 'per': 1, 'year': 1, 'make': 1, 'up': 1, 'for': 1, 'like': 1, 'stay': 1, 'in': 3, 'shape': 1, 'by': 1, 'either': 1, 'going': 3, 'the': 1, 'gym': 1, 'runs': 1, 'or': 2, 'playing': 1, 'sports': 1, 'leagues': 1, 'if': 1, 'm': 2, 'not': 1, 'home': 1, 'probably': 1, 'hanging': 1, 'out': 1, 'a': 1, 'coffee': 1, 'shop': 1, 'walking': 1, 'around': 1, 'and': 2, 'exploring': 1, 'my': 1, 'neighborhood': 1, 'am': 1, 'easy': 1, 'perceptive': 1, 'genuine': 1} \n",
      "\n",
      "\n",
      "25075 \n",
      "\n",
      "\n",
      "hi :)<br />\n",
      "i never really know what to write about here but here goes...<br />\n",
      "im an easy going, down to earth girl. i love to relax, watch tv and\n",
      "movies.<br />\n",
      "i always try to stay optimistic but i think i'm a bit more of a\n",
      "realist.<br />\n",
      "i currently go to berkeley, and i'm originally from socal, i always\n",
      "miss my family terribly when i'm away but getting an education is\n",
      "really important to me. i hope have a career where i can really\n",
      "help people and make a difference in their lives, whether that's\n",
      "within the education field or legal field.<br />\n",
      "<br />\n",
      "and random facts: i love to laugh, i love hearts, and i probably\n",
      "use lol way too much when i'm texting.. lol :)<br />\n",
      "&lt;3 \n",
      "\n",
      "\n",
      "hi     i never really know what to write about here but here goes    im an easy going  down to earth girl i love to relax  watch tv and movies  i always try to stay optimistic but i think i m a bit more of a realist  i currently go to berkeley  and i m originally from socal  i always miss my family terribly when i m away but getting an education is really important to me i hope have a career where i can really help people and make a difference in their lives  whether that s within the education field or legal field    and random facts  i love to laugh  i love hearts  and i probably use lol way too much when i m texting  lol      3 \n",
      "\n",
      "\n",
      "{'hi': 1, 'i': 15, 'never': 1, 'really': 3, 'know': 1, 'what': 1, 'to': 7, 'write': 1, 'about': 1, 'here': 2, 'but': 3, 'goes': 1, 'im': 1, 'an': 2, 'easy': 1, 'going': 1, 'down': 1, 'earth': 1, 'girl': 1, 'love': 3, 'relax': 1, 'watch': 1, 'tv': 1, 'and': 5, 'movies': 1, 'always': 2, 'try': 1, 'stay': 1, 'optimistic': 1, 'think': 1, 'm': 4, 'a': 4, 'bit': 1, 'more': 1, 'of': 1, 'realist': 1, 'currently': 1, 'go': 1, 'berkeley': 1, 'originally': 1, 'from': 1, 'socal': 1, 'miss': 1, 'my': 1, 'family': 1, 'terribly': 1, 'when': 2, 'away': 1, 'getting': 1, 'education': 2, 'is': 1, 'important': 1, 'me': 1, 'hope': 1, 'have': 1, 'career': 1, 'where': 1, 'can': 1, 'help': 1, 'people': 1, 'make': 1, 'difference': 1, 'in': 1, 'their': 1, 'lives': 1, 'whether': 1, 'that': 1, 's': 1, 'within': 1, 'the': 1, 'field': 2, 'or': 1, 'legal': 1, 'random': 1, 'facts': 1, 'laugh': 1, 'hearts': 1, 'probably': 1, 'use': 1, 'lol': 2, 'way': 1, 'too': 1, 'much': 1, 'texting': 1, '3': 1} \n",
      "\n",
      "\n"
     ]
    }
   ],
   "source": [
    "samples = 10 #displays samples to see if NLP went awry or not\n",
    "for i in range(0,10):\n",
    "    number = np.random.randint(0, data.shape[0])\n",
    "    print(number, '\\n\\n')\n",
    "    print(data['essay0'][number], '\\n\\n')\n",
    "    print(data['essay0_mod'][number], '\\n\\n')\n",
    "    print(data['essay0_words'][number], '\\n\\n')"
   ]
  },
  {
   "cell_type": "code",
   "execution_count": 7,
   "metadata": {
    "collapsed": true
   },
   "outputs": [],
   "source": [
    "from sklearn.feature_extraction.text import TfidfVectorizer, CountVectorizer"
   ]
  },
  {
   "cell_type": "code",
   "execution_count": 8,
   "metadata": {
    "collapsed": true
   },
   "outputs": [],
   "source": [
    "n_top_words = 20\n",
    "def print_top_words(model, feature_names, n_top_words):\n",
    "    for topic_idx, topic in enumerate(model.components_):\n",
    "        print(\"Topic #%d:\" % topic_idx)\n",
    "        print(\" \".join([feature_names[i]\n",
    "                        for i in topic.argsort()[:-n_top_words - 1:-1]]))\n",
    "    print()"
   ]
  },
  {
   "cell_type": "code",
   "execution_count": 9,
   "metadata": {
    "collapsed": true
   },
   "outputs": [],
   "source": [
    "from sklearn.decomposition import NMF, LatentDirichletAllocation"
   ]
  },
  {
   "cell_type": "code",
   "execution_count": 10,
   "metadata": {},
   "outputs": [
    {
     "name": "stdout",
     "output_type": "stream",
     "text": [
      "words for essay0_mod\n",
      "Topic #0:\n",
      "life good enjoy time friends family great work person live things humor sense important world hard happy day open share\n",
      "Topic #1:\n",
      "bay area moved years sf east school coast ago ve lived grew college born year california raised living went city\n",
      "Topic #2:\n",
      "know just don want really people ll say ask think ve way make message pretty right let profile thing person\n",
      "Topic #3:\n",
      "new people meet things meeting trying places try friends city exploring learning enjoy open looking explore interesting experiences york restaurants\n",
      "Topic #4:\n",
      "looking fun guy loving meet just girl nice outgoing relationship hang share woman smart honest earth likes loves funny friends\n",
      "Topic #5:\n",
      "like things music movies play don lot games people think time really pretty watch sports stuff playing work good read\n",
      "Topic #6:\n",
      "love music laugh travel outdoors sports food movies art cook dance play family hiking live friends especially city watching beach\n",
      "Topic #7:\n",
      "im dont chill ive lol thats guy person just alot laid nice good time kinda pretty ill hit wanna old\n",
      "Topic #8:\n",
      "san francisco city moved living years born raised lived diego live ago originally year recently grew ve just native work\n",
      "Topic #9:\n",
      "going easy guy enjoy person laid pretty movies friends hanging earth watching sports funny playing simple likes open concerts friendly\n",
      "\n",
      "Topic #0:\n",
      "good sense humor love like looking kind people woman person life great man things ve bit funny smart don time\n",
      "Topic #1:\n",
      "john modest hungry library mark sustainable craft introduce insane puerto answering data dominant las nuts skateboarding sewing educator grey aspiring\n",
      "Topic #2:\n",
      "love like life new enjoy friends people time things good fun going music looking just work family try really person\n",
      "Topic #3:\n",
      "years san moved bay ve francisco area school lived sf year city born grew new ago college living california east\n",
      "Topic #4:\n",
      "geeky uc avid los pursue angeles reader nutshell fruit berkeley 27 davis citizen satisfaction film documentary construction cyclist hiker mixture\n",
      "Topic #5:\n",
      "com bread corny www recommend fuzzy tumblr 33 stays presents med monday agent amuse mushrooms gut atmosphere seinfeld retire illustration\n",
      "Topic #6:\n",
      "like don just know really people want think say ll im time things make pretty ve way thing lot profile\n",
      "Topic #7:\n",
      "semi la yo el um james theme en measure que je et mi fox stewart retail ms print jon sew\n",
      "Topic #8:\n",
      "life world relationship open believe art nature love relationships feel creative people deep self human curious heart spiritual man body\n",
      "Topic #9:\n",
      "burn jaded pong ping mad cell van montreal sauce collective sticking tomatoes sized shortly clinical candles steel vodka george century\n",
      "\n",
      "words for essay1_mod\n",
      "Topic #0:\n",
      "new love like job people just things ve years san city looking learning really making francisco friends bay music world\n",
      "Topic #1:\n",
      "living fullest dream day loving moment best learning laughing san way francisco just city making sf adventure everyday fully present\n",
      "Topic #2:\n",
      "enjoying moment day minute fullest possible friends city learning offer family traveling just exploring journey sf comes life making francisco\n",
      "Topic #3:\n",
      "working hard playing currently company traveling studying startup tech degree business hanging right start harder getting software engineer industry im\n",
      "Topic #4:\n",
      "school going grad currently graduate college law degree right high year finishing im teacher student just want teaching plan medical\n",
      "Topic #5:\n",
      "trying figure make better world enjoy live just best possible right balance place day things learn moment want person stay\n",
      "Topic #6:\n",
      "work hard play company balance love enjoy travel tech social like industry live outside try non lot profit week busy\n",
      "Topic #7:\n",
      "time day friends spending spend family taking free student lot enjoy good spare hanging busy like job night little reading\n",
      "Topic #8:\n",
      "life doing enjoy fullest live want balance just best happy good right try share short loving career things rest day\n",
      "Topic #9:\n",
      "fun having possible good making great doing traveling friends lots looking way going blast lot stuff career things building adventures\n",
      "\n",
      "Topic #0:\n",
      "starting video game bad tv mba works challenge artist lifestyle totally story drive improving worth given programming hair radio golden\n",
      "Topic #1:\n",
      "manage difference films performing basis animation boston editor code blah hunting los netflix interactive novels stores angeles doctorate section labor\n",
      "Topic #2:\n",
      "non profit rock crazy constantly climbing lol step nonprofit novel understand hit word organizations changes 2011 climb human write youth\n",
      "Topic #3:\n",
      "fall dreams journey shit grew architecture west photographer alot coast nurse maintain changed industrial ended speaking farm craft asking chasing\n",
      "Topic #4:\n",
      "bay area planning company new write marketing software read forward ways learning books bike self east looking moving tech ll\n",
      "Topic #5:\n",
      "work time life love like trying working people new friends things ve good just doing job make enjoy day lot\n",
      "Topic #6:\n",
      "school working currently work san just francisco going time college years year job moved degree right student want studying im\n",
      "Topic #7:\n",
      "music learning working playing making living reading art writing enjoying hiking play startup cooking friends exploring dancing traveling food running\n",
      "Topic #8:\n",
      "saving father losing blue customer names roller smoking pharmacy injury afternoon launch equity portion god knit gifts procrastinating drunk marina\n",
      "Topic #9:\n",
      "goal pursuing class ass real figuring coach estate needs driving hell worker district june throw justice achieve instructor aspiring lawyer\n",
      "\n",
      "words for essay2_mod\n",
      "Topic #0:\n",
      "making laugh people smile friends situation jokes best awkward lists happen happy breakfast conversation kissing ass sarcastic coffee expense fool\n",
      "Topic #1:\n",
      "good really friend pretty listener think im like time say cook great told just ve know lot don make feel\n",
      "Topic #2:\n",
      "listening talking giving advice friend solving understanding helping loving problem communicating writing caring problems learning thinking kissing massages conversation observing\n",
      "Topic #3:\n",
      "things fixing lot lots new figuring learning trying building finding seeing work getting making remembering doing putting organizing little hands\n",
      "Topic #4:\n",
      "cooking dancing baking singing eating food writing driving photography gardening traveling entertaining kissing drawing friend cleaning painting organizing running swimming\n",
      "Topic #5:\n",
      "having fun time life conversations enjoying situation good spontaneous positive making matter adventures conversation meeting going planning loving finding friends\n",
      "Topic #6:\n",
      "new friends love like playing life writing dancing getting finding music stuff sports games just know taking learning talking singing\n",
      "Topic #7:\n",
      "laughing smiling eating dancing jokes loving talking enjoying drinking traveling learning singing life loud sleeping funny loudly sarcasm silly inappropriate\n",
      "Topic #8:\n",
      "people feel comfortable smile reading helping meeting connecting ease getting talking care understanding seeing bringing happy make putting cheering telling\n",
      "Topic #9:\n",
      "mind set open keeping pretty just speaking heart doing reading really saying don hands putting want kissing accomplishing changing accomplish\n",
      "\n",
      "Topic #0:\n",
      "mean kind make little bit snowboarding like communication internet science arts question sewing pretending avoiding bed cheese ball trouble answer\n",
      "Topic #1:\n",
      "profile witty light picture big perspective share bring banter arguing standing girls hair silver check lining opening emotions tests camera\n",
      "Topic #2:\n",
      "talking watching baking languages silly trivia running strangers use ass tv cookies man falling rock short pop football filling smart\n",
      "Topic #3:\n",
      "drawing painting sailing analysis hang procrastination form judging mixed violin degree voices flip pieces adventuring metal men clearly actual matters\n",
      "Topic #4:\n",
      "listening cooking dancing writing singing laughing playing seeing solving reading eating problem music loving thinking baking riding people guitar teaching\n",
      "Topic #5:\n",
      "sports playing games years play music keeping art hiking cooking tennis love soccer scrabble basketball running board school biking old\n",
      "Topic #6:\n",
      "good really people like making love things pretty just time having think fun friend ve feel don great friends know\n",
      "Topic #7:\n",
      "things fixing stuff cooking planning working organizing building kissing design taking questions picking figuring work parties cuddling car hands computers\n",
      "Topic #8:\n",
      "mind know knowing taking useless super don set want ll dishes knowledge random far self tell start possible right cats\n",
      "Topic #9:\n",
      "making people new finding things laugh getting listening friends giving cooking trying learning laughing telling life random humor eating remembering\n",
      "\n",
      "words for essay3_mod\n"
     ]
    },
    {
     "name": "stdout",
     "output_type": "stream",
     "text": [
      "Topic #0:\n",
      "smile lot big energy told personality nice warm probably dimples friendly ve face great positive maybe happy friendliness attitude style\n",
      "Topic #1:\n",
      "eyes blue green big told brown personality lips probably hazel maybe tattoos accent say color voice guess bright beautiful ve\n",
      "Topic #2:\n",
      "tell meet sure ll idea maybe don dunno hmmm guess couldn clue hmm question idk noticed stories people gonna haha\n",
      "Topic #3:\n",
      "hair curly red long probably big blonde maybe glasses crazy dark color short blond black facial head cut brown tattoos\n",
      "Topic #4:\n",
      "people notice usually say like think thing look told sure ve really lot probably good personality nice pretty things guess\n",
      "Topic #5:\n",
      "humor sense dry personality good sarcastic style great sarcasm wit quirky intelligence witty fashion quick outgoing confidence probably goofy blue\n",
      "Topic #6:\n",
      "height probably maybe voice tattoos lack heels personality short lips asian size guess beard usually glasses average taller dimples accent\n",
      "Topic #7:\n",
      "laugh lot loud love make like infectious contagious big told probably funny laughing pretty hear easy ve easily good making\n",
      "Topic #8:\n",
      "tall asian pretty im really blue big guy girl dark handsome nice lot feet skinny wow funny blonde wear heels\n",
      "Topic #9:\n",
      "know don really ask let asked maybe ll like dont look question ve guess meet think answer just quiet honestly\n",
      "\n",
      "Topic #0:\n",
      "humor sense big hair red idea head noticed smart beautiful blonde sarcastic sarcasm freckles hands help cool mouth social witty\n",
      "Topic #1:\n",
      "know don people really tell sure maybe like notice ask think guess guy just meet nice ve say shy person\n",
      "Topic #2:\n",
      "tall people talk look things friends easy say love really make person lot life open think fun asian lol happy\n",
      "Topic #3:\n",
      "going friend good looks awesome dark weird laughing nose warm attention need presence figure man comes boobs handsome intelligence dunno\n",
      "Topic #4:\n",
      "friendly im tattoos dimples eye body walk change hopefully laughter tattoo sort contact hand right left fast skinny arms demeanor\n",
      "Topic #5:\n",
      "pretty usually smiling wearing great good voice actually cute skin hope dont style huge probably shirt goofy smell sound looks\n",
      "Topic #6:\n",
      "smile eyes hair height blue personality accent long probably face energy curly green lot outgoing positive nice lips color legs\n",
      "Topic #7:\n",
      "people notice like told ve thing look usually think short tend say wear funny just beard lot make got day\n",
      "Topic #8:\n",
      "eyelashes strangers clothes interesting walking baby tan place conversations kid incredibly bike animated ones picture middle youthful longer spend reading\n",
      "Topic #9:\n",
      "laugh ll glasses quiet like loud pretty probably way lot let kind looking right good different conversation things nature fact\n",
      "\n",
      "words for essay4_mod\n",
      "Topic #0:\n",
      "love kinds music food new types movies cook eat trying foods live especially going try restaurants different country reading films\n",
      "Topic #1:\n",
      "books black movies music life john david man club american old dead radiohead sunshine new mind beatles world city hot\n",
      "Topic #2:\n",
      "favorite movie book time music foods include band probably food say author shows bands authors pick far genre type really\n",
      "Topic #3:\n",
      "like kinds music things don stuff movies really lot different foods types comedies kind especially food variety funny old new\n",
      "Topic #4:\n",
      "food music italian mexican thai indian books chinese movies japanese sushi shows types kinds french korean vietnamese asian good spicy\n",
      "Topic #5:\n",
      "hop hip rock rap jazz reggae country pop music classic alternative classical old soul metal indie listen school blues house\n",
      "Topic #6:\n",
      "shows family tv game modern thrones met mother men harry potter office bang dexter big guy theory mad arrested development\n",
      "Topic #7:\n",
      "read don really good just watch lot enjoy reading time ve ll listen fiction eat books tv music pretty book\n",
      "Topic #8:\n",
      "list ask way long just goes ll movies things far favorites tell schindler conversation short later person forever talk say\n",
      "Topic #9:\n",
      "action comedy movies horror sci fi drama books comedies romantic enjoy fantasy adventure fiction romance thrillers music flicks films suspense\n",
      "\n",
      "Topic #0:\n",
      "darkly scanner suicide shadows julian crumb communication parable gorilla vinge museum toss celery shower fierce policy variations lesson zeitgeist sower\n",
      "Topic #1:\n",
      "david john tom authors vonnegut anderson johnny robert wes cash george james kurt allen films murakami charles richard william cohen\n",
      "Topic #2:\n",
      "black sunshine life beatles man eternal bob mind american spotless club city keys radiohead john little amelie white men prince\n",
      "Topic #3:\n",
      "music food love movies like books favorite good shows read tv rock don really just time new book fiction movie\n",
      "Topic #4:\n",
      "brooklyn jarmusch prime palmer tent produced amanda solo rib expand marie grows portal sriracha celine wikipedia voltaire zelda fishing wtf\n",
      "Topic #5:\n",
      "wu tang musicians el clan los buena vista thee podcast gras sees brandi gandhi del foie megadeth la carlile claude\n",
      "Topic #6:\n",
      "dead boys radiohead brothers yeah death bad punk hot twin beach arcade animal joy pink smiths lebowski daft orange bear\n",
      "Topic #7:\n",
      "housewives hiphop giving desperate ccr ballet bars jams kevin mushroom hungry frozen infected carol pumpkin tree dawn duran dire diner\n",
      "Topic #8:\n",
      "curb enthusiasm dumb rye section catcher dumber confederacy dunces com card hit orson save seinfeld grand chomsky boogie basic scott\n",
      "Topic #9:\n",
      "arabia lawrence cello doc shock tampopo invader zim kept ad build khaled ronin lama watson hosseini mishima doctrine meh predictable\n",
      "\n",
      "words for essay5_mod\n",
      "Topic #0:\n",
      "family friends iphone dog travel sports passport food traveling wine exercise god humor health outdoors fun chocolate ocean dogs gym\n",
      "Topic #1:\n",
      "good food book wine conversation company friends beer great travel people times things really humor health time new shoes laugh\n",
      "Topic #2:\n",
      "water food air shelter sleep oxygen sex fresh sun clothing clean money clothes sunlight earth great order people mexican women\n",
      "Topic #3:\n",
      "phone car cell computer money laptop ipod tv job wallet family keys gym friends bed smart clothes camera lol food\n",
      "Topic #4:\n",
      "music art nature friends movies dancing sex food humor ocean guitar camera dance live sunshine sports beer sun bike travel\n",
      "Topic #5:\n",
      "love sex people things life art health nature passion need hope happiness friendship really like don freedom humor time just\n",
      "Topic #6:\n",
      "coffee shoes running wine chocolate morning iphone dog beer bike sunshine passport sleep cup ocean ipod yoga camera strong bed\n",
      "Topic #7:\n",
      "laughter sunshine friends chocolate travel hugs sleep passion exercise ocean nature adventure conversation honesty affection fresh dancing friendship dance touch\n",
      "Topic #8:\n",
      "books movies chocolate friends computer nature paper ipod travel conversation people wine tea pets animals pen laptop cats games cat\n",
      "Topic #9:\n",
      "internet computer iphone connection access games tv friends video sleep people things order food sports laptop movies cellphone caffeine particular\n",
      "\n",
      "Topic #0:\n",
      "computer phone hope glasses faith touch cell car wallet basketball light change keys including movement men sight scotch hearing bars\n",
      "Topic #1:\n",
      "things like people love life really just don live know need think time new work dancing make world money list\n",
      "Topic #2:\n",
      "coffee bike camera hot cat books paper pen morning read showers especially physical tea sunglasses book passport hair google knife\n",
      "Topic #3:\n",
      "access sushi hiking knowledge flip flops jeans smell kindness challenges boots smiles player white favorite beaches stimulating drinks musical oil\n",
      "Topic #4:\n",
      "friends family music food good water love laughter iphone phone internet air car nature sunshine dog sun sleep beer travel\n",
      "Topic #5:\n",
      "cheese toothbrush delicious intellectual stimulation girls floss listen french guitar large word variety bourbon stick bodies means dental kitty pants\n",
      "Topic #6:\n",
      "order particular trees guess self comfy hands meditation bed mexican tasty blue non culture airplanes bottle stars device sky words\n",
      "Topic #7:\n",
      "dogs god cats kids mountains high sarcasm lol netflix outside ocean san children creativity francisco library near burritos giants cars\n",
      "Topic #8:\n",
      "friends music family coffee books good wine humor food art shoes sex chocolate sense running movies water internet conversation freedom\n",
      "Topic #9:\n",
      "road trips tell pens taste bicycle candy york sneakers brush lake oxygen tooth rice cliche ha half tape joke breaking\n",
      "\n",
      "words for essay6_mod\n"
     ]
    },
    {
     "name": "stdout",
     "output_type": "stream",
     "text": [
      "Topic #0:\n",
      "future past present holds goals plans career like store traveling bring moment years ll school kids near possibilities plan dreams\n",
      "Topic #1:\n",
      "life universe meaning love doing general live improve people goals purpose rest enjoy living like happiness good years music fullest\n",
      "Topic #2:\n",
      "thinking time spend lot doing stop just spending don really ve right day thing spent like good alot try lately\n",
      "Topic #3:\n",
      "better world make place person people ways change help difference making traveling improve happy dinner way live day money love\n",
      "Topic #4:\n",
      "going eat dinner weekend vacation im doing day meal happen cook lunch years adventure work tomorrow trip make school ve\n",
      "Topic #5:\n",
      "things work random way fun new like lot people different stuff doing lots list make places need funny making mind\n",
      "Topic #6:\n",
      "want grow places years doing visit really vacation accomplish eat learn new need live trip try know career ve traveling\n",
      "Topic #7:\n",
      "family friends work food music love career sex school traveling new fun art politics vacation goals job business weekend money\n",
      "Topic #8:\n",
      "think people like lot just don love trying really stuff way know try day good mind ll thing ve moment\n",
      "Topic #9:\n",
      "travel adventure destination places like plans time new food love music place destinations ll meal space world business planning career\n",
      "\n",
      "Topic #0:\n",
      "universe years look im going lunch turn perfect 10 eating buy words vs house son favorite path development ago months\n",
      "Topic #1:\n",
      "life future going want friends family travel work doing love traveling make places world trip vacation live school like year\n",
      "Topic #2:\n",
      "need career goals ll care self old plan zombie apocalypse language does order bay area body special dance sound energy\n",
      "Topic #3:\n",
      "eat dinner food stuff technology profile good cook means men bike course sex man cooking deep guys okcupid hot economy\n",
      "Topic #4:\n",
      "meu humanity interested fascinating park reach learning homework unfortunately painting influence names student national chemistry robots states rg useful poor\n",
      "Topic #5:\n",
      "better make world things mind making person place random kind thoughts working change doing home dreams possible best head cool\n",
      "Topic #6:\n",
      "day adventure actually meal meet bad project works women week awesome car help wrong play particular behavior process takes haha\n",
      "Topic #7:\n",
      "time think thinking people like things life lot just spend really don way ve love know want work good future\n",
      "Topic #8:\n",
      "life long makes human getting space thought end having world people problems oh answer question god ll like lol living\n",
      "Topic #9:\n",
      "new music politics sex art people food social ideas things work world nature projects plans write science list business relationships\n",
      "\n",
      "words for essay7_mod\n",
      "Topic #0:\n",
      "friends family bar usually drinking chilling enjoying city drink meeting catching spending new hang restaurant eating town exploring studying probably\n",
      "Topic #1:\n",
      "typical friday night nights thing don really doing like different life depends usually fridays day saturday just know think try\n",
      "Topic #2:\n",
      "hanging family just friends movies playing house games bar kids friend relaxing place video bars roommates party local city eating\n",
      "Topic #3:\n",
      "working late project usually drinking probably unfortunately projects likely gym sleeping playing lol bar sadly im chilling studying studio partying\n",
      "Topic #4:\n",
      "dinner drinks having movie cooking grabbing friend making getting catching party friends nice meeting maybe live music hour seeing dancing\n",
      "Topic #5:\n",
      "movie watching reading tv book movies playing staying netflix couch maybe eating cooking game bar wine good games watch catching\n",
      "Topic #6:\n",
      "work week happy hour long usually relaxing saturday weekend depends unwinding getting just recovering early like day ready wine busy\n",
      "Topic #7:\n",
      "home relaxing chilling just stay book movies chillin tv family depends bar friend reading wine enjoying cooking quiet glass sitting\n",
      "Topic #8:\n",
      "having good time fun spending enjoying drink food wine book great company beer family people night glass meal looking just\n",
      "Topic #9:\n",
      "going dancing doing bar music movies playing drinking like staying new just live club party games maybe city trying depends\n",
      "\n",
      "Topic #0:\n",
      "time friends good playing family games food having enjoying spending video eating company board fun love hanging great parties conversation\n",
      "Topic #1:\n",
      "friends working watching doing reading bar hanging new home probably trying book club movie city movies people eating like things\n",
      "Topic #2:\n",
      "drunk son question shit cozy boys moon saving stuck strangers black experience ha young shaking letting tonight finally hair contemplating\n",
      "Topic #3:\n",
      "grabbing end hard decompressing tea wishing say celebrating avoiding homies hole deep inside bite beautiful cup pick tivo single excited\n",
      "Topic #4:\n",
      "friends home dinner night friday movie going week work usually watching typical just having relaxing hanging drinks like nights weekend\n",
      "Topic #5:\n",
      "life way dance taking bay laughing easy know area living start exciting monday floor high possible spontaneous activities east goes\n",
      "Topic #6:\n",
      "music live seeing ve local studying right lately band dancing playing like play making lot internet recently wondering house outside\n",
      "Topic #7:\n",
      "game sleeping san low francisco playing key unless giants guitar laying plan salsa day far month baseball ideally happens practicing\n",
      "Topic #8:\n",
      "drinking wine tv beer dancing glass watching meeting listening talking kind bottle hours girls friends red book park whiskey movie\n",
      "Topic #9:\n",
      "friend enjoy try likely days evening chillin bike stuff party finding depends best bit world ride clubbing riding hopping neighborhood\n",
      "\n",
      "words for essay8_mod\n",
      "Topic #0:\n",
      "ask answer want question free honest hide away feel questions shall ill receive meet probably maybe haha truth date nicely\n",
      "Topic #1:\n",
      "private wouldn things admitted anymore thing share public internet told tell reason longer isn post right say won pretty admitting\n",
      "Topic #2:\n",
      "know don want better let wouldn ll need share maybe wanna dont lol bit gotta people ride getting depends answer\n",
      "Topic #3:\n",
      "ll tell later meet maybe ya think probably save let message talk share answer wait ill hmmm date secrets time\n",
      "Topic #4:\n",
      "really don think love people time dating ve good online want okcupid profile things site shy life secrets actually thing\n",
      "Topic #5:\n",
      "just want kidding say guess wait right share going ve got fun things little ll need oh farted way met\n",
      "Topic #6:\n",
      "open book pretty im life honest things secrets answer away want sure read usually trust share hide talk kind feel\n",
      "Topic #7:\n",
      "person meet right tell pretty better morning open talk share internet private happy asked feel want save online probably people\n",
      "Topic #8:\n",
      "admit willing thing things ll won public lot online internet privately going sure try publicly lol forum right isn question\n",
      "Topic #9:\n",
      "like wouldn sing people feel girls don music dance cuddle lot watch movies look sleep actually things smell watching turtles\n",
      "\n",
      "Topic #0:\n",
      "lol like said year sleep looking away man years old got hair comes dont went ago sorry scared dog tend\n",
      "Topic #1:\n",
      "dating online site idea wanted crush called middle using video pop thing nervous 20 line younger make um kind growing\n",
      "Topic #2:\n",
      "like don really book just wouldn shy know bit eat way open kid secrets bed little care good food thought\n",
      "Topic #3:\n",
      "love like hate enjoy make watch really big movies girl right world music guy later play read little come used\n",
      "Topic #4:\n",
      "time bad maybe talk answer relationship long wear heart isn secretly story true home recently day sense reason head blah\n",
      "Topic #5:\n",
      "think ve people like don really life say know better going feel friends times probably actually won ok oh good\n",
      "Topic #6:\n",
      "lot new makes crazy personal terrible met privacy naked miss moment wanna match chocolate young clothes stay looking large realized\n",
      "Topic #7:\n",
      "let ve afraid sex did dance night love think left mind time age seen funny totally grade point hmmm car\n",
      "Topic #8:\n",
      "private know just ask ll tell admit person don things want pretty open thing willing time profile really okcupid meet\n",
      "Topic #9:\n",
      "im great wish date favorite face embarrassing website word listen cat college anymore work job absolutely cats lady good use\n",
      "\n",
      "words for essay9_mod\n",
      "Topic #0:\n",
      "want talk hang meet chat drink coffee grab learn friend say message hi just adventure explore date conversation play time\n",
      "Topic #1:\n",
      "like read profile laugh chat talk ve music things meet learn coffee far drink dance adventures travel guys people play\n",
      "Topic #2:\n",
      "looking new just meet don message people life love friends things friend make person open really relationship talk enjoy nice\n",
      "Topic #3:\n",
      "know better getting wanna don profile let really curious difference want just ll little actually questions way interests person message\n",
      "Topic #4:\n",
      "interested getting meeting relationship hanging having friendship read dating profile learning talking finding chatting knowing going making friends seeing term\n",
      "Topic #5:\n",
      "think common match cute make hit click friends awesome read ll laugh compatible handle profile message interests connection ve connect\n",
      "Topic #6:\n",
      "fun smart person having hang guy loving looking outgoing easy going wanna adventurous earth nice intelligent open honest minded life\n",
      "Topic #7:\n",
      "good time sense humor laugh conversation enjoy great guy love heart food person life intelligent having match smart make kind\n",
      "Topic #8:\n",
      "feel inclined free like compelled message messaging just common urge need inspired connection doing chatting hi talking reason right saying\n",
      "Topic #9:\n",
      "interesting say profile conversation person sound sounds funny attractive share cute talk intelligent hi meet people hold smart tell remotely\n",
      "\n"
     ]
    },
    {
     "name": "stdout",
     "output_type": "stream",
     "text": [
      "Topic #0:\n",
      "sense humor woman good heart self guys man kind great knows confident emotionally intelligent strong healthy fit easily desire honest\n",
      "Topic #1:\n",
      "message don interested just think profile know say ve really like talk people read want ll actually feel way probably\n",
      "Topic #2:\n",
      "willing words movies home hang watching listen drinking simply sing patient inclined bikes form current ridiculous answers youre trip morning\n",
      "Topic #3:\n",
      "throw quote roll com advice fear laughed pic safe problems 40 ball looked la card zone brown tour mad burn\n",
      "Topic #4:\n",
      "jokes fine fancy wit asking strikes parties daily large bag fix choice inner texting anti racist hint die hidden dining\n",
      "Topic #5:\n",
      "talking ask men questions friendly loves question smoke lady answer tea stories honesty gentleman ve cats got promise hearted integrity\n",
      "Topic #6:\n",
      "want like know feel wanna meet just drink good make new talk chat city play think explore better interesting laugh\n",
      "Topic #7:\n",
      "awesome think cool joke super catch fuck dude aren sentence inspired douche lazy race whiskey tired mix sexy fly creep\n",
      "Topic #8:\n",
      "like looking fun life love good want things enjoy new time don people open person just laugh make relationship know\n",
      "Topic #9:\n",
      "coffee beer hit bar cup educated bike white dive red park professional grab introduce relate smell american wearing pop cafe\n",
      "\n"
     ]
    }
   ],
   "source": [
    "for i in mod_lister:\n",
    "    stringer = 'words for ' + i\n",
    "    print(stringer)\n",
    "    \n",
    "    tfidf = TfidfVectorizer(stop_words = 'english')\n",
    "    inverse_tfidf = tfidf.fit_transform(data[i])\n",
    "    nmf = NMF(n_components=10, random_state=1, alpha=.1, l1_ratio=.5).fit(inverse_tfidf)\n",
    "    print_top_words(nmf, tfidf.get_feature_names(), n_top_words)\n",
    "    \n",
    "    word_counter = CountVectorizer(stop_words = 'english')\n",
    "    term_frequency = word_counter.fit_transform(data[i])\n",
    "    lda = LatentDirichletAllocation(n_topics=10, max_iter=5,\n",
    "                                learning_method='online',\n",
    "                                learning_offset=50.,\n",
    "                                random_state=0)\n",
    "    lda.fit(term_frequency)\n",
    "    print_top_words(lda, word_counter.get_feature_names(), n_top_words)\n",
    "    "
   ]
  },
  {
   "cell_type": "markdown",
   "metadata": {},
   "source": [
    "<h2>Packages installed</h2>"
   ]
  },
  {
   "cell_type": "code",
   "execution_count": null,
   "metadata": {},
   "outputs": [],
   "source": [
    "import pandas as pd\n",
    "import numpy as np\n",
    "import sklearn\n",
    "import seaborn as sns\n",
    "import matplotlib\n",
    "import matplotlib.pyplot as plt\n",
    "import nltk\n",
    "import helper as hp ###function I coded for this project\n",
    "from IPython.display import display\n",
    "%matplotlib inline\n",
    "pd.set_option('display.max_columns', None)\n",
    "#pd.set_option('display.max_rows', None)\n",
    "\n",
    "print('pandas version is {}.'.format(pd.__version__))\n",
    "print('numpy version is {}.'.format(np.__version__))\n",
    "print('sklearn version is {}.'.format(sklearn.__version__))\n",
    "print('seaborn version is {}.'.format(sns.__version__))\n",
    "print('matplotlib version is {}.'.format(matplotlib.__version__))\n",
    "print('nltk version is {}.'.format(nltk.__version__))"
   ]
  },
  {
   "cell_type": "markdown",
   "metadata": {},
   "source": [
    "<h2>Loading the Dataset</h2>"
   ]
  },
  {
   "cell_type": "code",
   "execution_count": null,
   "metadata": {
    "collapsed": true
   },
   "outputs": [],
   "source": [
    "data = pd.read_csv(\"profiles.csv\")\n",
    "print(\"This set has {} data points and {} features.\".format(*data.shape))"
   ]
  },
  {
   "cell_type": "code",
   "execution_count": null,
   "metadata": {
    "collapsed": true
   },
   "outputs": [],
   "source": [
    "for i in data.columns:\n",
    "    print (i, end = \", \")"
   ]
  },
  {
   "cell_type": "markdown",
   "metadata": {},
   "source": [
    "<h2>Dividing the Population by Gender</h2>"
   ]
  },
  {
   "cell_type": "code",
   "execution_count": null,
   "metadata": {
    "collapsed": true
   },
   "outputs": [],
   "source": [
    "males = data[data['sex'] == 'm'].copy()\n",
    "females = data[data['sex'] == 'f'].copy()"
   ]
  },
  {
   "cell_type": "code",
   "execution_count": null,
   "metadata": {
    "collapsed": true
   },
   "outputs": [],
   "source": [
    "print(\"This data set has {} males and {} females\".format(males['sex'].count(), females['sex'].count()))\n",
    "print(\"male:female ratio = {0:.{1}f}\".format(males['sex'].count() / females['sex'].count(), 2))"
   ]
  },
  {
   "cell_type": "markdown",
   "metadata": {},
   "source": [
    "<h2>Basic Summary (both populations)</h2>"
   ]
  },
  {
   "cell_type": "code",
   "execution_count": null,
   "metadata": {
    "collapsed": true
   },
   "outputs": [],
   "source": [
    "data.describe()"
   ]
  },
  {
   "cell_type": "markdown",
   "metadata": {},
   "source": [
    "<h2>Basic Summary (Males)</h2>"
   ]
  },
  {
   "cell_type": "code",
   "execution_count": null,
   "metadata": {
    "collapsed": true,
    "scrolled": true
   },
   "outputs": [],
   "source": [
    "males.describe()"
   ]
  },
  {
   "cell_type": "markdown",
   "metadata": {},
   "source": [
    "<h2>Basic Summary (Females)</h2>"
   ]
  },
  {
   "cell_type": "code",
   "execution_count": null,
   "metadata": {
    "collapsed": true
   },
   "outputs": [],
   "source": [
    "females.describe()"
   ]
  },
  {
   "cell_type": "code",
   "execution_count": null,
   "metadata": {
    "collapsed": true
   },
   "outputs": [],
   "source": [
    "import scipy.stats as stats\n",
    "print(stats.ttest_ind(males['age'], females['age'], nan_policy = 'omit'))\n",
    "print(stats.ttest_ind(males['height'], females['height'], nan_policy = 'omit'))\n",
    "print(stats.ttest_ind(males['income'], females['income'], nan_policy = 'omit'))"
   ]
  },
  {
   "cell_type": "markdown",
   "metadata": {},
   "source": [
    "<h4>Comments on Basic Summaries by Sex</h4>\n",
    "<p>t-testing yielded low p-values below 0.005. This suggests we reject the hypothesis that average age and average height are the same across users on OkCupid. 50% of men from this dataset fall within 5'8\" - 6'0\" and are between the ages of 26 - 36. Women fall within 5'3\" - 5'7\" and are between the ages 26 - 37.</p>"
   ]
  },
  {
   "cell_type": "code",
   "execution_count": null,
   "metadata": {
    "collapsed": true
   },
   "outputs": [],
   "source": [
    "#from sklearn.feature_extraction.text import CountVectorizer\n",
    "#from sklearn.feature_extraction.text import TfidfTransformer\n",
    "#from sklearn.feature_extraction.text import TfidfVectorizer"
   ]
  },
  {
   "cell_type": "code",
   "execution_count": null,
   "metadata": {
    "collapsed": true,
    "scrolled": true
   },
   "outputs": [],
   "source": [
    "#vectorizer = TfidfVectorizer()\n",
    "#experimenting = data[~data['essay1'].isNaN()]\n",
    "#type(experimenting['essay1'][13])\n",
    "#tfidf = vectorizer.fit_transform(data['essay1'])"
   ]
  },
  {
   "cell_type": "markdown",
   "metadata": {},
   "source": [
    "<h2>Types of Bodies</h2>"
   ]
  },
  {
   "cell_type": "code",
   "execution_count": null,
   "metadata": {
    "collapsed": true,
    "scrolled": true
   },
   "outputs": [],
   "source": [
    "hp.word_counter(data['body_type'])"
   ]
  },
  {
   "cell_type": "markdown",
   "metadata": {},
   "source": [
    "<h3>Males</h3>"
   ]
  },
  {
   "cell_type": "code",
   "execution_count": null,
   "metadata": {
    "collapsed": true
   },
   "outputs": [],
   "source": [
    "hp.word_counter(males['body_type'])"
   ]
  },
  {
   "cell_type": "markdown",
   "metadata": {},
   "source": [
    "<h3>Females</h3>"
   ]
  },
  {
   "cell_type": "code",
   "execution_count": null,
   "metadata": {
    "collapsed": true
   },
   "outputs": [],
   "source": [
    "hp.word_counter(females['body_type'])"
   ]
  },
  {
   "cell_type": "markdown",
   "metadata": {},
   "source": [
    "<h4>Comments on Body Types</h4>\n",
    "<p>Average, athletic, and fit people make up 65.3% of the reported body types in the dataset.</p>"
   ]
  },
  {
   "cell_type": "markdown",
   "metadata": {},
   "source": [
    "<h2>How Educated are people</h2>"
   ]
  },
  {
   "cell_type": "markdown",
   "metadata": {},
   "source": [
    "<h4>Varying replies to this question. Lots of output to display.</h4>"
   ]
  },
  {
   "cell_type": "code",
   "execution_count": null,
   "metadata": {
    "collapsed": true,
    "scrolled": true
   },
   "outputs": [],
   "source": [
    "#hp.word_counter(data['education'])"
   ]
  },
  {
   "cell_type": "markdown",
   "metadata": {},
   "source": [
    "<h3>Males</h3>"
   ]
  },
  {
   "cell_type": "code",
   "execution_count": null,
   "metadata": {
    "collapsed": true
   },
   "outputs": [],
   "source": [
    "#hp.word_counter(males['education'])"
   ]
  },
  {
   "cell_type": "markdown",
   "metadata": {},
   "source": [
    "<h3>Females</h3>"
   ]
  },
  {
   "cell_type": "code",
   "execution_count": null,
   "metadata": {
    "collapsed": true
   },
   "outputs": [],
   "source": [
    "#hp.word_counter(females['education'])"
   ]
  },
  {
   "cell_type": "markdown",
   "metadata": {},
   "source": [
    "<h2>Diets</h2>"
   ]
  },
  {
   "cell_type": "code",
   "execution_count": null,
   "metadata": {
    "collapsed": true
   },
   "outputs": [],
   "source": [
    "hp.word_counter(data['diet'])"
   ]
  },
  {
   "cell_type": "markdown",
   "metadata": {},
   "source": [
    "<h3>Males</h3>"
   ]
  },
  {
   "cell_type": "code",
   "execution_count": null,
   "metadata": {
    "collapsed": true
   },
   "outputs": [],
   "source": [
    "hp.word_counter(males['diet'])"
   ]
  },
  {
   "cell_type": "markdown",
   "metadata": {},
   "source": [
    "<h3>Females</h3>"
   ]
  },
  {
   "cell_type": "code",
   "execution_count": null,
   "metadata": {
    "collapsed": true
   },
   "outputs": [],
   "source": [
    "hp.word_counter(females['diet'])"
   ]
  },
  {
   "cell_type": "markdown",
   "metadata": {},
   "source": [
    "<h2>Drinks</h2>"
   ]
  },
  {
   "cell_type": "code",
   "execution_count": null,
   "metadata": {
    "collapsed": true
   },
   "outputs": [],
   "source": [
    "hp.word_counter(data['drinks'])"
   ]
  },
  {
   "cell_type": "markdown",
   "metadata": {},
   "source": [
    "<h3>Males</h3>"
   ]
  },
  {
   "cell_type": "code",
   "execution_count": null,
   "metadata": {
    "collapsed": true
   },
   "outputs": [],
   "source": [
    "hp.word_counter(males['drinks'])"
   ]
  },
  {
   "cell_type": "markdown",
   "metadata": {},
   "source": [
    "<h3>Females</h3>"
   ]
  },
  {
   "cell_type": "code",
   "execution_count": null,
   "metadata": {
    "collapsed": true
   },
   "outputs": [],
   "source": [
    "hp.word_counter(females['drinks'])"
   ]
  },
  {
   "cell_type": "markdown",
   "metadata": {},
   "source": [
    "<h2>Drugs</h2>"
   ]
  },
  {
   "cell_type": "code",
   "execution_count": null,
   "metadata": {
    "collapsed": true
   },
   "outputs": [],
   "source": [
    "hp.word_counter(data['drugs'])"
   ]
  },
  {
   "cell_type": "markdown",
   "metadata": {},
   "source": [
    "<h3>Males</h3>"
   ]
  },
  {
   "cell_type": "code",
   "execution_count": null,
   "metadata": {
    "collapsed": true
   },
   "outputs": [],
   "source": [
    "hp.word_counter(males['drugs'])"
   ]
  },
  {
   "cell_type": "markdown",
   "metadata": {},
   "source": [
    "<h3>Females</h3>"
   ]
  },
  {
   "cell_type": "code",
   "execution_count": null,
   "metadata": {
    "collapsed": true
   },
   "outputs": [],
   "source": [
    "hp.word_counter(females['drugs'])"
   ]
  },
  {
   "cell_type": "markdown",
   "metadata": {},
   "source": [
    "<h2>Job</h2>"
   ]
  },
  {
   "cell_type": "markdown",
   "metadata": {},
   "source": [
    "<h4>Here you can see the bias of the dataset in that it was pulled from the greater San Francisco (tech sector jobs).</h4>"
   ]
  },
  {
   "cell_type": "code",
   "execution_count": null,
   "metadata": {
    "collapsed": true
   },
   "outputs": [],
   "source": [
    "#hp.word_counter(data['job'])"
   ]
  },
  {
   "cell_type": "markdown",
   "metadata": {},
   "source": [
    "<h3>Males</h3>"
   ]
  },
  {
   "cell_type": "code",
   "execution_count": null,
   "metadata": {
    "collapsed": true
   },
   "outputs": [],
   "source": [
    "#hp.word_counter(males['job'])"
   ]
  },
  {
   "cell_type": "markdown",
   "metadata": {},
   "source": [
    "<h3>Females</h3>"
   ]
  },
  {
   "cell_type": "code",
   "execution_count": null,
   "metadata": {
    "collapsed": true
   },
   "outputs": [],
   "source": [
    "#hp.word_counter(females['job'])"
   ]
  },
  {
   "cell_type": "markdown",
   "metadata": {},
   "source": [
    "<h2>Offspring</h2>"
   ]
  },
  {
   "cell_type": "markdown",
   "metadata": {},
   "source": [
    "<h4>Varying responses. Too much to output</h4>"
   ]
  },
  {
   "cell_type": "code",
   "execution_count": null,
   "metadata": {
    "collapsed": true
   },
   "outputs": [],
   "source": [
    "#hp.word_counter(data['offspring'])"
   ]
  },
  {
   "cell_type": "markdown",
   "metadata": {},
   "source": [
    "<h3>Males</h3>"
   ]
  },
  {
   "cell_type": "code",
   "execution_count": null,
   "metadata": {
    "collapsed": true
   },
   "outputs": [],
   "source": [
    "#hp.word_counter(males['offspring'])"
   ]
  },
  {
   "cell_type": "markdown",
   "metadata": {},
   "source": [
    "<h3>Females</h3>"
   ]
  },
  {
   "cell_type": "code",
   "execution_count": null,
   "metadata": {
    "collapsed": true
   },
   "outputs": [],
   "source": [
    "#hp.word_counter(females['offspring'])"
   ]
  },
  {
   "cell_type": "markdown",
   "metadata": {},
   "source": [
    "<h2>Location</h2>"
   ]
  },
  {
   "cell_type": "markdown",
   "metadata": {},
   "source": [
    "<h4>Locations are extremely varied and create too much output.</h4>"
   ]
  },
  {
   "cell_type": "code",
   "execution_count": null,
   "metadata": {
    "collapsed": true
   },
   "outputs": [],
   "source": [
    "#hp.word_counter(data['location'])"
   ]
  },
  {
   "cell_type": "markdown",
   "metadata": {},
   "source": [
    "<h3>Males</h3>"
   ]
  },
  {
   "cell_type": "code",
   "execution_count": null,
   "metadata": {
    "collapsed": true
   },
   "outputs": [],
   "source": [
    "#hp.word_counter(males['location'])"
   ]
  },
  {
   "cell_type": "markdown",
   "metadata": {},
   "source": [
    "<h3>Females</h3>"
   ]
  },
  {
   "cell_type": "code",
   "execution_count": null,
   "metadata": {
    "collapsed": true
   },
   "outputs": [],
   "source": [
    "#hp.word_counter(females['location'])"
   ]
  },
  {
   "cell_type": "markdown",
   "metadata": {},
   "source": [
    "<h2>Orientation</h2>"
   ]
  },
  {
   "cell_type": "code",
   "execution_count": null,
   "metadata": {
    "collapsed": true
   },
   "outputs": [],
   "source": [
    "hp.word_counter(data['orientation'])"
   ]
  },
  {
   "cell_type": "markdown",
   "metadata": {},
   "source": [
    "<h3>Males</h3>"
   ]
  },
  {
   "cell_type": "code",
   "execution_count": null,
   "metadata": {
    "collapsed": true
   },
   "outputs": [],
   "source": [
    "hp.word_counter(males['orientation'])"
   ]
  },
  {
   "cell_type": "markdown",
   "metadata": {},
   "source": [
    "<h3>Females</h3>"
   ]
  },
  {
   "cell_type": "code",
   "execution_count": null,
   "metadata": {
    "collapsed": true
   },
   "outputs": [],
   "source": [
    "hp.word_counter(females['orientation'])"
   ]
  },
  {
   "cell_type": "markdown",
   "metadata": {},
   "source": [
    "<h2>Pets</h2>"
   ]
  },
  {
   "cell_type": "markdown",
   "metadata": {},
   "source": [
    "<h4>Same issue as the location. Too much to output and varying amounts of responses.</h4>"
   ]
  },
  {
   "cell_type": "code",
   "execution_count": null,
   "metadata": {
    "collapsed": true
   },
   "outputs": [],
   "source": [
    "#hp.word_counter(data['pets'])"
   ]
  },
  {
   "cell_type": "markdown",
   "metadata": {},
   "source": [
    "<h3>Males</h3>"
   ]
  },
  {
   "cell_type": "code",
   "execution_count": null,
   "metadata": {
    "collapsed": true
   },
   "outputs": [],
   "source": [
    "#hp.word_counter(males['pets'])"
   ]
  },
  {
   "cell_type": "markdown",
   "metadata": {},
   "source": [
    "<h3>Females</h3>"
   ]
  },
  {
   "cell_type": "code",
   "execution_count": null,
   "metadata": {
    "collapsed": true
   },
   "outputs": [],
   "source": [
    "#hp.word_counter(females['pets'])"
   ]
  },
  {
   "cell_type": "markdown",
   "metadata": {},
   "source": [
    "<h2>Religion</h2>"
   ]
  },
  {
   "cell_type": "code",
   "execution_count": null,
   "metadata": {
    "collapsed": true,
    "scrolled": true
   },
   "outputs": [],
   "source": [
    "#hp.word_counter(data['religion'])"
   ]
  },
  {
   "cell_type": "markdown",
   "metadata": {},
   "source": [
    "<h3>Males</h3>"
   ]
  },
  {
   "cell_type": "code",
   "execution_count": null,
   "metadata": {
    "collapsed": true,
    "scrolled": true
   },
   "outputs": [],
   "source": [
    "#hp.word_counter(males['religion'])"
   ]
  },
  {
   "cell_type": "markdown",
   "metadata": {},
   "source": [
    "<h3>Females</h3>"
   ]
  },
  {
   "cell_type": "code",
   "execution_count": null,
   "metadata": {
    "collapsed": true,
    "scrolled": true
   },
   "outputs": [],
   "source": [
    "#hp.word_counter(females['religion'])"
   ]
  },
  {
   "cell_type": "markdown",
   "metadata": {},
   "source": [
    "<h2>Sign</h2>"
   ]
  },
  {
   "cell_type": "code",
   "execution_count": null,
   "metadata": {
    "collapsed": true,
    "scrolled": true
   },
   "outputs": [],
   "source": [
    "#hp.word_counter(data['sign'])"
   ]
  },
  {
   "cell_type": "markdown",
   "metadata": {},
   "source": [
    "<h3>Males</h3>"
   ]
  },
  {
   "cell_type": "code",
   "execution_count": null,
   "metadata": {
    "collapsed": true,
    "scrolled": true
   },
   "outputs": [],
   "source": [
    "#hp.word_counter(males['sign'])"
   ]
  },
  {
   "cell_type": "markdown",
   "metadata": {},
   "source": [
    "<h3>Females</h3>"
   ]
  },
  {
   "cell_type": "code",
   "execution_count": null,
   "metadata": {
    "collapsed": true,
    "scrolled": true
   },
   "outputs": [],
   "source": [
    "#hp.word_counter(females['sign'])"
   ]
  },
  {
   "cell_type": "markdown",
   "metadata": {},
   "source": [
    "<h2>Smokes</h2>"
   ]
  },
  {
   "cell_type": "code",
   "execution_count": null,
   "metadata": {
    "collapsed": true
   },
   "outputs": [],
   "source": [
    "hp.word_counter(data['smokes'])"
   ]
  },
  {
   "cell_type": "markdown",
   "metadata": {},
   "source": [
    "<h3>Males</h3>"
   ]
  },
  {
   "cell_type": "code",
   "execution_count": null,
   "metadata": {
    "collapsed": true
   },
   "outputs": [],
   "source": [
    "hp.word_counter(males['smokes'])"
   ]
  },
  {
   "cell_type": "markdown",
   "metadata": {},
   "source": [
    "<h3>Females</h3>"
   ]
  },
  {
   "cell_type": "code",
   "execution_count": null,
   "metadata": {
    "collapsed": true
   },
   "outputs": [],
   "source": [
    "hp.word_counter(females['smokes'])"
   ]
  },
  {
   "cell_type": "markdown",
   "metadata": {},
   "source": [
    "<h2>Status</h2>"
   ]
  },
  {
   "cell_type": "code",
   "execution_count": null,
   "metadata": {
    "collapsed": true
   },
   "outputs": [],
   "source": [
    "hp.word_counter(data['status'])"
   ]
  },
  {
   "cell_type": "markdown",
   "metadata": {},
   "source": [
    "<h3>Males</h3>"
   ]
  },
  {
   "cell_type": "code",
   "execution_count": null,
   "metadata": {
    "collapsed": true
   },
   "outputs": [],
   "source": [
    "hp.word_counter(males['status'])"
   ]
  },
  {
   "cell_type": "markdown",
   "metadata": {},
   "source": [
    "<h3>Females</h3>"
   ]
  },
  {
   "cell_type": "code",
   "execution_count": null,
   "metadata": {
    "collapsed": true
   },
   "outputs": [],
   "source": [
    "hp.word_counter(females['status'])"
   ]
  }
 ],
 "metadata": {
  "kernelspec": {
   "display_name": "Python 2",
   "language": "python",
   "name": "python2"
  },
  "language_info": {
   "codemirror_mode": {
    "name": "ipython",
    "version": 3
   },
   "file_extension": ".py",
   "mimetype": "text/x-python",
   "name": "python",
   "nbconvert_exporter": "python",
   "pygments_lexer": "ipython3",
   "version": "3.6.2"
  }
 },
 "nbformat": 4,
 "nbformat_minor": 1
}
