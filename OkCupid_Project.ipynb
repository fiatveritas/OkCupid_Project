{
 "cells": [
  {
   "cell_type": "markdown",
   "metadata": {},
   "source": [
    "<h1>Exploring OkCupid Dataset</h1>"
   ]
  },
  {
   "cell_type": "markdown",
   "metadata": {},
   "source": [
    "<h2>Packages installed</h2>"
   ]
  },
  {
   "cell_type": "code",
   "execution_count": null,
   "metadata": {},
   "outputs": [],
   "source": [
    "import pandas as pd\n",
    "import numpy as np\n",
    "import sklearn\n",
    "import seaborn as sns\n",
    "import matplotlib\n",
    "import matplotlib.pyplot as plt\n",
    "import helper as hp ###function I coded for this project\n",
    "from IPython.display import display\n",
    "%matplotlib inline\n",
    "pd.set_option('display.max_columns', None)\n",
    "#pd.set_option('display.max_rows', None)\n",
    "\n",
    "print('pandas version is {}.'.format(pd.__version__))\n",
    "print('numpy version is {}.'.format(np.__version__))\n",
    "print('scikit-learn version is {}.'.format(sklearn.__version__))\n",
    "print('seaborn version is {}.'.format(sns.__version__))\n",
    "print('matplotlib version is {}.'.format(matplotlib.__version__))"
   ]
  },
  {
   "cell_type": "markdown",
   "metadata": {},
   "source": [
    "<h2>Loading the Dataset</h2>"
   ]
  },
  {
   "cell_type": "code",
   "execution_count": null,
   "metadata": {},
   "outputs": [],
   "source": [
    "data = pd.read_csv(\"profiles.csv\")\n",
    "print(\"This set has {} data points and {} features.\".format(*data.shape))"
   ]
  },
  {
   "cell_type": "code",
   "execution_count": null,
   "metadata": {},
   "outputs": [],
   "source": [
    "for i in data.columns:\n",
    "    print (i, end = \", \")"
   ]
  },
  {
   "cell_type": "markdown",
   "metadata": {},
   "source": [
    "<h2>Dividing the Population by Gender</h2>"
   ]
  },
  {
   "cell_type": "code",
   "execution_count": null,
   "metadata": {
    "collapsed": true
   },
   "outputs": [],
   "source": [
    "males = data[data['sex'] == 'm'].copy()\n",
    "females = data[data['sex'] == 'f'].copy()"
   ]
  },
  {
   "cell_type": "code",
   "execution_count": null,
   "metadata": {},
   "outputs": [],
   "source": [
    "print(\"This data set has {} males and {} females\".format(males['sex'].count(), females['sex'].count()))\n",
    "print(\"male:female ratio = {0:.{1}f}\".format(males['sex'].count() / females['sex'].count(), 2))"
   ]
  },
  {
   "cell_type": "markdown",
   "metadata": {},
   "source": [
    "<h2>Basic Summary (both populations)</h2>"
   ]
  },
  {
   "cell_type": "code",
   "execution_count": null,
   "metadata": {},
   "outputs": [],
   "source": [
    "data.describe()"
   ]
  },
  {
   "cell_type": "markdown",
   "metadata": {},
   "source": [
    "<h2>Basic Summary (Males)</h2>"
   ]
  },
  {
   "cell_type": "code",
   "execution_count": null,
   "metadata": {
    "scrolled": true
   },
   "outputs": [],
   "source": [
    "males.describe()"
   ]
  },
  {
   "cell_type": "markdown",
   "metadata": {},
   "source": [
    "<h2>Basic Summary (Females)</h2>"
   ]
  },
  {
   "cell_type": "code",
   "execution_count": null,
   "metadata": {},
   "outputs": [],
   "source": [
    "females.describe()"
   ]
  },
  {
   "cell_type": "code",
   "execution_count": null,
   "metadata": {},
   "outputs": [],
   "source": [
    "import scipy.stats as stats\n",
    "print(stats.ttest_ind(males['age'], females['age'], nan_policy = 'omit'))\n",
    "print(stats.ttest_ind(males['height'], females['height'], nan_policy = 'omit'))\n",
    "print(stats.ttest_ind(males['income'], females['income'], nan_policy = 'omit'))"
   ]
  },
  {
   "cell_type": "markdown",
   "metadata": {},
   "source": [
    "<h4>Comments on Basic Summaries by Sex</h4>\n",
    "<p>t-testing yielded low p-values below 0.005. This suggests we reject the hypothesis that average age and average height are the same across users on OkCupid. 50% of men from this dataset fall within 5'8\" - 6'0\" and are between the ages of 26 - 36. Women fall within 5'3\" - 5'7\" and are between the ages 26 - 37.</p>"
   ]
  },
  {
   "cell_type": "code",
   "execution_count": null,
   "metadata": {
    "collapsed": true
   },
   "outputs": [],
   "source": [
    "#from sklearn.feature_extraction.text import CountVectorizer\n",
    "#from sklearn.feature_extraction.text import TfidfTransformer\n",
    "#from sklearn.feature_extraction.text import TfidfVectorizer"
   ]
  },
  {
   "cell_type": "code",
   "execution_count": null,
   "metadata": {
    "collapsed": true,
    "scrolled": true
   },
   "outputs": [],
   "source": [
    "#vectorizer = TfidfVectorizer()\n",
    "#experimenting = data[~data['essay1'].isNaN()]\n",
    "#type(experimenting['essay1'][13])\n",
    "#tfidf = vectorizer.fit_transform(data['essay1'])"
   ]
  },
  {
   "cell_type": "markdown",
   "metadata": {},
   "source": [
    "<h2>Types of Bodies</h2>"
   ]
  },
  {
   "cell_type": "code",
   "execution_count": null,
   "metadata": {
    "scrolled": true
   },
   "outputs": [],
   "source": [
    "hp.word_counter(data['body_type'])"
   ]
  },
  {
   "cell_type": "markdown",
   "metadata": {},
   "source": [
    "<h3>Males</h3>"
   ]
  },
  {
   "cell_type": "code",
   "execution_count": null,
   "metadata": {},
   "outputs": [],
   "source": [
    "hp.word_counter(males['body_type'])"
   ]
  },
  {
   "cell_type": "markdown",
   "metadata": {},
   "source": [
    "<h3>Females</h3>"
   ]
  },
  {
   "cell_type": "code",
   "execution_count": null,
   "metadata": {},
   "outputs": [],
   "source": [
    "hp.word_counter(females['body_type'])"
   ]
  },
  {
   "cell_type": "markdown",
   "metadata": {},
   "source": [
    "<h4>Comments on Body Types</h4>\n",
    "<p>Average, athletic, and fit people make up 65.3% of the reported body types in the dataset.</p>"
   ]
  },
  {
   "cell_type": "markdown",
   "metadata": {},
   "source": [
    "<h2>How Educated are people</h2>"
   ]
  },
  {
   "cell_type": "markdown",
   "metadata": {},
   "source": [
    "<h4>Varying replies to this question. Lots of output to display.</h4>"
   ]
  },
  {
   "cell_type": "code",
   "execution_count": null,
   "metadata": {
    "scrolled": true
   },
   "outputs": [],
   "source": [
    "#hp.word_counter(data['education'])"
   ]
  },
  {
   "cell_type": "markdown",
   "metadata": {},
   "source": [
    "<h3>Males</h3>"
   ]
  },
  {
   "cell_type": "code",
   "execution_count": null,
   "metadata": {},
   "outputs": [],
   "source": [
    "#hp.word_counter(males['education'])"
   ]
  },
  {
   "cell_type": "markdown",
   "metadata": {},
   "source": [
    "<h3>Females</h3>"
   ]
  },
  {
   "cell_type": "code",
   "execution_count": null,
   "metadata": {},
   "outputs": [],
   "source": [
    "#hp.word_counter(females['education'])"
   ]
  },
  {
   "cell_type": "markdown",
   "metadata": {},
   "source": [
    "<h2>Diets</h2>"
   ]
  },
  {
   "cell_type": "code",
   "execution_count": null,
   "metadata": {},
   "outputs": [],
   "source": [
    "hp.word_counter(data['diet'])"
   ]
  },
  {
   "cell_type": "markdown",
   "metadata": {},
   "source": [
    "<h3>Males</h3>"
   ]
  },
  {
   "cell_type": "code",
   "execution_count": null,
   "metadata": {},
   "outputs": [],
   "source": [
    "hp.word_counter(males['diet'])"
   ]
  },
  {
   "cell_type": "markdown",
   "metadata": {},
   "source": [
    "<h3>Females</h3>"
   ]
  },
  {
   "cell_type": "code",
   "execution_count": null,
   "metadata": {},
   "outputs": [],
   "source": [
    "hp.word_counter(females['diet'])"
   ]
  },
  {
   "cell_type": "markdown",
   "metadata": {},
   "source": [
    "<h2>Drinks</h2>"
   ]
  },
  {
   "cell_type": "code",
   "execution_count": null,
   "metadata": {},
   "outputs": [],
   "source": [
    "hp.word_counter(data['drinks'])"
   ]
  },
  {
   "cell_type": "markdown",
   "metadata": {},
   "source": [
    "<h3>Males</h3>"
   ]
  },
  {
   "cell_type": "code",
   "execution_count": null,
   "metadata": {},
   "outputs": [],
   "source": [
    "hp.word_counter(males['drinks'])"
   ]
  },
  {
   "cell_type": "markdown",
   "metadata": {},
   "source": [
    "<h3>Females</h3>"
   ]
  },
  {
   "cell_type": "code",
   "execution_count": null,
   "metadata": {},
   "outputs": [],
   "source": [
    "hp.word_counter(females['drinks'])"
   ]
  },
  {
   "cell_type": "markdown",
   "metadata": {},
   "source": [
    "<h2>Drugs</h2>"
   ]
  },
  {
   "cell_type": "code",
   "execution_count": null,
   "metadata": {},
   "outputs": [],
   "source": [
    "hp.word_counter(data['drugs'])"
   ]
  },
  {
   "cell_type": "markdown",
   "metadata": {},
   "source": [
    "<h3>Males</h3>"
   ]
  },
  {
   "cell_type": "code",
   "execution_count": null,
   "metadata": {},
   "outputs": [],
   "source": [
    "hp.word_counter(males['drugs'])"
   ]
  },
  {
   "cell_type": "markdown",
   "metadata": {},
   "source": [
    "<h3>Females</h3>"
   ]
  },
  {
   "cell_type": "code",
   "execution_count": null,
   "metadata": {},
   "outputs": [],
   "source": [
    "hp.word_counter(females['drugs'])"
   ]
  },
  {
   "cell_type": "markdown",
   "metadata": {},
   "source": [
    "<h2>Job</h2>"
   ]
  },
  {
   "cell_type": "markdown",
   "metadata": {},
   "source": [
    "<h4>Here you can see the bias of the dataset in that it was pulled from the greater San Francisco (tech sector jobs).</h4>"
   ]
  },
  {
   "cell_type": "code",
   "execution_count": null,
   "metadata": {},
   "outputs": [],
   "source": [
    "#hp.word_counter(data['job'])"
   ]
  },
  {
   "cell_type": "markdown",
   "metadata": {},
   "source": [
    "<h3>Males</h3>"
   ]
  },
  {
   "cell_type": "code",
   "execution_count": null,
   "metadata": {},
   "outputs": [],
   "source": [
    "#hp.word_counter(males['job'])"
   ]
  },
  {
   "cell_type": "markdown",
   "metadata": {},
   "source": [
    "<h3>Females</h3>"
   ]
  },
  {
   "cell_type": "code",
   "execution_count": null,
   "metadata": {},
   "outputs": [],
   "source": [
    "#hp.word_counter(females['job'])"
   ]
  },
  {
   "cell_type": "markdown",
   "metadata": {},
   "source": [
    "<h2>Offspring</h2>"
   ]
  },
  {
   "cell_type": "markdown",
   "metadata": {},
   "source": [
    "<h4>Varying responses. Too much to output</h4>"
   ]
  },
  {
   "cell_type": "code",
   "execution_count": null,
   "metadata": {},
   "outputs": [],
   "source": [
    "#hp.word_counter(data['offspring'])"
   ]
  },
  {
   "cell_type": "markdown",
   "metadata": {},
   "source": [
    "<h3>Males</h3>"
   ]
  },
  {
   "cell_type": "code",
   "execution_count": null,
   "metadata": {},
   "outputs": [],
   "source": [
    "#hp.word_counter(males['offspring'])"
   ]
  },
  {
   "cell_type": "markdown",
   "metadata": {},
   "source": [
    "<h3>Females</h3>"
   ]
  },
  {
   "cell_type": "code",
   "execution_count": null,
   "metadata": {},
   "outputs": [],
   "source": [
    "#hp.word_counter(females['offspring'])"
   ]
  },
  {
   "cell_type": "markdown",
   "metadata": {},
   "source": [
    "<h2>Location</h2>"
   ]
  },
  {
   "cell_type": "markdown",
   "metadata": {},
   "source": [
    "<h4>Locations are extremely varied and create too much output.</h4>"
   ]
  },
  {
   "cell_type": "code",
   "execution_count": null,
   "metadata": {
    "collapsed": true
   },
   "outputs": [],
   "source": [
    "#hp.word_counter(data['location'])"
   ]
  },
  {
   "cell_type": "markdown",
   "metadata": {},
   "source": [
    "<h3>Males</h3>"
   ]
  },
  {
   "cell_type": "code",
   "execution_count": null,
   "metadata": {
    "collapsed": true
   },
   "outputs": [],
   "source": [
    "#hp.word_counter(males['location'])"
   ]
  },
  {
   "cell_type": "markdown",
   "metadata": {},
   "source": [
    "<h3>Females</h3>"
   ]
  },
  {
   "cell_type": "code",
   "execution_count": null,
   "metadata": {
    "collapsed": true
   },
   "outputs": [],
   "source": [
    "#hp.word_counter(females['location'])"
   ]
  },
  {
   "cell_type": "markdown",
   "metadata": {},
   "source": [
    "<h2>Orientation</h2>"
   ]
  },
  {
   "cell_type": "code",
   "execution_count": null,
   "metadata": {},
   "outputs": [],
   "source": [
    "hp.word_counter(data['orientation'])"
   ]
  },
  {
   "cell_type": "markdown",
   "metadata": {},
   "source": [
    "<h3>Males</h3>"
   ]
  },
  {
   "cell_type": "code",
   "execution_count": null,
   "metadata": {},
   "outputs": [],
   "source": [
    "hp.word_counter(males['orientation'])"
   ]
  },
  {
   "cell_type": "markdown",
   "metadata": {},
   "source": [
    "<h3>Females</h3>"
   ]
  },
  {
   "cell_type": "code",
   "execution_count": null,
   "metadata": {},
   "outputs": [],
   "source": [
    "hp.word_counter(females['orientation'])"
   ]
  },
  {
   "cell_type": "markdown",
   "metadata": {},
   "source": [
    "<h2>Pets</h2>"
   ]
  },
  {
   "cell_type": "markdown",
   "metadata": {},
   "source": [
    "<h4>Same issue as the location. Too much to output and varying amounts of responses.</h4>"
   ]
  },
  {
   "cell_type": "code",
   "execution_count": null,
   "metadata": {
    "collapsed": true
   },
   "outputs": [],
   "source": [
    "#hp.word_counter(data['pets'])"
   ]
  },
  {
   "cell_type": "markdown",
   "metadata": {},
   "source": [
    "<h3>Males</h3>"
   ]
  },
  {
   "cell_type": "code",
   "execution_count": null,
   "metadata": {
    "collapsed": true
   },
   "outputs": [],
   "source": [
    "#hp.word_counter(males['pets'])"
   ]
  },
  {
   "cell_type": "markdown",
   "metadata": {},
   "source": [
    "<h3>Females</h3>"
   ]
  },
  {
   "cell_type": "code",
   "execution_count": null,
   "metadata": {
    "collapsed": true
   },
   "outputs": [],
   "source": [
    "#hp.word_counter(females['pets'])"
   ]
  },
  {
   "cell_type": "markdown",
   "metadata": {},
   "source": [
    "<h2>Religion</h2>"
   ]
  },
  {
   "cell_type": "code",
   "execution_count": null,
   "metadata": {
    "collapsed": true,
    "scrolled": true
   },
   "outputs": [],
   "source": [
    "#hp.word_counter(data['religion'])"
   ]
  },
  {
   "cell_type": "markdown",
   "metadata": {},
   "source": [
    "<h3>Males</h3>"
   ]
  },
  {
   "cell_type": "code",
   "execution_count": null,
   "metadata": {
    "collapsed": true,
    "scrolled": true
   },
   "outputs": [],
   "source": [
    "#hp.word_counter(males['religion'])"
   ]
  },
  {
   "cell_type": "markdown",
   "metadata": {},
   "source": [
    "<h3>Females</h3>"
   ]
  },
  {
   "cell_type": "code",
   "execution_count": null,
   "metadata": {
    "collapsed": true,
    "scrolled": true
   },
   "outputs": [],
   "source": [
    "#hp.word_counter(females['religion'])"
   ]
  },
  {
   "cell_type": "markdown",
   "metadata": {},
   "source": [
    "<h2>Sign</h2>"
   ]
  },
  {
   "cell_type": "code",
   "execution_count": null,
   "metadata": {
    "collapsed": true,
    "scrolled": true
   },
   "outputs": [],
   "source": [
    "#hp.word_counter(data['sign'])"
   ]
  },
  {
   "cell_type": "markdown",
   "metadata": {},
   "source": [
    "<h3>Males</h3>"
   ]
  },
  {
   "cell_type": "code",
   "execution_count": null,
   "metadata": {
    "collapsed": true,
    "scrolled": true
   },
   "outputs": [],
   "source": [
    "#hp.word_counter(males['sign'])"
   ]
  },
  {
   "cell_type": "markdown",
   "metadata": {},
   "source": [
    "<h3>Females</h3>"
   ]
  },
  {
   "cell_type": "code",
   "execution_count": null,
   "metadata": {
    "collapsed": true,
    "scrolled": true
   },
   "outputs": [],
   "source": [
    "#hp.word_counter(females['sign'])"
   ]
  },
  {
   "cell_type": "markdown",
   "metadata": {},
   "source": [
    "<h2>Smokes</h2>"
   ]
  },
  {
   "cell_type": "code",
   "execution_count": null,
   "metadata": {},
   "outputs": [],
   "source": [
    "hp.word_counter(data['smokes'])"
   ]
  },
  {
   "cell_type": "markdown",
   "metadata": {},
   "source": [
    "<h3>Males</h3>"
   ]
  },
  {
   "cell_type": "code",
   "execution_count": null,
   "metadata": {},
   "outputs": [],
   "source": [
    "hp.word_counter(males['smokes'])"
   ]
  },
  {
   "cell_type": "markdown",
   "metadata": {},
   "source": [
    "<h3>Females</h3>"
   ]
  },
  {
   "cell_type": "code",
   "execution_count": null,
   "metadata": {},
   "outputs": [],
   "source": [
    "hp.word_counter(females['smokes'])"
   ]
  },
  {
   "cell_type": "markdown",
   "metadata": {},
   "source": [
    "<h2>Status</h2>"
   ]
  },
  {
   "cell_type": "code",
   "execution_count": null,
   "metadata": {},
   "outputs": [],
   "source": [
    "hp.word_counter(data['status'])"
   ]
  },
  {
   "cell_type": "markdown",
   "metadata": {},
   "source": [
    "<h3>Males</h3>"
   ]
  },
  {
   "cell_type": "code",
   "execution_count": null,
   "metadata": {},
   "outputs": [],
   "source": [
    "hp.word_counter(males['status'])"
   ]
  },
  {
   "cell_type": "markdown",
   "metadata": {},
   "source": [
    "<h3>Females</h3>"
   ]
  },
  {
   "cell_type": "code",
   "execution_count": null,
   "metadata": {},
   "outputs": [],
   "source": [
    "hp.word_counter(females['status'])"
   ]
  },
  {
   "cell_type": "markdown",
   "metadata": {},
   "source": [
    "<h2>Natural Language Processing: Analyzing what people write about themselves</h2>"
   ]
  },
  {
   "cell_type": "code",
   "execution_count": 1,
   "metadata": {
    "collapsed": true
   },
   "outputs": [],
   "source": [
    "import pandas as pd\n",
    "import numpy as np\n",
    "import sklearn\n",
    "import seaborn as sns\n",
    "import matplotlib\n",
    "import matplotlib.pyplot as plt\n",
    "import helper as hp ###function I coded for this project\n",
    "from IPython.display import display\n",
    "%matplotlib inline\n",
    "\n",
    "data = pd.read_csv(\"profiles.csv\")"
   ]
  },
  {
   "cell_type": "code",
   "execution_count": 2,
   "metadata": {
    "collapsed": true
   },
   "outputs": [],
   "source": [
    "import random"
   ]
  },
  {
   "cell_type": "code",
   "execution_count": 3,
   "metadata": {
    "collapsed": true
   },
   "outputs": [],
   "source": [
    "import re"
   ]
  },
  {
   "cell_type": "code",
   "execution_count": 4,
   "metadata": {},
   "outputs": [
    {
     "name": "stdout",
     "output_type": "stream",
     "text": [
      "['essay0', 'essay1', 'essay2', 'essay3', 'essay4', 'essay5', 'essay6', 'essay7', 'essay8', 'essay9']\n",
      "['essay0_mod', 'essay1_mod', 'essay2_mod', 'essay3_mod', 'essay4_mod', 'essay5_mod', 'essay6_mod', 'essay7_mod', 'essay8_mod', 'essay9_mod']\n"
     ]
    }
   ],
   "source": [
    "stringer = 'essay'\n",
    "lister = []\n",
    "mod_lister = []\n",
    "for i in range(0,10):\n",
    "    lister.append(stringer + str(i))\n",
    "    mod_lister.append(stringer + str(i) + '_mod')\n",
    "print(lister)\n",
    "print(mod_lister)"
   ]
  },
  {
   "cell_type": "code",
   "execution_count": 5,
   "metadata": {},
   "outputs": [
    {
     "data": {
      "text/plain": [
       "0        about me:    i would love to think that i was ...\n",
       "1        i am a chef: this is what that means.  1. i am...\n",
       "2        i'm not ashamed of much, but writing public te...\n",
       "3                i work in a library and go to school. . .\n",
       "4        hey how's it going? currently vague on the pro...\n",
       "5        i'm an australian living in san francisco, but...\n",
       "6        life is about the little things. i love to lau...\n",
       "7                                                         \n",
       "8                                                         \n",
       "9        my names jake.  i'm a creative guy and i look ...\n",
       "10       update: i'm seeing someone, so off the market ...\n",
       "11       i was born in wisconsin, grew up in iowa, and ...\n",
       "12                                       bang my shit bang\n",
       "13                                                        \n",
       "14                                                        \n",
       "15                                                        \n",
       "16       i just moved to the bay area from austin, tx (...\n",
       "17       to sum myself in whole: i have adventurous ten...\n",
       "18       some of my favorite things:  riding my motorcy...\n",
       "19       i relocated to san francisco half a year ago. ...\n",
       "20       i grew up in a small town in the midwest and h...\n",
       "21       my name is ashley and i live in san francisco....\n",
       "22       i tend to think the same way a comedian does a...\n",
       "23       here's a completely fake summary i wrote while...\n",
       "24       bay area transplant six years or so now, strai...\n",
       "25       hey to all, hope all is well and your having a...\n",
       "26       full-time student, full-time square. i change ...\n",
       "27       i suck at these things, but here it goes. i'm ...\n",
       "28       i moved here recently and love this place. i'm...\n",
       "29       i'm told i can get along with anyone - a produ...\n",
       "                               ...                        \n",
       "59916    i moved to sf 2 years ago from tennessee and l...\n",
       "59917                           i am a master of mischief.\n",
       "59918    me in a nut shell...i am a lesbian tom-boy fem...\n",
       "59919    southern charm with california style....i'm a ...\n",
       "59920    i'd like your finest milksteak please. and not...\n",
       "59921    just moved back to the bay from a decade in la...\n",
       "59922    just kind of a silly girl. super geek. ultra n...\n",
       "59923    i like hanging out with friends and meeting ne...\n",
       "59924    take clare from six feet under and sprinkle in...\n",
       "59925    i'm a northern california native and a san fra...\n",
       "59926                                                     \n",
       "59927    my interests dictate that i should really be a...\n",
       "59928    i'm here to perhaps, meet new friends and to g...\n",
       "59929    i like iced tea, old tv sets, wearing brown cl...\n",
       "59930                                                     \n",
       "59931    born in southern india, grew up in dubai, live...\n",
       "59932    i'm tall, good looking, nice hair, and a sarca...\n",
       "59933    i'm a southern girl from tennesse who moved to...\n",
       "59934    i'm an east coast/west coast hybrid who's live...\n",
       "59935    i am a mom first and foremost. currently separ...\n",
       "59936                                                     \n",
       "59937    a cautious photo for a cautious dude (i'm havi...\n",
       "59938    i was born, raised and live in the san francis...\n",
       "59939    hi there and thanks for checking out my profil...\n",
       "59940    real deal: i am sensitive (sorry, tears includ...\n",
       "59941    vibrant, expressive, caring optimist. i love b...\n",
       "59942    i'm nick.  i never know what to write about my...\n",
       "59943    hello! i enjoy traveling, watching movies, and...\n",
       "59944    \"all i have in this world are my balls and my ...\n",
       "59945    is it odd that having a little \"enemy\" status ...\n",
       "Name: essay0_mod, Length: 59946, dtype: object"
      ]
     },
     "metadata": {},
     "output_type": "display_data"
    },
    {
     "data": {
      "text/plain": [
       "0        currently working as an international agent fo...\n",
       "1        dedicating everyday to being an unbelievable b...\n",
       "2        i make nerdy software for musicians, artists, ...\n",
       "3                reading things written by old dead people\n",
       "4                               work work work work + play\n",
       "5        building awesome stuff. figuring out what's im...\n",
       "6                               digging up buried treasure\n",
       "7        writing. meeting new people, spending time wit...\n",
       "8        oh goodness. at the moment i have 4 jobs, so i...\n",
       "9        i have an apartment. i like to explore and che...\n",
       "10       i have three jobs. i've been doing sound and l...\n",
       "11       i'm currently the youngest member on an intern...\n",
       "12                                                        \n",
       "13                                                        \n",
       "14       i have an awesome career working as a senior m...\n",
       "15       dancing, playing, exploring, smiling, and doin...\n",
       "16       making music, programming, getting back into a...\n",
       "17       i'm currently studying and majoring in crimina...\n",
       "18         enjoying it, exploring limits, looking for love\n",
       "19       i left my comfort zone far behind in europe, a...\n",
       "20       i work for an international packaging design a...\n",
       "21       i just graduated from usf with a major in inte...\n",
       "22       i'm a supply and demand manager for a sustaina...\n",
       "23                 i'm an english tutor and i love my job.\n",
       "24       i don't work for $$ right now, just so you are...\n",
       "25       always with my dog or spending time with famil...\n",
       "26       i'm currently studying at ccsf. i went to babs...\n",
       "27       currently just working a full time job and han...\n",
       "28       settling into a new city, figuring out how bio...\n",
       "29       i work for a youth development non profit as a...\n",
       "                               ...                        \n",
       "59916    i currently work at a small tech company. if i...\n",
       "59917    just recovering from suburban death in palo al...\n",
       "59918    i'm starting a new career, it's a little scary...\n",
       "59919    taking it to the next level...and enjoying the...\n",
       "59920    design. cooking. photography. drawing   painti...\n",
       "59921                                           living it.\n",
       "59922    i'm an anthropology/bioarchaeology major in sa...\n",
       "59923    trying to get out of the staring contest i mad...\n",
       "59924                                              ask me.\n",
       "59925    i work, play, and attempt to be interesting in...\n",
       "59926    i worked in consulting and for nike for a few ...\n",
       "59927    i just moved to san francisco from chicago for...\n",
       "59928    recently finished college at ucb (go bears!) (...\n",
       "59929    taking care of psychotics in halfway houses fo...\n",
       "59930                                                     \n",
       "59931    working as a software engineer in san francisc...\n",
       "59932    working, finishing school, adventuring, jammin...\n",
       "59933    i'm in human resources for a luxury retail com...\n",
       "59934    starting a business; raising a wonderful, sill...\n",
       "59935    i currently work at safeway. hopefully not for...\n",
       "59936                                                     \n",
       "59937    mourning the loss (they broke in ecuador i thi...\n",
       "59938    i have mostly been working in media arts as an...\n",
       "59939    i'm spending time enjoying the best job i've e...\n",
       "59940    right now...watching 'celebrity rehab' and com...\n",
       "59941    the happiest times have been when life came to...\n",
       "59942    currently finishing school for film production...\n",
       "59943    i'm a civil engineer, who enjoys helping the c...\n",
       "59944    following my dreams...  \"you got a dream... yo...\n",
       "59945    i work with elderly people (psychotherapy and ...\n",
       "Name: essay1_mod, Length: 59946, dtype: object"
      ]
     },
     "metadata": {},
     "output_type": "display_data"
    },
    {
     "data": {
      "text/plain": [
       "0        making people laugh.  ranting about a good sal...\n",
       "1        being silly. having ridiculous amonts of fun w...\n",
       "2        improvising in different contexts. alternating...\n",
       "3        playing synthesizers and organizing books acco...\n",
       "4        creating imagery to look at:  http://bagsbrown...\n",
       "5        imagining random shit. laughing at aforementio...\n",
       "6        frolicking  witty banter  using my camera to e...\n",
       "7        remembering people's birthdays, sending cards,...\n",
       "8                                                         \n",
       "9        i'm good at finding creative solutions to prob...\n",
       "10       hugging, kissing, laughing, motivating people,...\n",
       "11       i'm really good at a little bit of everything....\n",
       "12                                                        \n",
       "13                                                        \n",
       "14       listening. helping others. being patient. comm...\n",
       "15       obscure dances from the '30's and '40's, laugh...\n",
       "16       i'm from louisiana, so cooking and eating are ...\n",
       "17       hmm...i know i can take a test rather well.;) ...\n",
       "18       understanding, appreciating, i like getting a ...\n",
       "19       listening, connecting emotionally, analyzing t...\n",
       "20       laughing? someone once told me i was an ego-bo...\n",
       "21                                                        \n",
       "22       making predictions, planning anything (i'm pre...\n",
       "23       i've made some really great  art ,  music , an...\n",
       "24                                           hide and seek\n",
       "25       \"living for today, in the moment\"     socializ...\n",
       "26       school, especially when there is a bet involve...\n",
       "27                         hmm i'm good at alot of things.\n",
       "28       making stuff, thinking about stuff and doing s...\n",
       "29                                                        \n",
       "                               ...                        \n",
       "59916    sleeping in on weekends, singing loudly in my ...\n",
       "59917                                                     \n",
       "59918    i can tie a knot in a cherry stem with my tong...\n",
       "59919    making people smile; bringing about good conve...\n",
       "59920    finding awkward situations. making bad puns. h...\n",
       "59921    finding my way around foreign cities. being a ...\n",
       "59922    procrastinating.  making a fool out of myself....\n",
       "59923    having esoteric conversations about \"q\" from s...\n",
       "59924    making bad jokes, massage, creating experience...\n",
       "59925    baking (from scratch), telling stories (in per...\n",
       "59926    field hockey  working hard and playing hard  m...\n",
       "59927    i've been told that i'm a pretty stellar cook....\n",
       "59928    cleanliness.  putting things in a list.  forge...\n",
       "59929    i am thinking of becoming a great cook.    als...\n",
       "59930                                                     \n",
       "59931    i enjoy biking, hiking, logic puzzles, jugglin...\n",
       "59932            music  art  hair  debating  computer shit\n",
       "59933                         listening and giving advice!\n",
       "59934    finding joy in simple things, getting lost, ma...\n",
       "59935                                   a lot of things...\n",
       "59936                                                     \n",
       "59937    conscientiousness. adding -ness to words that ...\n",
       "59938    most things creative. having a broad perspecti...\n",
       "59939    making cool electronic stuff, being someone pe...\n",
       "59940    eating chocolate and doing pilates (usually no...\n",
       "59941    i make an outstanding osso bucco. i am also ve...\n",
       "59942     ,  ,  graphic design web design ,  writing , ...\n",
       "59943    - looking at things objectively  - getting thi...\n",
       "59944                                            listening\n",
       "59945    i'm a great bullshitter. i don't know what it ...\n",
       "Name: essay2_mod, Length: 59946, dtype: object"
      ]
     },
     "metadata": {},
     "output_type": "display_data"
    },
    {
     "data": {
      "text/plain": [
       "0        the way i look. i am a six foot half asian, ha...\n",
       "1                                                         \n",
       "2        my large jaw and large glasses are the physica...\n",
       "3                        socially awkward but i do my best\n",
       "4                  i smile a lot and my inquisitive nature\n",
       "5        i have a big smile. i also get asked if i'm we...\n",
       "6                                    i am the last unicorn\n",
       "7        i'm rather approachable (a byproduct of being ...\n",
       "8        i'm freakishly blonde and have the same name a...\n",
       "9                                                i'm short\n",
       "10                                     my huge goofy smile\n",
       "11       the way i dress. some days it's hats, other da...\n",
       "12                                                        \n",
       "13                                                        \n",
       "14       well, i get the most compliments on my butt, s...\n",
       "15                                           you tell me:)\n",
       "16       lately, i keep getting asked \"are you with the...\n",
       "17       physically-i've been told my eyes. people usua...\n",
       "18       blue eyes and a kind soul... although i don't ...\n",
       "19       cheerful, open, curious, direct, active, sport...\n",
       "20                                                        \n",
       "21              my smile. my eyes, and my hair apparently.\n",
       "22             that i'm smiling. pretty much at all times.\n",
       "23       scandinavian blond hair. i mean, that's what *...\n",
       "24                                                        \n",
       "25       i am easy to talk to and am not judgmental. if...\n",
       "26            is how hard it is to pin point my ethnicity.\n",
       "27                                          my spiky hair?\n",
       "28       depends. i've been told my eyes (isn't this th...\n",
       "29                     my use of profanity around children\n",
       "                               ...                        \n",
       "59916                                my dark hair and eyes\n",
       "59917                                                     \n",
       "59918                                                     \n",
       "59919    my infectious smile. wait, should i use the wo...\n",
       "59920    my eyes. my ambiguous ethnic heritage (mexican...\n",
       "59921               my smile and that i'm easy to talk to.\n",
       "59922                                      i have no idea.\n",
       "59923    the fact i never seem to take of my sun glasse...\n",
       "59924    i like dancing anywhere and everywhere to song...\n",
       "59925         my statuesque height and piercing blue eyes.\n",
       "59926                    my eyes... theyre polka dotted :)\n",
       "59927    probably that i laugh and smile, a lot. and wh...\n",
       "59928    tall, friendly and that i have an accent (no i...\n",
       "59929    my strange first name and my faint foreign acc...\n",
       "59930                                                     \n",
       "59931    is that i'm an indian guy living in the missio...\n",
       "59932    is the fact i'm fucking tall.  maybe my hair. ...\n",
       "59933                                         my smile :-)\n",
       "59934    i've been told my eyes but also that i smile a...\n",
       "59935    my eyes and then the fact that i am pretty str...\n",
       "59936                               my infectious laugh :)\n",
       "59937    probably that i have no hair (unless i'm weari...\n",
       "59938                                    i'm approachable.\n",
       "59939    i needed an expert opinion for this section so...\n",
       "59940    my hair? eyes? height? curves? dk....my caring...\n",
       "59941    i am told that people notice my smile, eyes an...\n",
       "59942                                  dude, i don't know.\n",
       "59943    i'm quiet until i get used to the environment ...\n",
       "59944    it used to be the hair until i mowed it off bu...\n",
       "59945    either that i am funny/sarcastic, or that i am...\n",
       "Name: essay3_mod, Length: 59946, dtype: object"
      ]
     },
     "metadata": {},
     "output_type": "display_data"
    },
    {
     "data": {
      "text/plain": [
       "0        books:  absurdistan, the republic, of mice and...\n",
       "1        i am die hard christopher moore fan. i don't r...\n",
       "2        okay this is where the cultural matrix gets so...\n",
       "3        bataille, celine, beckett. . .  lynch, jarmusc...\n",
       "4        music: bands, rappers, musicians  at the momen...\n",
       "5        books: to kill a mockingbird, lord of the ring...\n",
       "6        i like books. ones with pictures. reading them...\n",
       "7        i like: alphabetized lists, aquariums, autobio...\n",
       "8        i am always willing to try new foods and am no...\n",
       "9        i like some tv. i love summer heights high and...\n",
       "10       i'm constantly reading, i read at what my frie...\n",
       "11       books = yes. avid reader.  moves = eternal sun...\n",
       "12                                                        \n",
       "13                                                        \n",
       "14       books:  my all-time favorite book is george or...\n",
       "15       i don't really pick favorites. variety is the ...\n",
       "16       movies/tv/etc:  the big lebowski (and other co...\n",
       "17       i'm much more of a movie goer. favorite actor:...\n",
       "18       i like stories that are adventurous, fun, and ...\n",
       "19       the art of happiness by dalai lama, how findin...\n",
       "20                                                        \n",
       "21       i'm not picky...but i tend to enjoy comedies, ...\n",
       "22       a confederacy of dunces and infinite jest are ...\n",
       "23       books:  oscar wilde ,  michael j nelson , and ...\n",
       "24       mostly i read nonfiction; sociology, psych, in...\n",
       "25       books:   catcher in the rye   alchemist   baby...\n",
       "26       books -  dan brown: deception point, digital f...\n",
       "27       i have read all the harry potter, lord of the ...\n",
       "28       books: 1491. omnivore's dilemma. the amazing a...\n",
       "29       some favorite authors poets and playwrights ar...\n",
       "                               ...                        \n",
       "59916    books: flowers for algernon, a wrinkle in time...\n",
       "59917                     surely, you're joking mr feynman\n",
       "59918    these are a few of my favorite things....    f...\n",
       "59919    music: i like all music but definitely love li...\n",
       "59920    books: east of eden, lolita, 100 years of soli...\n",
       "59921    books: beloved. catcher in the rye. i'm also a...\n",
       "59922    books: extremely loud and incredibly close, ma...\n",
       "59923    ender's game, 1984, watchmen,ender's shadow, w...\n",
       "59924    books: finite and infinite games, choke, gonzo...\n",
       "59925    books: fiction, memoirs, sports books, anythin...\n",
       "59926    shows: seinfeld is hysterical!  music: oar, di...\n",
       "59927    what i read runs the gamut, my favorite book i...\n",
       "59928    i don't really learn much from fiction and eve...\n",
       "59929    spices!  spices ii  yamo  genki ramen  tu lan ...\n",
       "59930                                                     \n",
       "59931    i'm a big fan of the saw and paranormal activi...\n",
       "59932    stephen king books and horror books, anything ...\n",
       "59933    i like any and all types of music, especially ...\n",
       "59934    i love reading but these days more of my time ...\n",
       "59935    i love to read and so i do not have an absolut...\n",
       "59936                                                     \n",
       "59937    i get anxious when people ask about favorites....\n",
       "59938    books: lately - eckhart tolle's \"a new earth,\"...\n",
       "59939    music: rock and roll  artists that top my list...\n",
       "59940    too many to name ...  -a new earth, kite runne...\n",
       "59941    i am an avid movie watcher and follow the broa...\n",
       "59942      hook (the greatest adventure ever!), gladiat...\n",
       "59943    last book: \"game change\".  movies: bourne seri...\n",
       "59944    where to begin musically: right now i listen t...\n",
       "59945    i just read the help by kathryn stockett, sooo...\n",
       "Name: essay4_mod, Length: 59946, dtype: object"
      ]
     },
     "metadata": {},
     "output_type": "display_data"
    },
    {
     "data": {
      "text/plain": [
       "0                     food.  water.  cell phone.  shelter.\n",
       "1        delicious porkness in all of its glories.  my ...\n",
       "2        movement  conversation  creation  contemplatio...\n",
       "3                                                         \n",
       "4                                                         \n",
       "5        like everyone else, i love my friends and fami...\n",
       "6        laughter  amazing people in my life  color  cu...\n",
       "7        friends, family, notebook/pen, books, music, t...\n",
       "8        sports/my softball glove  coffee. because nobo...\n",
       "9        music, my guitar  contrast  good food  my bike...\n",
       "10            family  friends  food  women  music  reading\n",
       "11       guitar - even if i don't play it all the time,...\n",
       "12                                                        \n",
       "13                                                        \n",
       "14       1. my family  2. italian or mexican food  3. m...\n",
       "15       i work with children with disabilities for a l...\n",
       "16       (in no particular order)    - good food  - mus...\n",
       "17       my cellphone  eye liner  food  wallet  jacket ...\n",
       "18       compassion, love, art, my motorcycle, stretchi...\n",
       "19       juicy fruit, water, swimming workouts, yoga pr...\n",
       "20       fam, friends, music, tacos, passport, nitrous ...\n",
       "21                                                        \n",
       "22       1) sf restaurants, could they be any better?  ...\n",
       "23                                                        \n",
       "24                                                        \n",
       "25       1 family  2 my lil' guy (dog)  3 friends  4 go...\n",
       "26       friends   family  passport  cologne  good spea...\n",
       "27                                                        \n",
       "28       cities  mountains  travel  bike  friends  crea...\n",
       "29       friends  family  just enough uncertainty  conv...\n",
       "                               ...                        \n",
       "59916    music  endorphins  access to the internet  goo...\n",
       "59917    - touring the world  - coming up with weird ac...\n",
       "59918    no real order    1)phone  2)bed  3)my two feet...\n",
       "59919    pen and paper  chocolate  running  friends  po...\n",
       "59920    caffeine  baked goods  onomatopoeia (aka makin...\n",
       "59921    i could do without almost everything if i had ...\n",
       "59922                                    frosted flakes...\n",
       "59923    psp  vinyl record collection.  comic book coll...\n",
       "59924    -good coffee  -laughter  -music  -sleep  -sarc...\n",
       "59925    a great cup of coffee  a funny source of enter...\n",
       "59926    working out  laughing with friends  family  pa...\n",
       "59927    music  friends   family  chapstick  for realis...\n",
       "59928                 love, sleep, water, food, roof, soap\n",
       "59929    1) raw sienna  2) manganese blue  3) alizirin ...\n",
       "59930                                                     \n",
       "59931    1) connecting with nature and exploring its in...\n",
       "59932    chaos  pants  cigarettes  phone  lighter  adve...\n",
       "59933    wine, college football, sweet tea, family, fri...\n",
       "59934    1. water....in the ocean, lake, bathtub  2. se...\n",
       "59935    my kids  my ipod/iphone  water  my car  my mac...\n",
       "59936                                                     \n",
       "59937    water. air. food. clothes (if its cold, though...\n",
       "59938    other people, my ability to think, the sustena...\n",
       "59939    trixie the cat  a double shot of good espresso...\n",
       "59940    1. pilates  2. solo relaxation time (with or w...\n",
       "59941           my family, my dog, italy, words and music!\n",
       "59942    iphone  contact lenses  headphones  camera  tv...\n",
       "59943    - iphone  - friends and family  - internet  - ...\n",
       "59944    music, family, friends, a basketball, hoop, so...\n",
       "59945    1. family   friends   other humans - interacti...\n",
       "Name: essay5_mod, Length: 59946, dtype: object"
      ]
     },
     "metadata": {},
     "output_type": "display_data"
    },
    {
     "data": {
      "text/plain": [
       "0                              duality and humorous things\n",
       "1                                                         \n",
       "2                                                         \n",
       "3                               cats and german philosophy\n",
       "4                                                         \n",
       "5        what my contribution to the world is going to ...\n",
       "6        synchronicity    there is this whole other rea...\n",
       "7                         things that amuse and inspire me\n",
       "8                                                         \n",
       "9                                                         \n",
       "10       snowboarding, food, women, goofy nerd stuff, a...\n",
       "11       a little bit of everything. but mostly social ...\n",
       "12                                                        \n",
       "13                                                        \n",
       "14       to be honest, i spend way too much time thinki...\n",
       "15                     how to live a joyful, playful life.\n",
       "16       - methodologies for practicing creative skills...\n",
       "17       my next big vacation! who knows....maybe if i ...\n",
       "18       i like thinking about ways to improve things. ...\n",
       "19                 my passions and searching for new ones.\n",
       "20       where will my next trip be?  when will i grow ...\n",
       "21                                                        \n",
       "22       how to build an empire and a legacy. so far th...\n",
       "23       i have an eccentric, overactive imagination; i...\n",
       "24                          space and time, .... and stuf,\n",
       "25       about the importance to live for today in the ...\n",
       "26       what i will leave my children (when i do event...\n",
       "27       a little bit of everything! where im going to ...\n",
       "28       symbiosis. where to go this weekend. politics....\n",
       "29       how to be a good friend/son/brother/person    ...\n",
       "                               ...                        \n",
       "59916    where to go on my next vacation, whether i sho...\n",
       "59917               if there are any monsters in my closet\n",
       "59918    i guess i spend a lot of time thinking. i've n...\n",
       "59919    how beautiful is san francisco...is this where...\n",
       "59920    life and animals that talk in all caps (http:/...\n",
       "59921    let's just say the inner workings of my mind w...\n",
       "59922    bones  dirt  burritos  why people don't move t...\n",
       "59923    the wonderful world of space travel, the 4th d...\n",
       "59924    man/woman dynamics   currently studying behavi...\n",
       "59925       the san francisco giants world series victory.\n",
       "59926     the future but also living in the current moment\n",
       "59927    scheming. i love coming up with a great scheme...\n",
       "59928    the future, and how to make the world a better...\n",
       "59929           i think about ghosts a lot. i hate ghosts!\n",
       "59930                                                     \n",
       "59931    self-improvement and optimization, life hacks,...\n",
       "59932    everything hidden between the lines and why pe...\n",
       "59933                       it's not glamorous but...work.\n",
       "59934    -how to be a better parent, friend, daughter, ...\n",
       "59935                    everything i have and want to do!\n",
       "59936                                                     \n",
       "59937                                             thinking\n",
       "59938    how to bring about a healthy and loving world....\n",
       "59939    how the web, new social media, and collaborati...\n",
       "59940    how i am gonna answer this question! ...existe...\n",
       "59941                                     writing my book.\n",
       "59942    i do most of my thinking on the bus to/from wo...\n",
       "59943             aside from work, how to improve my home.\n",
       "59944            what can i do to make someone chuckle....\n",
       "59945    sex, myself, other people, how amazing everyth...\n",
       "Name: essay6_mod, Length: 59946, dtype: object"
      ]
     },
     "metadata": {},
     "output_type": "display_data"
    },
    {
     "data": {
      "text/plain": [
       "0        trying to find someone to hang out with. i am ...\n",
       "1                                                         \n",
       "2        viewing. listening. dancing. talking. drinking...\n",
       "3                                                         \n",
       "4                                                         \n",
       "5                                     out with my friends!\n",
       "6        plotting to take over the world with my army o...\n",
       "7        out and about or relaxing at home with a good ...\n",
       "8        in or out... drinking with friends, maybe a ba...\n",
       "9                                                         \n",
       "10       having dinner and drinks with friends and/or w...\n",
       "11       hanging out with a small group of friends--sta...\n",
       "12                                                        \n",
       "13                                                        \n",
       "14       unwinding from my work week. hanging out with ...\n",
       "15       i'm usually pretty exhausted by friday. so usu...\n",
       "16       i just moved here and am still getting to know...\n",
       "17       working out at the gym, sometimes watching a m...\n",
       "18       last friday i had dinner with my roommates, an...\n",
       "19       having dinner and a night out with my close fr...\n",
       "20       out with friends for happy hour which usually ...\n",
       "21                     going out in the city with friends.\n",
       "22       having beers with any number of friends and pr...\n",
       "23       i'm an idler. i enjoy simple activities like a...\n",
       "24                                           being thrifty\n",
       "25       out with friends (sf)  with my family (atherto...\n",
       "26       at work until 8, then hanging out with friends...\n",
       "27       if im not working im usually out hanging with ...\n",
       "28       getting ready for the weekend, riding bikes, d...\n",
       "29                                               out/about\n",
       "                               ...                        \n",
       "59916    getting excited for early saturday morning foo...\n",
       "59917                                                     \n",
       "59918    usually down to go out for a drink. probably e...\n",
       "59919           looking for a momentary lapse of reason...\n",
       "59920                             meandering with friends.\n",
       "59921    well i've just gone through a big life-change ...\n",
       "59922    probably lounging on a couch either at my hous...\n",
       "59923                           working unfortunately.  _ \n",
       "59924                      recovering from sunday-thursday\n",
       "59925                                  having a good time.\n",
       "59926    meeting friends for dinner and drinks, laughin...\n",
       "59927              exploring my neighborhood and the city.\n",
       "59928                  out and about. usually not at home.\n",
       "59929    i'm sure like most people, working or at a bar...\n",
       "59930                                                     \n",
       "59931    coding in php, grabbing a burrito in the missi...\n",
       "59932    working and then drinking free beer (and smoki...\n",
       "59933               out for drinks or dinner with friends!\n",
       "59934    home with my son, playing with legos, wrestlin...\n",
       "59935    either working, hang in' with my kids or out h...\n",
       "59936                                                     \n",
       "59937    was in class friday nights this past semester....\n",
       "59938                                        being social.\n",
       "59939    enjoying a glass of red wine or a scotch on th...\n",
       "59940    doing the obvious two things everyone is doing...\n",
       "59941    running with my dog, finishing up the work wee...\n",
       "59942        bringin' home bacon, or drinking and shakin'!\n",
       "59943      out enjoying friendly conversation over dinner.\n",
       "59944    what i would do on any other day. everydays a ...\n",
       "59945    out at happy hour with my friends, running int...\n",
       "Name: essay7_mod, Length: 59946, dtype: object"
      ]
     },
     "metadata": {},
     "output_type": "display_data"
    },
    {
     "data": {
      "text/plain": [
       "0        i am new to california and looking for someone...\n",
       "1        i am very open and will share just about anyth...\n",
       "2        when i was five years old, i was known as \"the...\n",
       "3                                                         \n",
       "4                                                         \n",
       "5        i cried on my first day at school because a bi...\n",
       "6                                  my typical friday night\n",
       "7                                                         \n",
       "8        potential friends/lovers/people who come in co...\n",
       "9                                                         \n",
       "10       i used to wish for a jetpack when blowing out ...\n",
       "11       i'm picky when it comes to dating. i know what...\n",
       "12                                                        \n",
       "13                                                        \n",
       "14       hmmm...not sure if i want to admit this, but p...\n",
       "15       i hated cleaning the litter box so much, i tau...\n",
       "16       i am in my 30's and still cannot grow a mustac...\n",
       "17       i could beat you at a game of hold em'.....try...\n",
       "18       i have liked vampire novels ever since finding...\n",
       "19       i'm pretty direct, so you can ask and i'll tel...\n",
       "20                       i'm terrified of parallel parking\n",
       "21                                                        \n",
       "22       when i was a kid i thought steven segal was re...\n",
       "23       whenever i hear the song \"rebel yell\", i trans...\n",
       "24                                                        \n",
       "25       i am into men's fashion, but like women...lol....\n",
       "26       sometimes, when i have absolutely nothing to d...\n",
       "27                               i have a okcupid account!\n",
       "28       i'm a sucker for pictures/youtube videos of ba...\n",
       "29                                                        \n",
       "                               ...                        \n",
       "59916    i know all the lyrics to we didn't start the f...\n",
       "59917    i can get away with almost anything because of...\n",
       "59918                that's a third date kind of question.\n",
       "59919       well, whatever it is...don't you want to know?\n",
       "59920    i haven't willingly eaten seafood after watchi...\n",
       "59921    i've never been to burning man. and i never pl...\n",
       "59922                       well that's a hard question...\n",
       "59923    i can be terribly awkward at times but i warm ...\n",
       "59924    recently discovering that i do things very slo...\n",
       "59925            i get really excited about a clean house.\n",
       "59926                                                     \n",
       "59927    i plan on using   when naming my future children.\n",
       "59928    i don't really like to have pictures taken (wh...\n",
       "59929    i lead a shameful life and everything about me...\n",
       "59930                                                     \n",
       "59931    i will absolutely defeat you at any type or fo...\n",
       "59932                                       ask me urself.\n",
       "59933    embarrassing fact-i love being organized...and...\n",
       "59934    i'm recently divorced, but have been separated...\n",
       "59935                       hahaha! i'm not telling...yet.\n",
       "59936                                                     \n",
       "59937    i wish my sexual preferences were clearer to m...\n",
       "59938    nothing that will be very useful to you or me ...\n",
       "59939     i really like listening to and dancing to disco!\n",
       "59940    --is that i sometimes watch reality tv (even t...\n",
       "59941    i have a dream to sing at the alconquin in nyc...\n",
       "59942    when i was 18 i got a tattoo of waldo somewher...\n",
       "59943                 please let me think about this more.\n",
       "59944    i like walking around in other people's house ...\n",
       "59945    i wish i could cry like holly hunter in broadc...\n",
       "Name: essay8_mod, Length: 59946, dtype: object"
      ]
     },
     "metadata": {},
     "output_type": "display_data"
    },
    {
     "data": {
      "text/plain": [
       "0        you want to be swept off your feet!  you are t...\n",
       "1                                                         \n",
       "2        you are bright, open, intense, silly, ironic, ...\n",
       "3                                    you feel so inclined.\n",
       "4                                                         \n",
       "5                                          you're awesome.\n",
       "6                                                         \n",
       "7                                                         \n",
       "8        http://www.youtube.com/watch?v=4dxbwzuwsxk let...\n",
       "9                                   you can rock the bells\n",
       "10       you are a complex woman with healthy self-este...\n",
       "11       if you know who you are, who you want, where y...\n",
       "12                                                        \n",
       "13                                                        \n",
       "14            ...you genuinely think we'd be a good match.\n",
       "15                                                        \n",
       "16       you want to help me assemble ikea stuff and/or...\n",
       "17       you're interested?    and you also thought oph...\n",
       "18       because i'll try to write back, and it's hard ...\n",
       "19                                      you wanna meet up.\n",
       "20       you're awesome, have a sense of humor, think w...\n",
       "21       -you like to be happy and have fun. -you are a...\n",
       "22       you're a positive and creative personality loo...\n",
       "23       you're nice, you've got integrity, and you can...\n",
       "24       you like to mob around on bikes and make fun o...\n",
       "25                   if you want to get to know me better.\n",
       "26       if you don't mind chatting with a closet dork ...\n",
       "27           you want to get to know me better or hang out\n",
       "28       you're bright, funny, creative and interesting...\n",
       "29                                                        \n",
       "                               ...                        \n",
       "59916    you're smart and open-minded. you're confident...\n",
       "59917                       if you want to jump on my bed.\n",
       "59918    you want to grab a drink or coffee as friends,...\n",
       "59919    you have an open heart, are an adventurous sou...\n",
       "59920    you are an interesting human being and promise...\n",
       "59921                               if you are a good guy.\n",
       "59922    you think smart girls are rad! you like the wo...\n",
       "59923    you're a nerd, looking for another nerd, to do...\n",
       "59924    ...you can define the word \"play\". sounds odd,...\n",
       "59925    you want to say hi, get a drink, or go on an a...\n",
       "59926                                                     \n",
       "59927    there are countless reasons, most of them revo...\n",
       "59928    a) just because you want.  b) you think you'd ...\n",
       "59929    if you want to get a reply that i think is wit...\n",
       "59930                                                     \n",
       "59931    you're looking to make a new friend, online an...\n",
       "59932      you're any kind of unique    aim: unmovedslave6\n",
       "59933                      you want to meet someone new :)\n",
       "59934    -you are intrigued by any of the above  -you a...\n",
       "59935    you kept reading after currently separated, ar...\n",
       "59936                                                     \n",
       "59937                you don't know what it's all about...\n",
       "59938                            if you feel so compelled.\n",
       "59939    you want to meet and get to know a talented, i...\n",
       "59940    --if you have the courage to tell me why you c...\n",
       "59941    you are seeking a long term connection of shar...\n",
       "59942       meh if you made it this far you might as well.\n",
       "59943                           we have similar interests.\n",
       "59944                you are interested and interesting...\n",
       "59945    if you have a back-bone, an opinion, a sense o...\n",
       "Name: essay9_mod, Length: 59946, dtype: object"
      ]
     },
     "metadata": {},
     "output_type": "display_data"
    }
   ],
   "source": [
    "for i, j in zip(lister, mod_lister):\n",
    "    data[j] = data[i].replace(np.nan, '', regex=True)\n",
    "    data[j] = data[j].apply(hp.remove_tags)\n",
    "    display(data[j])"
   ]
  },
  {
   "cell_type": "code",
   "execution_count": 6,
   "metadata": {},
   "outputs": [
    {
     "data": {
      "text/plain": [
       "Index(['age', 'body_type', 'diet', 'drinks', 'drugs', 'education', 'essay0',\n",
       "       'essay1', 'essay2', 'essay3', 'essay4', 'essay5', 'essay6', 'essay7',\n",
       "       'essay8', 'essay9', 'ethnicity', 'height', 'income', 'job',\n",
       "       'last_online', 'location', 'offspring', 'orientation', 'pets',\n",
       "       'religion', 'sex', 'sign', 'smokes', 'speaks', 'status', 'essay0_mod',\n",
       "       'essay1_mod', 'essay2_mod', 'essay3_mod', 'essay4_mod', 'essay5_mod',\n",
       "       'essay6_mod', 'essay7_mod', 'essay8_mod', 'essay9_mod'],\n",
       "      dtype='object')"
      ]
     },
     "execution_count": 6,
     "metadata": {},
     "output_type": "execute_result"
    }
   ],
   "source": [
    "data.columns"
   ]
  },
  {
   "cell_type": "code",
   "execution_count": 13,
   "metadata": {},
   "outputs": [
    {
     "name": "stdout",
     "output_type": "stream",
     "text": [
      "my name is harrison, i'm 19 years old and new to san francisco. i was born and raised in boston, but started moving around at a young age. i have just come back to the states after a sick 3 year residence in england. \n",
      "\n",
      "\n",
      "things that i love: lemonade, foxes, trashy pop music, public radio, embarrassing my nephew by singing to him in public, fog, puns, metaphysics, all of those stupid ghost hunting shows, daisies, giving awesome gifts, shark week, soapboxing about the importance of comprehensive sex education, roy blount jr., clever graffiti, celebrity gossip, plato, champagne, new sneakers, quotes, the color green, milk duds.    things that i hate: james blunt, the smell of hair dye, moths, cats and dogs talking like people, pears, when it rains and the hems of my jeans get wet and stay that way all day, jello, when girls talk about how they just can't seem to make female friends because girls are so catty, ticket scalpers, weak hugs, people who are perpetually late, ketchup on hotdogs. \n",
      "\n",
      "\n",
      "hey,    my name is rob and i'm 26 years old, live in san francisco, and work for facebook in a productlaunch role. i really enjoy my career and live an active, social, and busy lifestyle.    to be straightforward, this is my first time using an online dating site. i'm on here because i'm looking to meet someone outside the context of bars who shares my interests and/or outlook.    my background: though i was born and raised in the bay area originally, i attended a boarding school for high school in southern california. in 2008, i graduated from stanford and spent a year as a pro skier before returning to the bay area to join the corporate world.    i would describe myself as social and gregarious. i am a work hard play hard kind of guy and enjoy attending lots of giants/49ers/stanford football games, going out with friends in the city, or jetting up to tahoe at the last minute on a friday.    i'm also active and into outdoor sports. i'm not one to walk around in a gym or step onto a treadmill. instead, i strongly prefer getting outside and running, bay swimming, surfing, sailing, or skiing! did i mention skiing? i have had a lifelong passion for the sport and even pursued it professionally for a year - almost a lot longer. it was a wild year and i'd be happy to tell you about it.    anyway, i'm looking for a teammate or a \"partner in crime,\" if you will. i don't have a specific type, but i'm looking for someone who finds that what i have written here resonates with her.    thanks.http://www.okcupid.com/profile# \n",
      "\n",
      "\n",
      "within one year i have lived in chicago, rome, and now san francisco! i am in constant pursuit to challenge myself in new ways. within the last 3 years, i have traveled throughout europe, curated a small art gallery in rome, ran the chicago marathon, learned how to snowboard and surf, and went sky diving. i am always finding inspiration throughout my travels in photography, fashion, jewelry, food, and meeting many different types of people. \n",
      "\n",
      "\n",
      "welcome to my profile! it's a work-in-progress, but then again i guess it always will be. y' know, like sfo. here's a bit o me in a conch shell (nutshells are so 90s):    i guess i'd describe myself as a pretty nice guy. if you're looking for the rebellious/dangerous/rugged type, well, i'm, ahem, almost all of those...and more!  i'm opinionated, but quite open-minded.  i'm smart as a whip, but like to be goofy and dorky, too. i've been told it's endearing... =p  i think i look like i listen to classical music, but i can move my tuchus on the   floor like you wouldn't believe! (i listen to classical music, too)  i'm shy, but i make up for it with lots of affection.  i'm healthy in both mind and body, but sugar is my kryptonite.  i like to have my way, but a woman who has my heart will often have hers...plus poetry.  i have my routines, but i'm up for just about anything.  i'm not rich, but i often dress like it (and i have the \"awards\" to prove it! got another one this year...).  i'm logical to a fault, but open to interpretation.  i'm competitive, but if i lose, don't be surprised if i beat you next time, mostly because i'll probably cheat! =p  i love to get out and about (hiking, walking, plays, dancing, sports playing, sports watching, picnics, comedy clubs, scenic drives, gold panning, new restaurants, and the music goes on and on...)  i like who i am. i'm pretty sure you will, too... \n",
      "\n",
      "\n",
      "*************************************************  if i messaged you, i just want to make friends!  ************************************************* \n",
      "\n",
      "\n",
      "hi i go to college i have a little job, i like puppies and cupcakes and fashion. i want a guy who is sensitive and likes to go out and do fun things with me!!!!!! i like to party a lot so don't get mad at me plz. i like a guy with nice hair and a six pack. i'm going for business marketing and fashion. \n",
      "\n",
      "\n",
      "i'll fill this out soon.. just signed onto this site.    \n",
      "\n",
      "\n",
      "i'm a hillbilly from tennessee who has a puerto rican birth certificate and speaks in the dialect of a minnesota swede at the tempo of a south alabamian. dad wore a robe to work. standardized tests say i'm some kind of smart guy, but i'm not trying to save the world with that or anything. i've seen quite a bit of the world and found it to be able to take care of itself, with the possible exception of the united states. i blame liberalism, despite being as liberal as the next guy and far more liberal than any of the next guys back home in the south, which is due to the south's inability to understand it's a part of something larger (and god bless it for that at the same time he damn it for its effect on national politics). maintenance of contradictions and ironies in mind are, i suppose, no problem for me. it's probably hypocritical to say i hate hypocrisy. ending of this block: we're all here because at this age there's a damn good reason we're not married happily ever after and all...and i hope i can say in my case that's not due to being nuts or messing up stuff, just timing and being too lucky at everything else. \n",
      "\n",
      "\n",
      "i like to have fun. i'm funny and easy to be around. i have always thought of myself as independent but i do really enjoy surrounding myself with close friends. i think i am cute and fit ;) i like to go on adventures, (the park? a lake? another country?) but also enjoy going out locally with friends to eat yummy food and have a few drinks. i have traveled a lot and love sharing fun traveling stories. i like to take care of myself i.e. eat right and be active but i'm not obsessed. i like to meet new people because i think they bring out new things within myself. all of that said, sometimes sitting with someone not talking is one of my favorite things to do. \n",
      "\n",
      "\n",
      " \n",
      "\n",
      "\n",
      "easy going, positive attitude toward life, trustworthy \n",
      "\n",
      "\n",
      "i got 99 problems but a (son of a) bitch ain't one. hopefully, this is where you come in.    \"at 13 i knew everything. senility set in sometime after that.\" -arnold,     useless facts:    -i have a red ear slider (jfgi) named peanut  -depending on the test, i'm either an infj or isfj  -i love the smell of rubber (tires, rubber bands, new shoes...mmmm)  -i've never had a mani/pedi and don't really care to  -i really like watching claymation  -i don't play video/computer/smart phone games. i do love taboo, pictionary, and other similar board games though    not so useless fact (as far as dating or whatnot is concerned):    -i tend to be more quiet and awkward around guys i really like (at least initially). shy and selective; totally fucked. \n",
      "\n",
      "\n",
      "just a humble bloke with an occasionally quirky (but well meaning) nature. \n",
      "\n",
      "\n",
      "blessed to be born in mexico was lucky to be raised in madera-fresno ca in a very catholic traditional mexican family. i don't think like most gay men so don't be surprised when you meet me,\"what can i say i have 5 brothers @ 5 sisters\" @ yes all from the same mom and dad :-). i'm a outgoing simple cool guy, i enjoy going to the gym, movies, @ traveling the world. i like taking long walks around the city to release the stress of normal life. when the weather is good i get on my killer mountain bike and take a ride around sf mountains. \n",
      "\n",
      "\n",
      "hi, i'm an avid  movie  watcher. i like action/adventure, drama, and sci-fi. i'm really into  physical fitness right now. i'm learning brazilian jiu-jitsu and work out 3-4 times per week. i'm a tomboy. i make art  art , photography right now, and i also enjoy going to movies and galleries. i'm into  rock  music; 70's, 80's punk, and alternative. i also like to see live  music . people say i'm bright, creative, cute, sensual, grounded, and sexy. i'm a realist but also a cup 1/2 full kinda gal. \n",
      "\n",
      "\n",
      "my name begins with c. i can get excited about a cup of coffee, and very excited about a great meal, and before an eagerly anticipated exhibition or concert?-- forget it. it's off the scale. i stand firmly on one idealistic foot. mostly i've been in long-term relationships, so i've got some stuff figured out. despite some rattling parts, and a tendency to overheat, i basically have my system together. i value soulfulness, irreverence, intensity, intelligence. i'll organize a picnic with gusto and verve. i'd like to get married in a hot air balloon. i give memorable gifts.    i'm looking for an advanced thinker who likes to dance. an edgy, open, creative man with a penchant for celebrating days and nights. someone i can hold in high esteem. a man to keep my heart and brain alert and aligned, who also appreciates apples, absurdity, metaphor, the word cantankerous, being adventurous, chips and salsa, symbolic gestures, and sleep. also, someone honest and trustworthy. also, ambitious (but a hedonist at heart). a person not opposed to building a fort beneath the kitchen table. someone sexy to do things for, to, and with. and, finally, someone who considers themselves an agent of chaos and who intends to use those powers, generally speaking, to increase the moral balance of the universe to the good.    i like to think of myself as a series of dichotomies: an active homebody, a lowbrow sophisticate, feet firmly planted on the ground with my head in the clouds; or at least the attic.    i'm not looking for a pen-pal so let's meet up in person for coffee or a drink to see if we have chemistry. if you're bold ask me out and we can meet up to see if there is a spark.    ultimately i am looking to meet a guy with an attractive, magnetic personality. you love to have intellectual conversations about anything from existentialism to historical linguistics. you are excited about your work, whatever it is, and are interested in being successful with it. you passionately engage in interests, activities and hobbies in addition to your work. you also create plenty of free time to travel and relax. you want to spend time with me often. you are happy and healthy.    if you're open to new experiences, your communication is authentic, you are driven to excel in whatever endeavor you choose to explore, you're excited about life and you'll challenge my ideas and thought processes and force me to grow..... then i want to know you.    i want to fall in love...... \n",
      "\n",
      "\n",
      "i'm a nerd, a bookworm, a sometime woodwind player, an appreciator of the absurd, a decent cook, a loyal friend, a retainer of useless information, and a lover of serial commas. \n",
      "\n",
      "\n",
      "hello my name is joe i am 25 i am currently a student in sf. i am new to the area and would love to meet people that fun with a sense of adventure. i moved from the country and would love to go and explore or have someone show me around. \n",
      "\n",
      "\n",
      "much to my advantage, i have no natural odor. i spend 100% of my time reading and writing fiction. due to clerical errors i spend 5% of my time hanging out. i never spend any of my time deodorizing. i'm also asian, which is hereditary. went to stanford for undergrad, about to graduate from the iowa writers' workshop for fiction writing. recently i had a korean guy resole the shit out of my boots. he said he liked my plain black shirt. facts. \n",
      "\n",
      "\n",
      "i am a lovely lady who works very hard but plays even harder. i feel extremely blessed and am forever grateful for what i have. i take life seriously, but that is why i love to live and have fun. life is too short and i want to make the most of it! i genuinely love being around lots of people, being social, spending quality time with friends, and making new friends.  i enjoy going out for a delicious meal, going to parties/special events, traveling the world, trying new things for the first time, love animals, esp. baby animals, museums, trying to learn spanish, walking my dog, taking hula hoop lessons, learning some djing skills, and also a good ass-kicking in the gym. i have more things i want to do and experience than i have time or money, so its always battle for balance. :)  i'm looking for my partner in crime. i would rather be alone than with the wrong person. i love being alone at times, but i feel that someone out there could enrich my life and i to them. :) \n",
      "\n",
      "\n",
      " \n",
      "\n",
      "\n",
      "i am cheerful, energetic, and caring. i laugh easily, and smile often. i am passionate, physical, direct, and sincere.  now i have to accept the limitation of describing myself and then knowing that your mind will interpret my description in it's own way, not necessarily my way. but i guess as long as you like your interpretation, it's fine, because i will interpret your opinion of it from my perspective. ideally we would understand each other's perspective. but i guess there is no real way to know what the other person means ever. and less so in the dating profile of a stranger.  now you have probably interpreted me as philosophical or pessimistic. i am definitely not pessimistic and i am only on occasion philosophical. in this case i was going on and on only because a dating profile represents only a tiny percentage of a person, provided, of course, the questions are at least answered.    i am not, into, and catch phrases \n",
      "\n",
      "\n",
      "well the best summary is that i am looking for love in all of the electronic places. i would love to meet someone who is looking for something that will lead to marriage. i want to grow old with someone and watch the sun set at ocean beach \n",
      "\n",
      "\n",
      "why did i use my initials and last name rather than a catchy moniker? simple! it's authentic.    but enough about that! i love to know all about other people, but i'm supposed to be telling you about me in here!    as a   and  , i am primarily  artistic , complete with the artist's need to express meaning, but i also have a scientific/logical side that mainly manifests itself through some of my reading on such things as astronomy and seismology - that and the seven years i spent building and maintaining web sites. i am also very  spiritual , not in the absolute, dogmatic sense - my syncretic beliefs take care of that nicely - but in the sense that i believe in divinity and someone bigger than me who i like to call god.    as for what i am looking for, well, let's just say i don't want a fling. a fling does nothing for me because there's no love in it. the love has to be there, or at least, it does for me.    i am also not looking to get married tomorrow. i'm a little crazy, but not that crazy. :)    i would like to start out just talking. it's best to take things a step at a time. there's no rush. ;) besides, there's lots of fascinating things for people to discover about each other if they take the time to get to know each other. like i said, i'm all about meaning. \n",
      "\n",
      "\n",
      "i am an energetic, enthusiastic, passionate, courageous and driven  individual. characterwise i think others would say i'm very honest,  and loyal. i am a true friend and a true helper. i take pride in a  job well done and i love trying new things. i like people around me  who are driven and focus but excited to be living life. it  motivates me to always put my best foot forward. i have had my own  share of life experiences, and i truly believe that whether good or  bad they help make you who you are right now. \n",
      "\n",
      "\n",
      "i'm a newbie at this, no flashy text about me at the moment, just eager to see the gentlemen on here \n",
      "\n",
      "\n",
      "none of this is accurate anymore. and i don't really care.    why is this my job? you figure it out. \n",
      "\n",
      "\n",
      "i grew up in cupertino, went to new jersey for college, and now i'm back here. \n",
      "\n",
      "\n",
      "i'm a xenophile, and love learning. i also feel it is important to be adding value to the world. a few years ago i spent a year in taiwan just learning chinese. i also spent 5 years volunteering one full day a week with a local charity. i like going to, or watching, interesting lectures and talks, especially about other parts of the world.    these days, i ballroom dance, grow plants, and am taking a couple yoga classes. i like some adventure, but that's best with other people.    my friends say i'm a good listener, and that's convenient because i like talking with people and discussing their lives and what they're doing with them. \n",
      "\n",
      "\n",
      "born and raised in san francisco. likes free tacos. this is so hard. \n",
      "\n",
      "\n",
      "who reads this part? \n",
      "\n",
      "\n",
      " \n",
      "\n",
      "\n",
      "i'm peruvian. i like to cook, dance, and do some outdoor activities. \n",
      "\n",
      "\n",
      " ,  pizza ,  photography ,  art ,  twitter ,  music , and more. oh noes, a minimum of 100, not a max of 140! ok...working on 'sandcastles', an idea that we all build them, and if we let go, time will wash them away.but...will you let go? i have to lay down my own beats, play my own strings, self produce my stuff. i have my own 'glass wall' to deal with. thoughts on a rainy day. maybe time to pull every miles davis recording i have up in itunes and just let it play. at least the neighborhood rooster shut up. rain, rain go away, or rain, rain come and stay? i am not a fan of this font. is this good 'snuggle' weather? if i had a fireplace, would it be a 'spare-the-air' day? just how can i lay down a beat at 2:45am? ...nothingness... stream of consciousness... boring... next. i will laugh at your bad photos, and especially if you have an animal that has 'red eye'. that means it's *evil*! buahahahahaha yes i need to play with my cam more. and my new cell phone. and i need a new flat screen tv, so i can play with that too.    yes, i fix things, and build things, and design things. learning the features of my new cell phone. yes, i *do* read the owner's manual.    oh...now it's 1000 words! what, about how much i hate forced writing? there's no word counter on the page either! i'll give the interface a 'fail' on that. (beta tester mode engage!) that's why i like a quick, to-the-point kind of exchange. too much can get lost/misinterpreted when things get all wordy.    why is this all pink, when i'm male? shouldn't it be bluer?    wait, what?? they changed it? i'm supposed to have a shirtless picture too?? wtf? nobody tells me these things.    i am smart, creative, and wise \n",
      "\n",
      "\n",
      "my passion is food! i like to cook and eat:p..,i work in a busy restaurant. when i'm off i try to spend time with my family or friends.  update- i will be taking a vacation from okcupid. later! \n",
      "\n",
      "\n",
      "wow. this profile is really out of date. that's probably because i met someone oh say three years ago, so i'm not trying to date anyone... just sitting up in here with my fiance taking care of business on the day to day. i did, however, write a novel. \n",
      "\n",
      "\n",
      "i try and indulge completely in every activity i do(work, hobbies and relationships.) \n",
      "\n",
      "\n",
      "hmm... my self-summary? well, one time i got punched in the face in bratislava at a beatles cover-band concert. just imagine a guy getting sucker-punched by a drunk slovakian during a mediocre rendition of \"love me do\" and that's pretty much me.    i've also done some interesting things like studying math in budapest and working for the un in kigali. i even have some good answers when people ask about my dumbest scars during ice breakers. well, maybe not some \"good\" answers. but, some answers.    speaking of which, never bike down a flight of stairs. even though it's technically a race, everyone loses.    recent stanford graduate (b.s. '09, m.s. '10), current apple employee.    i'm originally from cleveland-- i alternately defend and make fun of that city. i used to row crew on the cuyahoga river, which (fun fact!) was so polluted that it caught *fire* a few times. like, fire as in \"the opposite of water.\" the strong scent of lemon cleaner meant that we were nearing a large straightaway. i tried to get us a team award for \"most braincells lost in a non-contact sport\" but our coach wasn't quite on board with that idea.    i eat an unreasonable amount of hummus. i spend way too much time in or discussing trader joe's (pro tip: their pulled pork is surprisingly good! oh no, i'm doing it again...). i listen to a lot of npr. my left foot is a half size bigger than my right, and i have a funny dialogue prepared for when i'm in a shoe store and they point that out like it's the first time anyone has told me.    but enough about me....    ...oh wait, no. this is apparently just the first section. so, more about me, i guess. \n",
      "\n",
      "\n",
      "carpe diem \n",
      "\n",
      "\n",
      "for the past year i've been gypsying up, down, and around the west coast, going though a major transitional time, and learning a lot of new stuff. now i'm preparing to land in sf for a while and go to school, which is super exciting. \n",
      "\n",
      "\n",
      "i very much so enjoy organizing things into orthogonal, rainbow order during calculated procrastination sessions. in my free time, i'm a fan of b-movie marathons, potluck dinners, massive games of mafia, calvin and hobbes style snow sculptures, and this american life. i enjoy games of taboo in which the phrase new york, toroidal' is used. also, i have been told that i have a very contagious giggle. consider yourself warned. \n",
      "\n",
      "\n",
      "i'm an artist and entrepreneur. a natural philosopher best describes my disposition...i love exploring our universe. i'm interviewing muses, seeking womanlovesart. humor balanced with conscious living is my personal crest. i've created in just about every medium, but have been very focused with one for several years.and now exploring new directions. very exciting! i have solid lifelong friendships, have set foot on 6 continents, and love both social and meditative/creative times. my family/friends are a great tribe. life is wonderful. mindfulness is my main focus in all areas of life.    i am insightful, humorous, delicious and genuinely interested in being in a beautiful deep committed relationship.    . \n",
      "\n",
      "\n",
      "i'm a nerd. just putting it right out there. i work with engineers and developers and mostly love it (though sometimes i long for less tech talk), i follow politics, i read (a lot), and i break out the sat words on a pretty regular basis. however, i'm no homebody either--while i admit to having watched all of battlestar galactica, i also enjoy cultural activities (wine tasting, museuming, shows). i like staying physically active and am into cycling, partner dancing, and hiking. i enjoy travel, but i love coming home at the end of a trip.    random facts:    i've never lived more than four years in one place before. ever. 6 states, 3 countries (including this one). the bay area may be the first to make it to 5.    i can almost never remember the names of songs, singers, actors etc...people ask me anyways, because i tend to remember lots of other things...and they always seem a bit disappointed when i can't recall them.    john adams is my favorite president. yes, i have a favorite president.    i fervently believe real martinis are made with gin. \n",
      "\n",
      "\n",
      "im a kinda person lol alittle dorky at times hahaha xd but im always fun to be around. i like doing anything new or anything fun i love to draw pretty much all art lol . i love forensics , investigation ,, i love music . im a hard worker and i try and appreciate the little things in life .    .................i am outgoing, fun to be around, and spontaneous and i believe that life is a never ending cycle of change , growth , and learining \n",
      "\n",
      "\n",
      "my eyes are always open for like-minded travelers, fellow adventurers and troublemakers; individuals who inspire action and thought; people who spread laughter in their wake.    i do not know what i am looking for these days in a concrete manner, but being inspired and challenged are high on the list of experiences i find myself seeking out, as are adventures, good food with good people and crazy spontaneity.    i generally eschew labels as a mechanism of explaining who i am. with that caveat, i've been aptly labeled as  poly ,  tattooed ,  kinky ,  progressive ,  queer ,  female ,  curvy ,  pierced   burner  and  freak . there's pride in each of those, but they are far from a sum of who i am.    i'm a walking contradiction. i like that.    i relocated from boston to the bay area coming up on two years ago. it continues to be a hell of a journey.    i am sparkly, adventurous, and fond of trouble. \n",
      "\n",
      "\n",
      "i'm a southern girl from tennesse who moved to new york city and ended up in san francisco last year for work. i love my job, my friends, my family and the simple things in life! i'm smart, caring and will almost always have a smile on my face! i'm a little sarcastic and am willing to try most things at least once! \n",
      "\n",
      "\n",
      "i love living in the bay area, my heart will always be here. i enjoy taking advantage of all the beauty that the east bay has to offer. i own a barbershop in downtown walnut creek, because of the long hours i have very little time to go out to meet people. some of my favorite things are music, eating out, cooking and enjoying my down time. \n",
      "\n",
      "\n",
      "i'm a happy, funny, reasonably intellgigent person now sampling the world of computer dating. i have a good job and stable life, good family and friends, and two dogs who don't quite fit into the category of good. i like to hike, love to putter in my house and yard, and i ride a motorbike, but not quite as much as i did before acquiring the two dogs. \n",
      "\n",
      "\n",
      "open minded individual with an artistic side to me, i enjoy trying new things, and seeing new places.. specially love to try new foods \n",
      "\n",
      "\n",
      "i moved here from brooklyn in august and am trying to meet some people who will help the best coast live up to its name.    if you like to make people laugh, drink whiskey, can complete a monday nytimes crossword puzzle, and aren't easily offended, we will probably get along. \n",
      "\n",
      "\n",
      "i grew up in san francisco. after five years of living in the northeast and in the south. i have moved back to sf. i like nice people! \n",
      "\n",
      "\n",
      "i work in a big tall office downtown surrounded by start up companies where everyone looks like they are 15 years old and they play foosball all day. my office is not like this. i just finished an mfa in creative writing and i do marketing/editing/coordinating for an urban planning firm, and i may teach writing some more. i have had a lot of strange and unusual jobs (bet you couldn't even guess!) and this is the most normal one yet. i am a busy girl but i love weekends and daytimes and bikerides and draq queens and singing karaoke and drinking mimosas on porches and dressing up and eating oysters. i usually say inappropriate things to people, but something about my delivery sells it, and they take it pretty well. i don't really like calling myself bisexual, rather, i prefer queer. the way british people would say, \"my that woman is rather queer, isn't she?\" i have dated mostly men, i should say, but i do like the ladies. i cuss like a sailor. i scream when i sneeze, it runs in the family. i just cut my hair shorter than in these pics here, and i am not sure i like it, but everyone keeps telling me i look cute so i guess i do. i just rejoined okcupid, although i was a member about three years back. i am from san diego (ocean beach). i like singing into microphones. i used to carry a harmonica everywhere i went and then for some reason i stopped doing this. i like writing stories and reading books. i listen to npr and podcasts all the time. i love san francisco but sometimes i think about running off and living in a little town, in a little shack by the ocean, where everyone knows everyone and all there is to do is look wistfully at things and talk about so and so and how they just bought a new lawnmower. most of my dreams are about water and swimming and sometimes about being a sultry nightclub singer in a sparkly dress, who leans on a piano. that is the best dream ever. \n",
      "\n",
      "\n",
      " \n",
      "\n",
      "\n",
      " \n",
      "\n",
      "\n",
      "my friends and anyone who gets to know me even a little bit, say i am crazy, in a good way of course. i love to laugh and in general have a good time. i am laid back, easy going, and more than willing to try anything @ least once. i am not really a picky person and because i am a libra, i have a bit o' trouble making decisions (i think). but once i am set on something i am set.    i am always singing and will come up with a lyric/line from a song based off of any ole' word, for no good reason other than just because...you have been warned \n",
      "\n",
      "\n",
      "\"i am\" a  musician !!i play the trumpet, and went to school for  classical  and  jazz  music, now i play/record a hybrid of jazz/ classical/singer songwriter/experimental music. if you are a musician, we should play music together !  i am currently going to school for ecology/conservation biology, since i wanted to take my love for the natural world and find a way to work on preserving it, and now that i am not in school for music anymore, i can play the trumpet on my own time more often.  i looove to travel, and i have been  hitch hiking  all through the us, and traveled outside the states as well. i also love learning new ways to experience, feel, think about, analyze and laugh about existence in general. humour is one of my favorite pastimes, and i love finding new ways to make myself and others crack up! i love to feel, think, read, explore, hitch hike, create awesome music and learn every day, constantly finding new ways to stimulate myself. i enjoy indulging in many aspects of our human tendencies, being in-depth and thoughtful one moment, then playful, goofy and ridiculous the next (this is essential for all of us). if you spoke with any of my friends, i think that they would probably describe me as \"genuine\". i am also pleased to say that two friends of mine once told me that the best conversation they ever had was with me!(ego currently inflating like balloon) ;)    i am genuine, creative, and an alien, like you! \n",
      "\n",
      "\n",
      " \n",
      "\n",
      "\n",
      "i've been making guacamole since i was three so i pretty much have that down. actually, if you don't like avocados, you should probably just move on. ;)    i grew up in the east bay and lived in the same house until i was 18. (my mom still lives there.) i went to the university of colorado where i decided to go to culinary school in sf when i was done there.    i've been living in the city for about 6 years and always find something new and fun about it. i love to take walks and find new places, try new restaurants, and find awesome views. i've recently been more into hiking and trying new, fun ways to be active and outdoors. i am fun, very honest, smart, and loyal. i am easy to get along with and really like to have a sense of humor about most things.    i am looking for a guy who also has a great sense of humor and loves to laugh. intelligence is very important to me; and very sexy. i tend to like men who are science-oriented, affectionate, creative, romantic and devastatingly handsome. ;) \n",
      "\n",
      "\n",
      "desperately picky, self-assured, self-deprecating, stubbornly  indecisive, oxymoron seeks soul mate.. \n",
      "\n",
      "\n",
      "long auburn hair and intense blue eyes coupled with a feisty and humorous outlook would describe me at first glance. this past summer, i left nyc to venture west.    three things i noticed immediately: the dynamic skies, the way the light sticks to the hills and the fact that if you breath deeply enough, you can get a contact high before 9 am.    i'm an incurable book worm, a photographer and a novelist in the making. i 'd like to think i gulp life, rather than sip it. by day, i'm an an online/tv producer specializing in tech and business news for a national news outlet. i've wanted to be a journalist since i was twelve, so i consider myself extremely lucky to be able to tell stories that impact our world.    so who am i looking for? someone who has a natural curiosity about life and takes the time to appreciate the small moments. 'cuz they can be beautiful. \n",
      "\n",
      "\n",
      "my name is dexter, i'm from la, i went to school back east, and i'm a new resident of the bay area, mixtape yeah yeah yeah.    i am ifs, ands, and butttttts \n",
      "\n",
      "\n",
      "i grew up in california's central valley. loved growing up there and love to see my family when i visit, but there's a draw to the bay that i can't resist.    i want to meet someone who gets out and about when the sun is shining, knows how to enjoy a beer staring at a fire with good company and doesn't mind busting a move when the right music is in the air (or enough liquid courage is flowing through the veins).    i love cooking and miss my cat butters (and even his evil sister margarine). \n",
      "\n",
      "\n",
      "i grew up on the east coast. a few years back decided i was done with hot, humid summers. san francisco was a pretty easy choice.    a few things about me:  - introvert with social skills  - i don't own a car.  - just bought my own home.  - i am in the best shape of my life right now.  - i've been swing dancing since 2004.  - i love travelling, but prefer to have a travel companion for longer trips.  - i make my own tonic water.  - i'm in a bourbon of the month club.  - i go through slightly obsessive phases with my interests. as a result i'm a bit of a walking encyclopedia.  - i've been reading quite a bit lately, kindle + train/bus commute = lots of reading.  - i try not to take myself too seriously.    what i'm looking for:  - looking for someone to explore the city and surrounding areas with.  - someone to go on a bike ride or hike with  - someone to get brunch/coffee/drinks/dinner with  - i'm a sucker for warm bubbly people, i have a tendency to reflect  - someone who can draw me out of my naturally introverted state (it's not that hard i swear!)  - someone who doesn't mind me rambling on about something that i find interesting and wants to share  - someone who wants to show me something new, get me a little out of my normal comfort zone.  - someone who's not getting ready to apply to grad school. i've done the long distance thing, i don't regret doing it but don't really want to again.  - i'm a monogamous person by nature. i'm seeking that in anything long term. \n",
      "\n",
      "\n",
      "i'm a living wall of contradictions:    i'm the most extroverted introvert you will ever meet; i am the most introverted extrovert you will never meet.    i have more money than god; there is no god.    i'm smart enough to know the odds are stacked against me; i'm dumb enough to keep on trying.    i'm a very confident person; in a very self-deprecating kind of way.    i know the difference between your and you're; i abuse semicolons, and commas.    i'm a beautiful, unique snowflake; melted and manufactured into a generic ice cube.    i think i'm clever and thoughtful; wtf did i just write.    i have a okcupid profile; i'm not really looking for a date. although, new friends outside of work would be cool.    i sometimes take concepts / jokes way too far and don't give up; alright enough of this crap. \n",
      "\n",
      "\n",
      " \n",
      "\n",
      "\n",
      "raised in new york, college in maryland, heart has always belonged to california. i'm always honest and as a result always assume everyone else is too. i love to build things-- i went to school for architecture, and design is definitely a huge part of my life. i'm wildly passionate about the things i care about. i like interesting things and people, and i'm always down for an adventure. and i love julie andrews... that is baggage you'll have to deal with. \n",
      "\n",
      "\n",
      "im 26 years old im white/latin from san francisco and im basically a laid back guy. i dont like going out to bars/clubs but still like to have fun. i love sports, videogames, anime, movies, cooking and staying in shape \n",
      "\n",
      "\n",
      "i resently moved back to cali after 8 years in oklahoma. i love the outdoors long walks, hiking, sprinting, rock climbing, paintball, soccer and rollerblading. i actually play a sport called rollersoccer yes it's exactly what it sounds like and is crazy fun and keeps you in shape. i more or less just want people to talk too and maybe connect with. \n",
      "\n",
      "\n",
      "\"hero time\" is a little inside joke among my friends...it describes the idea of just going for it, having fun, or being spontaneous. for example it could refer to the situations when there's one extra beer or an extra slice of pizza left...you don't want to waste it, so someone has to step up to the plate, hungry or not...hero time! or it means, looking at the person next to you and saying, let's bike out randomly to a random food place for lunch...and come back 5 hours later after a random field trip. it's really all in good fun. another good example of that is the  iron stomach triathlon , which i'll talk about later. finally, also really enjoy food/cooking (which you'll hear more about as you continue on) so hero time became \"herothyme\", especially because i love things in sandwich form.    i'm a straightforward, laid-back, and down-to-earth type of person. i try to enjoy life with my friends and family, learn and try new things and experiences, and be a decent human being. i tend not to want to talk about myself, but i'm basically an open audiobook if someone asks something. at the end of the day, i hope people would describe be as 'trustworthy, loyal, and helpful'. \n",
      "\n",
      "\n",
      " \n",
      "\n",
      "\n",
      "i'm an aspiring writer/illustrator, freelance graphic designer and perpetual student. creative endeavors are my main source of fulfillment. problem solving is my favorite game. if i go too long without exercise i get grumpy.    i'm a closet geek. i'll quote star wars so subtly, you'll doubt it was even a reference. \n",
      "\n",
      "\n",
      "23 year old guy in s.f looking to date or hang out. i don't have pictures on here but i can send you one no problem. \n",
      "\n",
      "\n",
      "i'm good-natured introvert; smart, inquisitive, sweet, funny. delivered by stork to illinois where i lived out my first 19 years. this must have been some kind of routing error because the bay area is where i have always felt at home.    i'm only interested in non-exclusive/polyamorous/open relationships. this has been the case for me for about a year, and a change i feel positively about.    my interests include humor, music, science, the social   behavioral sciences, visual arts, and, of course, fuzz pedals. i studied politics and economics in school, loved learning about them, but don't use them much these dayswonderful, useless liberal arts educations.    i seek personal growth and a better understanding of myself, others, and the universe and everything. but, i've had to give up on supernatural explanations for why things happen, as they really aren't very good.    i like plenty of communication in my relationships. i try to do my part by taking responsibility for knowing and expressing my own feelings and wants. of course that's an ideal that's often easier said than done, so for me, a good relationship is also characterized by trust in each other's patience, openness and good intentions so that we can feel safe to make mistakes sometimes, change our minds when we want to, and take time when necessary to understand unfamiliar or complex aspects of ourselves and each other.    i'm not old fashioned in my view of gender based norms--how a woman or man is supposed to feel, think or behave, in general and in relation to each other. i'm looking for relationships where people are trying to see each other for who they uniquely are. on the contrary, it seems to me, that norms seek to wall us off from parts of ourselves that don't match the roles we're expected to fill.    my general understanding of gender (whatever the hell it may be) is that it's a real phenomenon, expressed uniquely in all of us, influenced by both nature and nurture, and possibly changeable over time. i've never enjoyed feeling my options for simply being in this society are constrained some one size fits all standard of how \"real\" men are supposed to be. so i try to let myself be myself and allow the same freedom to people in my life. this is who i am, what i offer, and who i seek. word. ; ) \n",
      "\n",
      "\n",
      "i don't believe happiness is a destination  it's a method of life.    i wasn't born with a golden spoon in my mouth. i can get my hands dirty. i'm a very hard worker. and fortunately, i don't have many foes. i'm independent - i travel abroad solo - but sharing the daily intricacies of life with someone who complements me, will make things sweeter. i'm strong. yet i'm fragile. i'm witty. yet i'm corny. i'm intelligent. yet i've got a boatload to learn.    a few of my favorite places outside of our city include: lake monticello, paris, barboursville, clemson, lake hartwell, the lincoln memorial and belize. \n",
      "\n",
      "\n",
      "i'm a native of the bay area who has traveled and lived other places and can fully appreciate living where i do. i value having good family and friends around me who make life so much better. i'm committed to my work but also to having lots of time to relax, too.    while i'm done with all my formal education, i still like to learn new things by taking a dance class or visiting an art or science exhibit. i like to keep up with current events and am currently engrossed in watching how dysfunctional our political system can be. my politics lean left, so hopefully yours does, too.    in my free time, i enjoy exploring different hiking trails, especially ones with shady redwoods like big basin or expansive views like mt tam. i like to try all kinds of ethnic restaurants from burmese to ethiopian. i'm also learning how to lindy hop, reading books, and catching films at local film festivals.    the kind of guy i'm looking for is ideally kind, smart, can tell funny jokes or at least laugh at mine, likes the outdoors, and challenges himself in different aspects of his life, i would like to meet someone who is also looking for something long term. \n",
      "\n",
      "\n",
      "i'm a junky: technology, activism, politics, twitter, music, dancing... i'm addicted to them all.    i like laughing and smiling, people don't do it enough. kind of like dancing. more of all three should be done.    i am very spontaneous and do what ever pops into my mind, doesn't always serve me well but it's good fun!    i don't really do things in a half-assed manner, i like big, i like challenges, and i like knowing at the end of the day that it was all worth it.    friends are a *huge* part of my life and are spread out all over this world so adventures are always on the horizon.    i work with a lot of amazing organizations on a lot of weird (but fun!) things.    i believe we can all change the world.    i am not a huge fan of making declarative statements about myself.    \"smart had one good idea and it was stupid.\" \n",
      "\n",
      "\n",
      "hey i'm a pretty outgoing free thinking irish blooded male who enjoys life without the wants of materials. i grew up on long island, ny. i'm a music freak(play guitar) and enjoy working out my cardio, i'm comin for ur record usain bolt. i like my beer like my women, spicy toned, full bodied with a little bit of head. i like having money don't get me wrong, but finding enjoyment without it is just so good. my 2 favorite things in a girl are eyes and my reflection in them, o ya and if u say ur american(race) and don't give a **** about ur roots i will be turned off ten fold. im 420 and drink, but also like to keep a clear head. born to win. this profile could go on awhile. ok i'm over this no mas. update, captains log star date idk, well the site was all like ur a sociopath if u dont have happy, sad, moody, excited, scary faces in pics, i was all like this has to be rectified immediately and yes my shirts off cause its hot, take off ur shirt save a polar bear!, message me or dont, its watever. this profile is sponsored by jamesons irish whiskey \n",
      "\n",
      "\n",
      " \n",
      "\n",
      "\n",
      "subject is healthy california lifestyle refurbished 82' model leprechaun featuring silky smooth  irish  brogue, a premium audio system and comfortable steering wheel (cruise control is an optional extra). fuel efficient hybrid engine, takes both raw vegan and \"normal\" food.   enabled with good off road capabilities,  yoga  enriched suspension, loves driving in all conditions,   rack available upon request. comes fully equipped with a warped sense of   and a strong desire to make you smile. a real pleasure to drive.    unfortunately this model does not come with the optional  bay area  vocabulary recognition system. phrases such as hella, beezy or hyphy may provoke sarcastic remarks or equally unintelligible hibernian slang spoken in some indecipherable paddy  accent    as a bonus this unit features an extensive in built audio  book  library covering a wide range of conversation provoking topics from  film noir  to pop culture, early twentieth century literature, music, philosophy, anything  russian , technology, ontology and various cookery opinion pieces on the finer points of french cuisine.    the perfect fun ride to maneuver round chic  san francisco  areas skipping from one chill venue to the next.    i am incorrigible, inspiring, and positive \n",
      "\n",
      "\n",
      "[fyi: got hitched in august 2010 to my ok cupid gent. it's awesomesauce!]    [previous fyi: i have been in a relationship (with someone i met on ok cupid) for two years. we recently got engaged, so i'm not married yet, but i am definitely no longer seeking suitors. i'm leaving the profile up, partially to show friends when i'm pimping okc to them when they're considering a dating site. good luck, all!]    i'm  , but in a good way. i'm sweet and smart, but also can be a (sweet) punk. i am committed to working to improve my urban community, but am pretty durned   about what i can do. i am comfortable being the weirdo amongst muggles, or the muggle amongst the even weirdo-er. i am a city-lover, who enjoys visiting the country. i once got my boss to agree to let me write a staff report as a choose your own adventure.    as of this summer, i am recently single after a very long relationship, and seeking a bit of warmth and connection again. eventually i see myself in another ltr, but that's not quite where i am right now.    i am generally happy with myself, though i'm capable of great joy and great sorrow.    i love surveys and questionnaires, and was sad in 2000 when i didn't receive the long form census survey. so if you think we might hit it off (in any sense of the phrase), give a yell, and save me from my survey-taking self. ;)    i am well-balanced, nutty, and compelling \n",
      "\n",
      "\n",
      "las vegas to usc to san francisco and loving every minute of it.    if you were trying to take me on a great date it would include a delicious restaurant, a witty conversation (doesn't need to be about global politics...just anything fun) and something different you like to do. \n",
      "\n",
      "\n",
      "my name is alexis,  i'm a student, my major is philosophy. people tell me i'm a little woody allen minus the jewish man part...  i have a lot of free time so it would be awesome to meet some new people. \n",
      "\n",
      "\n",
      " \n",
      "\n",
      "\n",
      "i'm from south america, chile and i've been living in the states for around 6 to 7 years now, and from those 7 i've been in the sf for almost 4 years and i love this city! i'm a very outgoing person, open-minded, easy going, i like to do stuff i guess you could say that i got too much energy sometimes. i love sports, playing soccer, tennis, biking, hiking, etc you name it! i will bring it.    i love photography, being outdoor, animals, traveling which i've been very lucky to be in different places meeting people and their culture.    i like dancing ... \n",
      "\n",
      "\n",
      "i'm a struggling musician with a stupid job and plans to head back to college this fall. i'm currently in two bands based in san francisco: outlaws   preachers and plastic villains. \n",
      "\n",
      "\n",
      " \n",
      "\n",
      "\n",
      "hola ladies!! i have a very fun flirty personalty. i enjoy my life and always enjoy the positive things. i am very outgoing and like meeting new and fun people. i'm always striking up conversations wherever i go. i have a quirky side and a serious one as well. this is my first time using dating site soo let see how it goes.. \n",
      "\n",
      "\n",
      "i work in the theatre with a bunch of weird people, and have come to expect a certain quota of weirdness in my life. my career is really important to me, it's where i feel at home, and where i find my family. i'm far too mature and responsible for my own good. but when i'm tired of being that i become something else entirely (we're talking speaking with inanimate objects, giggling like an imbecile over anything, making friends with insects, you know a normal tuesday). i don't do anything half-way, and i don't much care for societal expectations, but i don't wear that on my sleeve or in my hair (wait, does having half of a mohawk count as wearing it in your hair? if it does then i may have to update this statement...]. as careful and measured as i am, when i feel strongly about something there is not enough better judgment in the world that could stop me. i believe very strongly that adults have fallen behind in the art of the sleepover (the non-sexual kind), and that the magic of sleep deprivation and soul-baring conversations never loses it power. probably why i do theatre...which is kind of like a giant stressful sleepover...that lasts for weeks and creates art. the ability to continually learn and grow is one of the most important things to me.    i don't get embarrassed; i'm ridiculously secure in who i am, or just really fucking stubborn, depending on how you want to see it. i'm partial to commas, but i'll give it all up for a good semi-colon. i curse like a sailor, and make everything into a dirty joke: especially at work. accommodation should be my middle name; but if you tell me what to do, i'll probably do the opposite. i am of non-binary gender [some folks might say gender-variant, genderqueer, or something to that effect.] honestly, i don't have a label; i'm just not female, but i'm quite happy with my self and my body as they are. i can be too nice for my own good, but i'm getting better. i absolutely love my life and prefer to be around people who feel the same.    i am intelligent, passionate, and silly. \n",
      "\n",
      "\n",
      "easy-going / laid back / optimistic / let's figure it out together :) \n",
      "\n",
      "\n",
      "how you doing ladys? i'm 20, self employed, and here to have fun! i'm a very entergetic person looking for that special someone. i love to go out dancing, skydiving, or just about anything that bring me addernalin! i love to travel and lived in panama for six months then traveld europe for a month! i was just recently on t.v. (jerry springer!!) so stay tuned ;) \n",
      "\n",
      "\n",
      " , music obsessive,  skateboarder ,  photographer  (digital and film),   (vinyl and digital),   nerd,  ,   of fake rocks, reader of  books , fan of and maker of  art , haver of  fun times    and owner of a   with a  heart-shaped nose  (yes, named danger).    also: \"more arrogant\" and \"worse mannered\"? you don't understand me at all, okc. i thought we knew each other. \n",
      "\n",
      "\n",
      "\"live as if you were to die tomorrow. learn as if you were to live forever.\"  - mahatma gandhi    i'm a artist - writer - film-maker originally from the east coast but i've lived in california since 1993. i tried los angeles for about eight years but it wasn't my style so i moved back to the bay area with its great people, spectacular food and truly amazing fog. i'm fun-loving, adventurous, honest to a fault, laugh often (if not always), creative, hard working and dedicated. my sense of humor ranges from childish (gotta love a good fart joke) to sarcastic and everything in between. being a german/irish mutt i've been told i have the gift of the gab, meaning i usually have something to say about everything. i have an opinion on pretty much anything and it's almost always either love or hate of the subject. i try to let everyone know exactly how i feel all the time and don't waste time beating around the bush. life's too short to bs each other over things that usually end up being trivial in the end. i have a ferocious loyalty to those i love and would do anything for the my people. \n",
      "\n",
      "\n",
      "everybody percieves me as \"different\"--i am a foreigner coming from israel. i have lived in this country for 9 years, and i have gone through many adventures in my life, good and bad. i love to see the best qualities in people i associate myself with. i love to be challenged by different concepts, i love analyzing literary works. for my self, i love challenging other people's standpoints in life. i am a very intricate and a complex human being. i am very meticulous in details and am a very scholastic person. i like perfections and get upset and disappointed when i don't follow through with tasks or other things to perfection. it is very hard to forgive myself at times.    i also have a high system of values--they are often challenged, but i try to be tolerant and compassionate towards people. i am highly sophisticated and phylosophical. love class, elegance, and definitely intelligence. however, i am very critical of my surroundings at the same time. so watch out...if you could put up with me, maybe it's your luck...    oh yeah, and one other detail that i cannot include in my details. i am a jew for jesus. let me tell you what that means, it means that i wholeheartedly believe that jesus is my salvation, god's only begotten son, who has died on the cross for our sins and offers salvation for absolutely no cost to you. i have strong jewish upbringings, and yes, i believe that jesus is the one and only. i have overwhelming experience that has proved that he is the one and only. jesus is the god, trinity in one.    if you don't understand how it works, you better start exploring, because he would eventually lead you to an understanding if you would be open to exploring it. go to church, get the new testament, and read. the old testament has overwhelming details of jesus's coming and he will be coming back soon and judge the world. the old testament is the new testament concealed and the new testament is the old testament revealed.    however, he is waiting on you to start exploring him. do not start telling me that i am religious. religion and spirituality are two different things. spirituality deals with the person's heart and mind, religion is twisted, added, subtracted, misinterpreted by men, who are decieved by satan. satan is real, and if you don't have jesus, you are very vulnerable to satan's decieving you, which makes you sin and inobedient to god's will. god has prepared a plan for all of us, and we need to trust only him, which is god (jesus). he will protect you from all evil, but first, you must internalize jesus in your heart and mind and develop an intimate loving relationship with god, which yes, you can develop. start asking questions, start asking why things happen to you, start exploring your surroundings, and start wondering about god.    i pray that he would draw you close to himself just as he drew me.    love you all in the name of our lord, our only massiah. \n",
      "\n",
      "\n",
      " \n",
      "\n",
      "\n",
      "hello, ladies and gentlemen. it must be exhausting sorting through the legion of 6 foot tall square-jawed phd millionaire kung-fu yoga instructors with a pilot's license at your disposal.    lucky you, you've picked the poorly shaven underachiever with one foot in cube land and one foot on everest. i still can't decide whether i want to drink and bellow with my friends all night, or wake early and train to rule the world. i believe i might be coming to a place in life where the former seems rational, while the latter seems delusional. \n",
      "\n",
      "\n",
      "i'm a nice guy who loves animals and the environment. i like npr, president obama, michael moore, and the rights of gays and lesbians to marry. i like a simple life with no drama. i used to like my cup of coffee in the morning, but i recently gave that up. \n",
      "\n",
      "\n",
      "when i was a kid, i read a lot of calvin and hobbes, lord of the rings, and nancy drew. i wanted to be, respectively: hobbes, legolas (or maybe aragorn, it was sort of a toss-up), and george. \n",
      "\n",
      "\n",
      "i've been back in the bay area for about a year now after spending the last 5 years either studying in or travelling to hawaii, england, ireland, new york, oregon, or wherever else my wanderlust seems to take me. this does not mean that my travels are over or that i am on the downward spiral to becoming a hoarder. it simply means that i have re-established my base in sf and no longer have to sleep on friends' couches. having grown up in the country, i love the excitement of city life and being able to go out, see bands, and meet new people, all of which are difficult to do when cows outnumber people in your neighborhood. i also enjoy the occasional excursion into the wild, and am just as happy spending a long weekend in vegas as i am with camping in crater lake. that might sound a bit noncommittal or as though i am attempting to cover all bases but it is, in fact, true. obviously i am a complex individual. haha! \n",
      "\n",
      "\n",
      "i once came across a quote by mary lou kownacki that captures my philosophy of people: \"there isn't anyone you couldn't love once you've heard their story.\" i believe every individual has a unique perspective, and admirable qualities that i strive to discover.    i believe strongly in embracing the diversity of people and the individual's limitless potential. i reject attempts to categorize both people and relationships, and i don't take kindly to people who oversimplify and enforce stereotypes on others. i've dated men, women, androgynous people, transsexuals, asexuals, and multiples, and i'm always looking to get to know new people and learn what makes them special.    i'm bisexual (pansexual, really) and  polyamorous  ( poly ). for the uninitiated,  polyamory  means that i have multiple concurrent serious relationships, with everyone involved being fully informed. i have an existing partner who is a wonderful person but unfortunately lives far away (and i'm not giving them up for anyone).    i'm a philosophical materialist, but respect the spiritual beliefs of others. i'm patient, empathetic, respectful, and a good listener, and there isn't really anything that will shock me (think of that as a challenge if you like). also, i like  cranes  (the kind that build buildings) and  muffins . \n",
      "\n",
      "\n",
      "i'm from montana and moved to sf about 3.5 years ago. i like to think that i've kept a little bit of my rural sensibilities, but for the most part i've totally sold out and embraced san francisco. which i think is totally reasonable, because this place is amazing. \n",
      "\n",
      "\n",
      "i am a fun loving, outgoing and very passionate woman! i'm driven and enjoy giving myself challenges that will get me outside of my comfort zone.    beyond my passion for family and friends, i have a deep passion for travel and photography. every year, i travel to an exotic destination, like nepal and laos, where i can trek, especially in the mountains, and capture typical life scenes with my camera.    although i can't travel all the time, i'm fortunate to have a great job that affords me the opportunity to maintain a good work/life balance.    i'm looking for someone who knows how to enjoy life, likes to travel, and have fun--balanced with being responsible and reliable. if all this appeals to you, can you get me out of my comfort zone?!?    life is too short! carpe diem!    \n",
      "\n",
      "\n",
      "i love life stories and getting to know what makes people unique. long conversations about life, personal histories, and passions drive me. i'm empathetic and pretty darn open about myself (i will answer any question honestly or at least tell you why i can't answer it)--i try to elicit the same from others. i'm still not sure how i fit into the whole save the world thing but i'm working on it. i like laughing, tiger lilies, puns, cats, people who bike with helmets, sunshine, rain on car roofs, talking about feelings, and a whole bunch of other things. i share well and am excited and interested by the world.    i'm an east coast girl (philadelphia) but i've been living in san francisco for 4.5 years now. though i miss the seasons and my family, it's kinda nice to be somewhere where i can go hiking any time of the year and where most people are pretty sex positive. while it has its drawbacks, i do like the liberal bubble.    if you're a meyers-briggs fan (which i'm not, especially), i'm an enfp. also, the religion box doesn't allow multiple options, so to clarify: i'm religiously atheist, culturally jewish, and philosophically quaker. \n",
      "\n",
      "\n",
      "hey i'm a white kid that loves skating and weed :-) \n",
      "\n",
      "\n",
      "traveling in bali.  ------  i am energized by the search for ideas. i'm honest, less materialistic and not obsessive. i'm no saint but i value heart, kindness and compassion, really. my movie would be in color. the word \"retarded\" hasn't been expunged from my vocabulary yet, but it's on the to-do list. i can't wait until the next time i'm laughing out loud. sometimes you have to let your guard down to make a connection. \n",
      "\n",
      "\n",
      "i am a big dork. i like to have fun   i tend to be a very open book. i have a great sense of humor   can pretty much make anyone laugh. i listen very well but also can go very in depth with stories, questions, answers, etc.    absolutely love to cook, pretty much anything. never have enough time to do anything it seems like, but i always am making time to do things i want to do. i believe in having a good time with everything if possible.    love to be intrigued. \n",
      "\n",
      "\n",
      "i'm a huge nerd. well adjusted, independent, self-starter, go-getter, super sexy beast. i value things like honesty, being a good friend, being tolerant of differences. i have an open mind, but not so open that my brains fall out.    i'm also non-religious. sometimes people think that non-religious people don't have any morals. this is bigotry.    i don't play games, i don't pretend to be someone i'm not. what you see is what you get, and hopefully the same is true about you. \n",
      "\n",
      "\n",
      "like a lot of people on here, i have a tough time describing myself, so how's about a smorgasbord of info about me?  -i've been to every continent except antarctica and australia  -was born in nyc but i grew up in the bay area  -i love to write, and i'm happy my job allows me to do it  -i really enjoy company and being around people  -i'm big into bay area sports  -i friggin' love sandwiches  -there is no good burrito outside the mission except for taqueria castillito on church across from safeway and little chihuahua on divis/papalote on fulton (but that doesn't really count, we're talking dirty taqueria burritos)  -i'm working on a walking handstand, hence the picture  -i'm probably watching the wire right now \n",
      "\n",
      "\n",
      "i am open minded and very easy going. i like looking for fun and exciting adventure. i like rock climbing (im certified in rope rescue), hiking, kayaking, sailing, searching for hidden pirate treasure, or crashing on the couch watching netflix. \n",
      "\n",
      "\n",
      "this here is the hardest part of the profile thing.    so i might not naturally be the lifeoftheparty type--i'm more the observer who deftly inserts a rejoinder that leaves folks wetting themselves. in fact, i might go so far as to say that my ultimate (though subconscious) goal in group social situations is inducing a spit take.    but i've never been big on talking about myself--must be a midwesternism (and a definite handicap in job interviews). i tend to start out on the shy side, but with the right person i'm warm and open...an overall good human.    so i'm still looking. looking for the perfect everything. oh, i've got this image in my head of how it all looks--where nothing is too stuck in routine, but also not so whirlwind that there's no time to take a breath and relax once in a while.    i want to inspire and be inspired. comfort and be comforted. dare and be dared. \n",
      "\n",
      "\n",
      "here goes my biased analysis of myself that i write to sound objective while trying to appeal to the people of okcupid. xd    i'm a college student attending uc berkeley. i'm studying mechanical engineering and i love everything this campus has offered. i'm from ca and enjoy the liberal attitudes of the people i have met.    i enjoy walks outside in a garden or forest. it's very soothing. i'm also a bit of a geek and i enjoy science fiction novels and tv shows like the x files, doctor who, battlestar gallactica and torchwood. i also love those crappy, horror, b movies they play on the syfy channel. \n",
      "\n",
      "\n",
      "i was born.    and then:    the alarm rang for days  you could tell from conversations  i was waiting by the screen  i couldn't recognize my photograph    i was walking up the stairs  something moved in silence  i could feel his mind decaying  only inches away from me    please don't turn me off  i don't know what i'm doing outside  me and the telephone that never rings  if you were me, what would you do?    i am creative, witty, and passionate \n",
      "\n",
      "\n",
      "my name is christina.    i can write an essay how i think i am.    or    you can just email me and actually say and find out and form your own opinion  about me.    iem so awesomesauce!!!!!!!! \n",
      "\n",
      "\n",
      "happy. healthy. normal. doesn't take herself too seriously. takes life just seriously enough. will ski whenever and wherever. has a big, close family that she actually likes. isn't stressed, bitter or concerned that she hasn't met the right guy yet. spent many many years in nyc and loved it but is definitely a california girl. \n",
      "\n",
      "\n",
      "what up, okc compatriots!    details about me...    i'm inquisitive, confident, extroverted, compassionate and opinionated. i get really animated and passionate about many things - a place i love, a new dish, politics, something a student wrote or said that moved me. one friend has dubbed that quality \"the kimchee fire.\" i love complexity and nuance in people, books, and situations.    when i'm at the airport, i stand in the bookstore skimming all the trashy magazines before purchasing harper's, the atlantic, or the economist (i know, it's irritatingly conservative, but they present the most comprehensive coverage of world politics out of any mainstream mag).    i know people love to say they travel on this thing, but i really, really, love to travel. not only do i love it, i have intentionally planned my life to include it, lived in three countries and traveled to over thirty. my favorite places include colombia, ethiopia, syria and iceland.    what else... oh, i hate games. my friends give me so much shit about this, but i can't help it. suggesting a board game night or playing pool is a giant turnoff. i'm not into pushing miniature figurines across a table or playing mental geometry with a stick and a ball. if you wanna hang out but are too nervous to make eye contact with someone over a beverage, we probably wouldn't make a very good fit. \n",
      "\n",
      "\n",
      "i was born in south africa and have spent more than half of my life in the u.s. i don't talk to strangers unless they speak to me first, i can't type properly and i like to listen to my music really loud. i am easily distracted, addicted to caffeine and my comments usually receive one of two responses....laughter or a dirty look. i also love making up words and dancing into the early morning hours. i enjoy nature too and love to visit the ocean often.    i have trouble sleeping..    i am a dreamer, restless, and my toes are cold \n",
      "\n",
      "\n",
      " \n",
      "\n",
      "\n",
      " \n",
      "\n",
      "\n",
      "\"janice, i apologize to you if i don't seem real eager to jump into a forced awkward intimate situation that people like to call dating. i don't like the feeling. you're sitting there, you're wondering do i have food on my face, am i eating, am i talking too much, are they talking enough, am i interested i'm not really interested, should i play like i'm interested but i'm not that interested but i think she might be interested but do i want to be interested but now she's not interested? so all of the sudden i'm getting, i'm starting to get interested... and when am i supposed to kiss her? do i have to wait for the door cause then it's awkward, it's like well goodnight. do you do like that ass-out hug? where you like, you hug each other like this and your ass sticks out cause you're trying not to get too close or do you just go right in and kiss them on the lips or don't kiss them at all? it's very difficult trying to read the situation. and all the while you're just really wondering are we gonna get hopped up enough to make some bad decisions? perhaps play a little game called \"just the tip\". just for a second, just to see how it feels. or, ouch, ouch you're on my hair.\"    if you don't know what this is from, we might not get along. i'm in school and plan on getting my masters in library science after i get my ba, i work part time at a beauty store, i love movies, concerts, and giants games, i work out when i have time, i'm fluent in sarcasm and allergic to ignorance. i like to read the newspaper, work out while watching the giants game, travel, have board game nights, go on drunken 3am jack in the box runs, and shop... online. \n",
      "\n",
      "\n",
      "i build stuff, mostly related to technology and people and music and statistics. \n",
      "\n",
      "\n",
      "lion-tamer \n",
      "\n",
      "\n",
      "newcomer to the bay area. looking for some new friends to explore the city with. \n",
      "\n",
      "\n",
      "i'm from the bay area but currently live and work in boston. i'm back in berkeley for the summer, however, and am looking to meet fun, opinionated people who like to talk about literature, politics and the arts and are also into staying fit. i'm a big cyclist and runner and always like company. \n",
      "\n",
      "\n",
      "she's one part soul,  two parts feeling,  three cups full of bottled lightning.  she's four parts rock n' roll,  five parts believing.    (i am a ridiculous daydreamer who'd rather be funny than serious, who pretends to be more of a badass than she really is. i prefer dumpy bars and diners over fancy restaurants, adventure walks around town over \"shopping\", slumming it over 5 star hotels and shitty old cars that are built from spare parts and memories. im the least asian girl you will ever meet. and on a bad day i would seriously consider running over your grandmother for a blue bottle coffee....maybe. probably.) \n",
      "\n",
      "\n",
      "i am a deep diving soul explorer, with beautiful heart and much love to share. my passions dance me through the world, one moment at a time. for the past 10 years i have been living a spiritual rich life, driven by authentic living a soul fire that burns bright.    with big energy, and deep wells of knowledge i am passionate about creating healthy relationships which enliven and fulfill.    my love languages are: quality time, physical touch, with a close third of words of affirmation.    i am beautifully complex, and loyal. i value  compassionate communication  highly, my other top values are <a class=\"ilink\" href= \"/interests?i=self-reflection%2c%0adepth%2c+commitment%2c+and+responsibility\"> self-reflection, depth, commitment, and responsibility    i seek those who are ready to dive deep into  relationship  to dance and weave together. are you ready for  authenticity  and  intimacy ? does your heart whisper the desire for companionship, and mutual affection?    i love hiking, and playing outdoors. most of my relaxation time is spent in the wilds. i love yosemite, the natural grandeur moves my soul, and reminds me of how truly precious we are.    i travel to teach, and share my bliss with the world. empathy, communication and connection are so vital. may we each touch the world, one moment at a time. holding each other as beautiful reflections, of something greater.    i am sensual, embodied, and spiritual.    the universe has challenged me to go on at least 2 dates this month...i will be dancing around sf and the east bay.    \"hello beautiful beings. seeking this month to move beyond the known and into the unknown...my aspiration is to go on at least two dates this month. i'm single, poly, sex positive, kinky being looking for available men who are open for serious explorations...the universe has challenged me to spread my wings...and i seek compatible, like minded souls to venture out with...do you hear the call?    dating adventures sought! please private msg me. with a little about yourself, and what touched you about my profile.    jumping off the cliff in vulnerability and trust...please goddess...let's fly.\" seeking: conscious, self-reflective, way-seers...outdoor enthusiasts...i am ready to try something new. will you be one of the lucky ones to take up the call? adventure is afoot. \n",
      "\n",
      "\n",
      "i find that life presents innumerable opportunities for growing in my ability to find wonder and joy in the river of life. sometimes i resist them, sometimes i paddle along, and sometimes i coast.    i value integrity and kindness in others as well as myself. i see everyone as a mirror, and i will get to know myself and life more as i get to know them.    i strive to be honest, with myself and others, about facts as well as emotions.    i am honest, open-hearted, and growing. my spirituality is important part of my life. \n",
      "\n",
      "\n",
      "just got started here so i am pasting in something from another listing so there is at least something here to read (maybe too much?!)    who am i?... that is a lifelong inquiry. might you be interested in exploring the depths of this question for each of us together?    maybe a better place to start is what brought me here. i have spent much of my time exploring life through my education, careers, participating in active and athletic activities, creating a home, and involving myself in self-realization and spiritual pursuits. as a part of this, i am blessed with a network of good close friends, and have enjoyed and grown in the intimate relationships i have had. however, up to this point, i have not put a lot of energy into pursuing a primary intimate relationship. i now feel ready to put in the effort needed to create this kind of relationship in my life.    i would like to have an intimate spiritual relationship where there is mutual attraction and mutual support for our highest intentions. i believe it takes some chemistry to overcome initial obstacles or resistances and that same chemistry may also present the personal growth needed to make a relationship and intimacy work. i am interested in finding someone to take this journey with me and who also has the intention of fully engaging the mind, heart, and body, in persevering through the thrills and challenges of relationship. i realize that all of this takes time and i am looking forward to seeing what comes of my efforts in the dating process. i figure at least i will meet a number of great people that will expand my network of friends.    some qualities of mine that i would also like to have in a partner are: honesty, loyalty, healthy living, curiosity, caring, affection, integrity, open communication, compassion, creativity, sensuous, a lover of nature, appreciative, and joyous.    i definitely have a serious side which is balanced with a quirky, silly, and playful one. i think that is why i appreciate the children in my network of friends and why they appreciate me. it also manifests through my love to dance (especially partner dancing) and my stints of doing synchronized swimming. i have a very romantic streak which i would like to have the opportunity to act upon. i like to be a participant in life by being active and trying a variety of activities and would look forward to expanding my experiences through the interests of a companion. some of my active pursuits include or have included: hiking, swimming (competitive and synchronized), dancing (mostly partner lately), kayaking, biking, volleyball, tennis, camping, t'ai chi, and exercising. i also spend time each day investigating my inner world through meditation and study of the teachings of the buddha.    for a long time period of time now i have used the lens of the teachings of the buddha to view and live in the world. \n",
      "\n",
      "\n",
      " \n",
      "\n",
      "\n",
      "hello there,    internet dating site and exposing some of my personal life is definitely not something i am totally comfortable with but why not, right? i've had this site for a little bit but rarely have a face pic up. the pics i do have are pretty much the only ones i have of only myself...climbing and me sitting in my house, hence the gratuitous shirtlessness. i assure you i'm not \"that guy\", really. here we are...    i'm very much a \"fuck it, let's go bowling\" type when it comes to how serious things have to be. if you can't laugh at yourself or look at things in a positive light try it out and get back to me.    i like working hard and having a great time doing it. i love being active and be it biking, running, or climbing i will be doing one or more of these things daily.    i'm this odd mix that bends certain social constructs. you'll find out more if you choose. \n",
      "\n",
      "\n",
      "i am a divorced dad of two beautiful daughters. as they have gotten older my time has become more available. this is a new venture for me and i hope to find someone to laugh and enjoy things with. i'm a native to the area having been born in san francisco but have lived on the peninsula for almost 30 years. i enjoy laughter, comedy, music, sports and all kinds of things. i'm hoping to find that special someone who can add to my life and teach me some new things. i believe that chemistry is only felt when you meet face to face. \n",
      "\n",
      "\n",
      "i moved to the bay area from north carolina and i'm looking to see what's out there. i'm into a lot of things including: sustainable farming, playing music, gardening, cooking, politics (international, u.s. and local), the new york times, good food and wine, architecture and art, journalism, public advocacy stuff.    i'm very jolly in life, so it would be nice to find someone who is also very happy in life. also i'm a little out there (but in a good way).    i'm 28 now and the short-term relationship game is starting to grow old. i wouldn't mind a longer-term relationship.    i prefer the countryside over the beach    i'm not a heavy drinker, i try to go to the gym at least 3 times per week, i force myself to eat at least 3-4 servings of green leafy veggies per day. \n",
      "\n",
      "\n",
      "i'm a huge dork and a slight nerd who loves to have fun and make people laugh. i don't consider myself 'too cool' for anything. i occasionally burst into song, and i love cuddling. \n",
      "\n",
      "\n",
      "i love adventure, loud music, and quiet time. i need the outdoors, and an active social life. i'n torn between wilderness, small towns, farms, and the city. trying to figure it out.    my friends often describe me as a hippy, and to some extent its true, but i found that the far out ways i rationalize the world bear little coherence with a desire for some all encompassing peace and love. the world is also full of darkness and pain, not acknowledging that, and its place in our own lives, is not only ignorant but dangerous.    one of the more recent inside jokes in my group of friends revolves around a group of people who going around scalping hippies in a sort of predator fashion. wearing their most elaborate scalps as trophy headpieces..    in any case.. i am very sensitive to acute social dynamics, i am often thinking about how we all effect each other in the world. i'd like to think that my presence is usually enough, and try to remain quiet, and let people peacefully go about their days. but sometimes its fun to throw people a little spin, its good for everybody \n",
      "\n",
      "\n",
      "my name is megan  and i love metal. out of my group of friends i am the one cracking the most jokes. i am the first person to say what other people are thinking but dont want to say. i love hanging out with my friends and going to concerts, going to petco with my geunia pig poncho. \n",
      "\n",
      "\n",
      "i am a bay area native  one of the few and the proud ;). i lived in chicago for a while for school, lived abroad for two years for the peace corps, travelled the world for a year, and i have been back for about 5 years now and loving it. i'm glad i took the opportunity to live elsewhere, because now i know how good it really is in the bay area.    i would describe myself as an optimistic, intelligent, and motivated person. i love learning new things and being outdoors. for example, two short term goals are learning how to make wine, and doing a century ride on my bike. both very doable, i think.    i also love travelling abroad and exploring new places and cultures. i've been to every continent now. for my latest trip, i spent two months in china. i wanted to do something really cool and adventurous, and china sounded like the most adventurous place i could go. i didn't know a word of chinese when i arrived, but it turned out to be an awesome trip! in the future, i would really like to sail from san francisco up to alaska. that may have to wait a while though, until i can afford my own sailboat :). \n",
      "\n",
      "\n",
      "ok. i had not thought i would end up on a dating site like this but here i am... i will try and update this soon but i will start off with this, i am a pretty much a dork. i really like to have fun and see those around me smile. that in turn makes me be happy. i've been told i smile a lot. ;) i love to travel, love a nice cold beer but also know how to enjoy a nice glass of vino, trying new things, having some good laughs at comedy clubs, and listening to great music at concerts (nothing like live music). oh and chivalry has not disappeared. i would have to say i am living proof. my dad raised me this way.    i am family oriented. i feel that i am well rounded. and as life takes me on its journey i only become even more so. i still have yet to go sky diving. i was a fat kid and pretty much a nerd in my younger years. maybe this is why i am such a dork now.    i like to dance and i love frozen yogurt! \n",
      "\n",
      "\n",
      "looking to spend as much time as possible enjoying natural settings--while also being physically comfortable. camping, hiking, yoga, outdoor sports, cuddling, and ideally dancing under the stars.    blessed with a great community of long-time friends, i am delighted to be 'child-free by choice'. love cooking healthy food, lively conversations (both silly and intellectual), massage exchanges and being physically active. enjoy having a cozy, calm home-base and exploring and being adventurous.    would love an man with whom to try: partner and acro-yoga, swing and other forms of partner dance, rock climbing, maybe zip cording...    in the upcoming few years i want to have periods of travel to beautiful retreat resorts around the world. would love to have a hunky, kind, wise man to pamper and explore with... \n",
      "\n",
      "\n",
      "-beginning to read more.  -in search of good conversation.  -randomly silly.  -serious when it counts.  -a person who works with his hands a lot.  -open minded  -likes to search fr the little things.    a work in progress... just like life. \n",
      "\n",
      "\n",
      "i am easy going, love living life to its fullest.  friends  and  family  are very important to me. i am loyal, relaxed, dedicated, and ambitious. i am interested in trying  new foods / adventures    i love to listen to all types of  music  and am always up for learning something new. i have a steady work ethic and a real passion for music. i can't go a day without listening to some sort of music!    i like the more simple things life has to offer. you know a walk in the park or on the beach, staying in and cooking.    if you want to know more just ask. drop me a line. \n",
      "\n",
      "\n",
      "i have gotten to know myself pretty well during this time of being single. i have become more peaceful, more kind (especially to myself) and more centered. i don't think i could have come such a long way without having spent this time alone. i want to believe that a love relationship is still available in my life. \n",
      "\n",
      "\n",
      "**i've fallen hard for an amazing dreamy woman and am currently in the flux of moving down to santa cruz to continue pursuing this blessed life of mine with my ladylove. and, i'm starting a new business!! that said, i've had some great success meeting friends here, and sc being a new town, it would be wonderful to meet some new faces and build up community down there (and in the bay at large). i'm right friendly, and still don't bite (hard). =]**    i have realized very recently that i need to get into some good natured mischief! i'm not exactly sure what qualifies as that, but burning man (first time!) showed me there are plenty of good natured mischiefers out there, so come out, come out, wherever you are! =]    my favorite new quote is: \"what we yearn as human beings is to be visible to each other.\" - jacqueline novogratz    this quote really hits home for me; probably because i'm a ninja whose invisibility skills have become so old hat that i sometimes forget how to turn them off.    my favorite old quote is: \"you only live once, but if you do it right, once is enough\" - mae west (dear lord i love that lady)    i'm a curious sort of gal, both in personality and thirst for knowledge. somehow i come off as intimidating or standoffish, when i'm really cuddly and warm. i don't mind being quiet, but i know i'm at ease with someone when i can't stop talking. i think i'm also kind of shy. i know. i'm working on it.    i believe in energetic connections and attractions, even when they don't seem to make sense...    ...and on that note, since ok cupid does a poor job with the classification \"bisexual\", i'd say as the term queer has opened up to be a beautiful spectral representation, queer suits me fine. i don't fit into molds, and don't expect you to either.    i wrote this several years ago, and reading it, i think it still exemplifies a good deal of me:  we are all connected. our existence is a beautiful gift that we as living beings should respect and share with everything and everyone around us. i feel a deep connection to all the energy surrounding me, and feel that connecting truthfully and openly, i am propelling the flow outward and into the universe of infinite possibilities. i love to listen. i long for witty conversation, uninhibited emotion, sunshine, fresh air, lush greenery, peace, happiness, friendship, comedy, and positive energy.    nuff said. \n",
      "\n",
      "\n",
      "i am happiest when, at the end of the day, i have at least one experience worthy of a tabletop re-enactment involving salt and pepper shakers. bonus if the sugar packets have to get involved. \n",
      "\n",
      "\n",
      "most of my friends call me babble or babbs. i'm a computer savvy design geek who constantly needs to be creating. i get paid to work with digital media, but i love busting out my pretty patterned papers and glue. \n",
      "\n",
      "\n",
      "i am an easy going girl. i love to laugh and have a good time. i went to culinary school and work in the food industry. i am major foodie! good food and good wine = good times! \n",
      "\n",
      "\n",
      "software engineer who enjoys food, games, hanging out with friends, watching movies, volunteering, and having fun in life.    i spent all my life in the sf bay area, and studied computer science at uc berkeley and graduated in dec 2005. i'm now working as a software engineer in silicon valley.    i've also started indoor rock climbing, so if you're looking for a partner, please let me know!    i've also been exploring and eating in the city, looking for volunteer work, watching movies, and going to museums. if you're interested in any of those, just let me know, and i'd be glad to set up something! \n",
      "\n",
      "\n",
      "i'm excited to be back in the bay area at long last! i'm grew up in the north berkeley hills but headed east for college. since then, i've moved around with stints in boston, rhode island, chicago, paris, and, most recently, melbourne. i loved the active, outdoorsy lifestyle in melbourne and i'm hoping to recreate that here in san fran. looking for a partner for exploring and enjoying all that the bay area has to offer. \n",
      "\n",
      "\n",
      "hello, so i guess its that time in life where i am suppose to start looking to settle down with a my \"special-friend\" as my lovely mother so eloquently puts. i guess she is right. and so the adventure begins...    a little about me...  --i enjoy singing but only when no one is looking  --i recently graduated with my mba in finance and international business  --i like to think i am comedian, opening for russell peters at the laugh factory  --i love sports and try to live an active lifestyle  --i enjoy traveling and have recently visited china, india, u.a.e. and turkey  --i have recently learned how to cook, its still a work in progress    i would like to meet...  --someone who enjoys traveling  --someone who is ambitious and confident  --someone who will laugh at my not so funny jokes  --someone who is slightly interested in sports would be nice  --someone who enjoys randomness would also be nice    intrigued? interested? curious? send a message or wink, let see where this goes. \n",
      "\n",
      "\n",
      "i am originally from southern california, moved up here for college, fell in love with the craziness of san francisco and stayed. i like live music and drinking beer. i like staying up late and going to bed early. i like reading and i like watching tv. i like good people and good food. i like things that make me think and people that make me think even more.    i am friendly, considerate, and easygoing \n",
      "\n",
      "\n",
      "i am a confident, smart, loving, spiritual, super creative and multifaceted human being. my ideal match would be someone who is confident, bold, daring, hilarious and flippen brilliant! i love amazing people and i think that people in general are fascinating!    i know myself and am continually learning - i would love it if i could meet someone who shared my passion for life and who has a willingness to experience life's silliness! and by silly i do mean silly! ohhh yah! \n",
      "\n",
      "\n",
      "this is so hard!    i grew up in dallas, tx. my asianness cancels out any southern accents.  i graduated from college in illinois, graduate school in palo alto, ca, and am currently working in west la.    i'm a pretty shy guy, but i'm alot warmer once someone gets into my comfort zone. i like to play games, hang out, ponder the mysteries of the universe, eat, watch tv shows, anime, movies, read books, and occasionally hit balls at the driving range or play electric guitar. i'm pretty competetive, so i try to be good at everything and end up not being extremely good at anything :p    i am whimsical, intellectual, and independent \n",
      "\n",
      "\n",
      "i live a double life--one half dorking out with my job in  video games  (and they said those hours in front of xbox in college wouldn't amount to anything....) and the other half going out and doing party photography and party drinking. it takes a lot to fluster me as i can pretty much get along with any type of person, whether they be unsocialized neckbeards or unemployed hipsters. just give me a stiff makers mark and we're good to go.    i am stable, clever, and straight-forward \n",
      "\n",
      "\n",
      "i'm from the midwest, michigan to be exact, and grew up in a couple places actually but mostly on air force bases: the philippines, southern california, the u.p. and lower michigan, texas, new york, stayed a bit in the yucatan, california, georgia and now i'm back in california...and it feels really good to be back. \n",
      "\n",
      "\n",
      " \n",
      "\n",
      "\n",
      "i lead a busy schedule, but i am always willing to add new things and meet new people! i just moved to the bay area last nov so i'm looking for fun adventurous people to show me around and if it goes anywhere, thats nice too.    i may not be good at everything, but i enjoy trying!    i love the water, miss the ocean, and am still adjusting to nor cal weather. :) \n",
      "\n",
      "\n",
      "hey everyone. my name is david. i grew up in fort lauderdale, florida, about 600 feet from the  beach  (with condos as far as the eye could see). i spent a lot of the time on the beach, hanging around resorts, and lot of time  sailing . i practically grew up on sailboats. \n",
      "\n",
      "\n",
      "i wanna go bowling, i think..........  anyone? \n",
      "\n",
      "\n",
      "i recently moved to sf to experience the city and live closer to my friends. i am a peruvian and i teach zumba in my free-time. i love going out with my friends on the weekends and also staying active. i'm laid back and easy going, and mostly just looking to meet new people. \n",
      "\n",
      "\n",
      "i am a neurotic but mostly sane individual who seeks out what fleeting moments of happiness life has to offer. i usually find it in the company of friends, a good and twisted book or movie, a decent cocktail, or in my own imagination.    my pursuit of this goal has mellowed in recent years. i no longer feel the need to channel the spirit of john belushi in order to have a good time, as i did in my early 40s. my hedonistic pursuits are now more appreciative of more lasting pleasures and i am now more likely to pause and think about whether an activity is something i really want to do.    i like to think of it as midlife crisis 2.0.    oh, i should probably mention that my sense of humor can be a bit over the top. measuring in milli-south parks, i'd say about 1,500.    although beauty can take many forms, i definitely do have my preferences when it comes to what i find attractive.  intelligence is a must. i'm not insisting on an advanced (or any) degree, but i do relate best to those who are brighter than most. in addition to sheer brain power, i value an unorthodox/subversive/perverse take on life and the type of sense of humor that comes with that mindset. above all, please have an open mind. if your religion, ideology, or laziness is reason enough for you to steadfastly see only one point of view, we're just not going to get along.    physically, i prefer women who are solidly built rather than delicate waifs or the fluffier bbws who have no muscle to speak of. i especially have a thing for women with broad shoulders and strong arms. maybe it's borderline autism or i don't know what, but i really like to feel squeezed when i'm getting hugged.    then again, maybe i'm just a pervert. i do enjoy some level of kink (i am naturally bottom-leaning but am willing to switch). the d/s thing does nothing for me though. i have no desire to control someone's life and don't want anyone controlling mine. \n",
      "\n",
      "\n",
      "sha zam \n",
      "\n",
      "\n",
      "i'm a classically trained baritone singing tenor around the bay area working as a software engineer for a startup networking company. in an effort to make the world a better place, i spend a lot of free time hacking open source software to improve \"fidelity of care.\" all other times i am either at some choir rehearsal, jamming durufle on piano and electric guitar with my buddies, or doing yoga. or working. or sleeping.    i am curious, whimsical, and watching. \n",
      "\n",
      "\n",
      "hi strange men! i just moved to cali from missouri in december 2011. i have a weird/meanish/sarcastic/dark sense of humor which you will only find the true extent of if i decide i really like and trust you (which is extremely rare, not to threaten you...). i'm seriously witty and funny, a complete smart a**, attractive (i think so lol), surprisingly sensitive ( i hear this a lot...\"oh, you can dish it out but you can't take it!\") and a crap ton of fun. very liberal and open minded. looking to meet new people and go out for dinner/drinks/movies etc. nothing serious (right now). \n",
      "\n",
      "\n",
      "hi i live in sf enjoying the many things life has to offer and i try to take advantage of living in an amazing city! i am kind, honest, friendly and having as much fun as possible. \n",
      "\n",
      "\n",
      "i am addicted to cycling. i bike everywhere. i almost irrationally love san francisco. i live on a sailboat. i enjoy losing myself in a reverie. i absolutely love dancing. i went to school for many, many years. i bartended in n beach for many years to balance the academic part of me out. i'm an over the top flirt. i'm gregarious as all hell and live for meeting new people. i enjoy creating staccato, machine gun fire like sentences that all start with \"i\". i'm melancholy over love lost and enjoy getting lost brooding over such memories. i bike around 100 miles a week, am in the gym 4-5 days a week and yoga for 2 days a week. \n",
      "\n",
      "\n",
      "i really hate having to write about myself, but its probably best i put something down longer than a single sentence. i'm a full-time chef for a fine dining restaurant here in the east bay. i'm pretty much a workaholic, i love being at work and being busy, because of my schedule i'm really only available in the mornings and early afternoons. which makes meeting new people somewhat challenging.    in my free time i like to go hiking, hang out with friends playing board games, seeing a movie, pretty much anything to get out of the house, although lazy days are nice once in a great while, but i prefer to stay active. \n",
      "\n",
      "\n",
      "you have to start from the beginning, right?      it was a dark and stormy night. the power was out. the man and woman looked at each other intensely. there was nothing to do except [censored]    sorry about that, that was totally inappropriate! let's jump forward a bit.    i have an interesting heritage. i was born in philadelphia, my brother was born in jerusalem, my parents are from argentina, and all my grandparents are from eastern europe. so i grew up with an interesting mix of cultures. that's certainly rubbed off on me with the things i learned to cook! there's polish dish i make called \"burnt potato\" soup, which i swear is more delicious than it sounds. then there's guacamole, milanesa, latkes... i also make one mean empanada (buenos aires style, with raisins).    i have an overactive mind. i love learning and creating. i dabble in a whole bunch of creative activities, like improv, standup, piano, and music composition. the music i compose is in a baroque/romantic style, and some of it is actually pretty good!    one of the best decisions i ever made was starting my blog. i find blogging to be an incredibly stimulating activity. i like to tell people that \"you should blog even if you have no readers\" because the act of writing is such a powerful way to organize your own thoughts. fortunately though, i do have readers, and as my writing has improved i've developed a pretty good following. my posts usually net over 40k views.    ever since i graduated i've been working in startups. i love it. my last startup was acquired about 7 months ago which has been exciting to say the least. my goals in life are really massive and i'm fortunate to be in a position to make progress on those goals.    what else? well i'm a bit of a foodie and know the restaurants in this area very well. whether it's hummus, crepes, borscht, dosa, or oysters, i know the best places in the bay area to get them. it took a long time to discover these places so it's good i'm planning to be in the bay area for a long time! \n",
      "\n",
      "\n",
      "hi my name is haley and i am a sweet and funny girl who loves to laugh and have a great time whenever i go out (dinner and drinks with my friends, etc.). i also love to go to the beach, concerts, the movies, museums, camping, traveling, swimming, shopping, my cabin in tahoe (echo lake), my condo in napa (silverado), hula-hooping, and riding my vespa scooter around.   i'm originally from the sf bay area (redwood city) and recently moved back to the bay and am living in sf (in the marina) because i transfered jobs from ucla to ucsf. i was living in santa monica for 6 years attending grad school and working for ucla. i have a huge passion for working with young children and have been ever since i was a child myself, and now i work for ucsf and am the supervisor of the ucsf pediatric clinic and i love it!   so, i am looking for a nice, funny, university educated (white/tan : ) guy who knows how to treat a girl right and can appreciate a girl w/ some curves. i like tall guys with great smiles who like to laugh and knows how to balance themselves between work and pleasure. i like guys who can go out and have some fun   have drinks/dinner with me and maybe some friends but also loves to cuddle and be romantic. let me know if we would mesh well together! ciao ragazzi :)  \n",
      "\n",
      "\n",
      "here is a brief rundown;  im a certified massage therapist and i play bass in a hard rock band. i am also trying to start my music production company... i have tattoos, im chill, and i like to stay in shape. im looking for someone to have fun with and enjoy our time together regardless of what we are doing and connect with. i am a passionate person, like dogs, tattoos, the supernatural and im 420 friendly, but you dont have to be. i love movies, music (i like most types) and seeing live music. sometimes i hike in the oakland hills. body type doesnt matter to me and i enjoy staying in as much as going out. i like most sports, especially football. im very motivated in persuing my passion that is music and taking it as far as it can go. not into drama, games and b.s. if your still reading then congrats to you. lets chat and you can know more. \n",
      "\n",
      "\n",
      "just trying the cupid thing so don't really know the etiquette :)    i'm a science geek, a physicists actually, working on an education start-up. i'm from south america but have lived in the states most of my life.    i'm well traveled although i haven't been to asia yet. its on my list.    love good food, good company, new challenges. \n",
      "\n",
      "\n",
      "       enjoying      music            interior design  all things  vintage     aesthetics!    oh, and     if you liked  the jerk    hey look, a survey!       could easily be  the royal tenenbaums ,  the muppet movie my fair lady .  almost famous  is another that might tie with  high fidelity  or  le fabuleux destin d'amlie poulain  ( amlie      i'd wake up with sunlight on my face, make a cup of  coffee , listen to  french pop  or  peggy lee  and make breakfast in my robe. then i'd  bike  down to the ferry building where i'd purchase fresh bread and tomatoes, browse books and buy a pretty scarf. i'd enjoy a cup of coffee   and watch the  sailboats  in the bay. maybe a bloody mary would find its way into a  creole  inspired lunch with a friend. add   and  sunglasses      say \" \" to  life ,  love  and  adventure ! and anyone who will attempt to  keep up with me      a   girl.      a part of the greatest adventure of our lives!    we don't have to know where life will take us, but we want to create our  partnership  and (eventual)  family  with lots of laughs along the way.      open a  community arts center , travel often, live in a cottage and get a dog.      a comfy chair, a glass of  wine  and a  loud   record player . \n",
      "\n",
      "\n",
      "i am a fun and easy going person that likes to be surrounded by good spirited people. life is too short so drama stay away from me. i would like to meet people that are honest, know what they want and are willing to meet in real life. \n",
      "\n",
      "\n",
      "likes: grilling, alta, boulder, jackson hole, nantucket, redeyes, and manual transmissions.    dislikes: reality tv, the middle seat, foursquare, pcs, cloudy days, and the ny yankees. \n",
      "\n",
      "\n",
      " \n",
      "\n",
      "\n",
      " \n",
      "\n",
      "\n",
      "intelligent, an introvert, not a big sports guy. i would like to find someone intelligent, emotionally stable, physically active, someone who likes the outdoors. it would also be great to meet someone who can carry on an interesting conversation. \n",
      "\n",
      "\n",
      "aye ain't much fer talkin about m'self. more fer hoistin' sail an' weighin' anchor than flappin' me gums. ay've spent a lyfe at sea and that's all ye needs to know. aym goode at climbin' th' riggin' an' swabbin' the decks. aye knows the value of a sharp cutlass an' a fair wind. goode at all aspects of professional piratry includin' boardin', pillagin', plunderin', haulin' swag, dividin' booty, encourain' prisoners walk th' plank. specially keen fer midnyte treasure duty. both th' buryin' an' diggin' up kinds as aye knows all about maps an' curses an' double an' tripple crossin'. very goode at entertainin' lady captives with sea yarns an' shanties while waitin' fer her ransom. \n",
      "\n",
      "\n",
      "i'm an easy going guy that would like to meet new people and see new places. \n",
      "\n",
      "\n",
      "hi. let me start by saying, i'm tall 6'3'', good looking, athletic (into sports big time), love the outdoors and pretty social. i like reading and keeping up with news and friends. my schedule is usually busy as my job is very demanding but i manage to make time for important things in my life. i don't take myself too seriously, i enjoy a good company and a laugh. \n",
      "\n",
      "\n",
      "i grew up on a flower farm in the central coast--before it all became wine country. spent most of my summers growing up backpacking in the sierras. went to undergrad at ucla and then ran away from la to the pacific northwest.    i'm currently working on a doctorate in clinical psychology. i have an mfa in writing and poetics from the jack kerouac school of disembodied poetics, but i'm not quite disembodied as yet (and not sure if that is even an aspiration). there's another master's degree in jungian psychology tossed in as a prelim to my current schoolin'.    art, music, and books are the trifecta of inspiration for me (the outdoors too, but quad-fecta just doesn't sound as good, right?). i like staring at a painting until i forget what time it is, my eyes lose focus, and the space between myself and it blurs. i'll devour some books in one sitting and others i'll nibble through for years (i read more than one at a time). i miss kexp in seattle, but i'll stream it online sometimes to get my northwest indie music fix.    i've always admired the beats, but i'm really glad that i wasn't one of them (they had way too much angst in their lives). i tend to have interdisciplinary interests, and like to see the interactions between seemingly divergent ideas. i analyze a lot, myself, others, society, and that's probably why i love to ramble outside so much--it pulls me out of my head, into the world and into my body. running down a trail in pouring rain and swirling wind is just a smidge away from heaven for me.    my friends will say i'm a great listener, that i support them unconditionally, but also that i can be a hermit at times. i've been called a trickster, and i do like to play--letting that six year old out is good fun sometimes. i seem to bond easily with kids and animals (cats tend to stalk me wherever i go).    i'm looking for someone who likes to laugh a lot, enjoys time outdoors, but also loves what cities have to offer. honesty is really important to me, in myself as well as in others, so i'm not really interested in anyone who doesn't have the courage to look closely at themselves or their world.    politically, i am on the far left of the spectrum, and although i am friends with people with different ideologies, if the daily show makes you angry because of its 'socialist' leanings, we won't be a good fit (or if you watch fox as a legitimate source of news). \n",
      "\n",
      "\n",
      " \n",
      "\n",
      "\n",
      "queer, chicano, progressive, a good kisser, introspective, intelligent, well read, good humored, sometimes i'm chill, sometimes i want to get my groove on. recently returning to the bay area from 2 years of on and off traveling around the world, and spending time with my family....i've answered a few of the question on here but not totally sure why, many not well written, and most are not queer specific questions/pertinent, or leave you with only two choices when i would like many choices. i really hate tests. does the person who answers the most questions win? did i tell you that i have quirky, sense of humor? \n",
      "\n",
      "\n",
      "i am a 31 y old entreprenuer who owns my own business. i currently  live in san francisco and find something mysterious and sexy about  the fog. dont get me wrong, i do love when the sun shines on this  city and because of the fog i can appreciate it even more when it  does. i am orginally from walnut creek california. i enjoy a wide  variety of things from reading to going on hikes around the bay. i  also am an avid giants fan. have been my whole life. i also enjoy  spending time with my wonderful friends and lovely family,  especially my munchkins (nieces and nephews). \n",
      "\n",
      "\n",
      "a little bit about myself:    well first i would say i love california. i hate stress. i am a person who values relaxing, staying in shape, and going on adventures over material crap. i'm not looking to impress people with what i do or the things i have.    i love screaming at the tv while watching sports.    i am looking to meet someone who gets what i said above and is up for a good time. i am not looking for anything in particular but love the uncertainty of this whole online dating thing. \n",
      "\n",
      "\n",
      "energetic, fun and funny, honest, genuine, and passionate describe me well. you will be able to keep up with my energy level, enjoy both the outdoors and a nice dinner out with live music (not necessarily together), love to laugh, be able to be spontaneous and well planned when needed, and just fun to hang out with on the couch or by the fire pit with good conversation. \n",
      "\n",
      "\n",
      "i am kind of an odd ball; i was raised abroad, i tend to question the rules, and have trouble accepting the status quo. i am verbal and analytical. i like a thoughtfully-crafted joke. i like word play. i am devoted, witty, and resourceful.    i am optimistic but realistic. i am sarcastic but sensitive. rugged but nurturing. urban or rural, outdoorsy and indoorsy. irreverent but polite. i am charming but not easy. (well, kinda easy).    i lived in   for a long time and moved to california a few years ago so i have a lot to discover.    i like to design and build things. i think doing projects with some one you like blurs the line between work and recreation.    i believe in the joy of giving; not in dramatic acts of generosity but in small and continuous ways. if both parties are predisposed to offer something of themselves on a daily basis then i believe their own needs will be met. i guess it's the same thing john lennon was getting at when he said \"in the end, the love you take is equal to....\" yada yada.    my kids live with me half the time and, although everybody says this about their kids and their dogs, they really are great. i am proud of the job i have done so far.    i'm looking for a woman that may have made some mistakes but has learned from them and remained happy and optimistic. i have done a lot of work to become aware of the flaws in my original programing. i am often to attracted to women who have had some trying experiences.    i guess you could say that i'm on this site so that i can get off... of this site. \n",
      "\n",
      "\n",
      "i am fiery - as quoted by nearly everyone who has met me.    i'm a born and bred sf bay girl. i believe in making the most of every moment, never looking before you leap, not crying over spilled milk, doing unto others as you would have done unto yourself, carpeing the diem, and living your life according to cliched proverbs.  i am still uncertain on my stance on the oxford comma.    i travel as often as possible and have lived abroad for over 2 years, calling upon on my miming abilities frequently with varying degrees of success. oddly, i was able to procure a mosquito net in a rural market in borneo in less time than i was able to buy a sandwich from the sandwich cart lady in metropolitan vietnam. classic miscommunication - she thought i was trying to rob her. \n",
      "\n",
      "\n",
      "**interested in friends only**    i suppose i should be clear about who i am and what i am about - i am a kind hearted person, though can appear to have a hard exterior at first. i appreciate the finer things in life, traveling, delicious food, life's small luxuries like watching the sun set on the ocean while sipping a cocktail... i like to read and share my knowledge. i like to plan events for my friends and myself, pick out special gifts for people i love, go to museums, walk around balboa park, eat dessert, play tennis, go urban exploring, get dressed up to go out, eat decadent cheese, listen to great music, learn, spend time with friends... i may be here awhile if i list it all. i'm an enfj.    i actually found my wonderful fianc on this site! now i'm using it to find potential friends in the area since i just moved up to san carlos from san diego recently. i'm looking for like-minded people who are interested in grabbing a drink and exploring the restaurant scene nearby. \n",
      "\n",
      "\n",
      "i started writing something, then realized i was answering the \"what i'm doing with my life\" section. i guess that means i am composed entirely of (trying to) doing (do) something with my life? well, i guess not, when i have the time, i try and be funny...i like laughing and/or making people laugh. i like people with a quick wit, that'll fire back at you when you jab at them and so on. i tend to sink a lot of time into studies and planning the future out right etc etc, but i like/want/need to let go and relax sometimes.    lately (since graduating), i've had a lot more time on my hands, though i'm still working on research related to a paper (yes, a math paper) i published last year.    i'm definitely a bit of a nerd (would i be a mathematician if i weren't?), and i'm actually rather shy even if i (think i) hide it fairly well.    edit: after writing this whole profile out, i conclude that i am also incapable of injecting humor into little online boxes (results are inconclusive regarding offline ones), or being very expressive at all for that matter. \n",
      "\n",
      "\n",
      "i was born and raised in san francisco, haven't lived anywhere else and i'm not sure i want to.    started playing arcade and video games early and often, which, through a couple twists and turns, led me to my current career. take that guidance counselors.    love going out and spending time with friends, grabbing a few drinks and a meal, a movie, whatever. i've been trying to make more time for it because of my inclination to geek out on the computer or to tune out with the tivo or a movie.    i am open minded, laid back, and mildly entertaining. \n",
      "\n",
      "\n",
      " \n",
      "\n",
      "\n",
      "tall, easy-going, well-educated, voracious reader, creative and passionate, yet always practical. i love problem solving - that's why everyone brings them to me for resolution. i am meticulously clean and appreciate that in others. i have traveled and studied in three continents and have been truly humbled by the amazing array of talented and caring people i have met in some of the most unlikely places on the planet. i love listening to others - everyone has an amazing and unique story that deserves to be heard.    i am smart, passionate, and easygoing \n",
      "\n",
      "\n",
      "i've found myself to be a binary actor, doing things in extremes to find balance. on my first grade report card, the teacher described my humor as dry. i'm an east coast kid with about seven years of bay area tempering. recently moved from san francisco to menlo park and feeling an awful lot like the city mouse. \n",
      "\n",
      "\n",
      "so i have finally bowed to peer pressure and decided to give these online dating websites a shot. i've heard some success stories so i figure why not give it a shot. i'm only cheating myself if i don't at least try. so ladies, prove to me that i made the right move.    i'm not one to talk about myself but i have to put something here...so about me.    i like to think i'm just a normal, nice, down to earth guy just like everyone else here. i'm more of a homebody than someone that goes out clubbing every weekend. sports is my passion, especially the local teams giants, 49ers, warriors, so big plus if you are into the same. but before you think i just sit on my back all day watching tv, i do make it a habit of hitting the gym at least every other day. other things i like to do: summertime = giants games at at  t park and wintertime = snowboarding in tahoe and anytime is good for a vegas trip. there's a bunch of places i want to go to but haven't yet and things i want to do but haven't had a chance to do yet for whatever reason. maybe you can be my partner in crime.    hopefully you read something on here that clicked with you. send me a message. we can do the whole email/chat thing and see what happens! talk to you soon! \n",
      "\n",
      "\n",
      "i moved to the city from the east bay a year ago after finishing my first year of law school, and am never going back (except for the obligatory family visits of course). i love sunny weekends in parks, nights out, exploring my neighborhood, and urban hiking. \n",
      "\n",
      "\n",
      "i am originally from the san francisco bay area. for most of my adult years i lived in many places ranging from southern california to napa to new york city so i delight in rediscovering this zip code since i returned home. i love this city and hope to meet someone who never tires of exploring it. i'm especially at home in napa...in fact the wine country is not only a desirable weekend activity, but one i can't live without, especially in the fall.    i work in the city for a big and busy company so come weekend time i retreat with friends to dine and drink wine and make the most out of the downtime. i believe in constant humor, loyalty, courage and honesty.    i am looking for someone who wants to enjoy doing the simple things-- the everyday stuff as much as the amazing things that the bay area has to offer. i am looking to meet someone equal parts intelligent equal parts silly. your determination toward anything you love or have passion for will inspire me infinitely. your sense of humor (above all other qualities i hope to find) is paramount. it would be a huge plus if you were into music and occasionally were game for a bike ride. \n",
      "\n",
      "\n",
      "i'm a southern girl from tennesse who moved to new york city and ended up in san francisco last year for work. i love my job, my friends, my family and the simple things in life! i'm smart, caring and will almost always have a smile on my face! i'm a little sarcastic and am willing to try most things at least once! \n",
      "\n",
      "\n",
      "[5/17 sorry for the late responses, school and shows are eating up all my time.]    i'm austin, a suburbanite refugee in the big city.  i enjoy music, discussion, trouble making, exploration, acting silly and periodically nerding out. oh, and dancing.    enfj / entj. aries. a work in progress. a gentleman. a realistic optimist at your service.    i'm not looking for love, i'm looking for conversation over cigarettes or a friend with a sense of adventure and an internal gps. perhaps if the fancy strikes, something more?    you can never go wrong with blunt honesty.  i also have a horrible memory, ack. :/ \n",
      "\n",
      "\n",
      "i am a stranger in a strange land. i am originally from baton rouge, louisiana. i am southerner. i say \"please\" and \"thank you,\" \"yes ma'am\" and \"no, sir;\" i hold doors open for ladies and also walk closest to the curb. i've been told that i have bit of a drawl.    words here seek only to mimic experience, an ill-fitting substitution. i am awesome in surprising ways (even to myself). past girlfriends have told me i taught them new things or broadened their horizons. cool.    i am complex-icated. i am a charming nerd. i possess a rapier wit and have been accused of being poetic. i am straightforward and forthright. all the ways i dreamed i could be, that's me. i look like i want to look. i fuck like i want to fuck. i am smart, capable, and most importantly i am free in all the ways that so many are not. \n",
      "\n",
      "\n",
      "i'm a creative, intellectual type living in san francisco. i'll fulfill most of your expectations of a taurus... down to earth, loyal, stubborn. i was born, raised, and schooled in wisconsin, which is still apparent when i say the word 'bag.' i've traveled quite a few places in my day but i'm more into being a homebody as of late. i can be a bit shy. i love to be contradictory whenever possible :) my politics are quite left leaning but my interests are relatively mainstream. i have a dry sense of humor and a keen sense of style. i love my family and friends dearly and tend to gush about them often! i'm a horrible speller. \n",
      "\n",
      "\n",
      "i grew up in the east bay but moved to san diego after high school. been back for almost 2 years, after being there for 8. loved it in sd but there's nothing like home. trying to make new friends and find my place in this busy city.    i am very laid back, go with the flow type of person, but very motivated and competitive. i stay active by playing sports, usually a few times out of the week. always playing basketball or football, rock climbing, frisbee golf, anything that gets me out of the house. im the oldest, with 3 brothers and 3 sisters, and pretty close to all of them.    as for hobbies, playing sports, going to the gym, taking the motorcycle out, anything active. i love the outdoors, camping, tubing, fishing. there's nothing like looking up in the sky at night in the middle of the woods. also love the ocean, probably the biggest thing i miss from san diego. i'm always down to try something new, cant say i don't like something if i've never tried it. \n",
      "\n",
      "\n",
      " \n",
      "\n",
      "\n",
      "athletic asian girl who loves turtles and horses. oh, and hotpot. \n",
      "\n",
      "\n"
     ]
    }
   ],
   "source": [
    "for i in range(0,201):\n",
    "    print(data['essay0_mod'][np.random.randint(0, data.shape[0])], '\\n\\n')"
   ]
  }
 ],
 "metadata": {
  "kernelspec": {
   "display_name": "Python 2",
   "language": "python",
   "name": "python2"
  },
  "language_info": {
   "codemirror_mode": {
    "name": "ipython",
    "version": 3
   },
   "file_extension": ".py",
   "mimetype": "text/x-python",
   "name": "python",
   "nbconvert_exporter": "python",
   "pygments_lexer": "ipython3",
   "version": "3.6.2"
  }
 },
 "nbformat": 4,
 "nbformat_minor": 1
}
